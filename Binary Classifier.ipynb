{
 "cells": [
  {
   "cell_type": "markdown",
   "id": "aa817dc5",
   "metadata": {},
   "source": [
    "# Data Preprocessing"
   ]
  },
  {
   "cell_type": "markdown",
   "id": "0a2dbf57",
   "metadata": {},
   "source": [
    "## Imports"
   ]
  },
  {
   "cell_type": "code",
   "execution_count": 1,
   "id": "87bd9d64",
   "metadata": {
    "ExecuteTime": {
     "end_time": "2022-11-17T16:35:28.014448Z",
     "start_time": "2022-11-17T16:35:26.009320Z"
    }
   },
   "outputs": [],
   "source": [
    "# Basic imports\n",
    "import pandas as pd\n",
    "import numpy as np\n",
    "import copy\n",
    "import re\n",
    "\n",
    "# Visualization imports\n",
    "import matplotlib.pyplot as plt\n",
    "%matplotlib inline\n",
    "import seaborn as sns\n",
    "\n",
    "# sklearn imports\n",
    "from sklearn.experimental import enable_halving_search_cv\n",
    "from sklearn import metrics\n",
    "from sklearn.metrics import accuracy_score, confusion_matrix, classification_report, plot_confusion_matrix, roc_curve, roc_auc_score\n",
    "from sklearn.feature_extraction.text import TfidfVectorizer, CountVectorizer\n",
    "from sklearn.model_selection import train_test_split, GridSearchCV, HalvingGridSearchCV, HalvingRandomSearchCV\n",
    "from sklearn.ensemble import RandomForestClassifier, GradientBoostingClassifier, HistGradientBoostingClassifier\n",
    "from sklearn.naive_bayes import GaussianNB\n",
    "from sklearn.pipeline import Pipeline\n",
    "\n",
    "# NLTK imports\n",
    "import nltk\n",
    "from nltk.tokenize import TweetTokenizer\n",
    "from nltk.corpus import wordnet, stopwords\n",
    "from nltk import pos_tag, WordNetLemmatizer\n",
    "\n",
    "# NLTK downloads\n",
    "# nltk.download('averaged_perceptron_tagger')\n",
    "# nltk.download('wordnet')\n",
    "# nltk.download('punkt')\n",
    "# nltk.download('omw-1.4')\n",
    "\n",
    "#For Warnings\n",
    "import warnings\n",
    "warnings.filterwarnings('ignore')\n",
    "warnings.simplefilter('ignore')\n",
    "\n",
    "#For XGBoost\n",
    "from xgboost import XGBClassifier"
   ]
  },
  {
   "cell_type": "markdown",
   "id": "2d9619e7",
   "metadata": {},
   "source": [
    "## Looking at the Data"
   ]
  },
  {
   "cell_type": "code",
   "execution_count": null,
   "id": "b8d54b35",
   "metadata": {
    "ExecuteTime": {
     "end_time": "2022-11-14T17:29:18.902985Z",
     "start_time": "2022-11-14T17:29:18.041845Z"
    }
   },
   "outputs": [],
   "source": [
    "df = pd.read_csv('/Users/Arsh/Flatiron/Gitlab/Capstone/Full Dataset')\n",
    "df = df.drop(columns=['Unnamed: 0'])\n",
    "df_original = copy.deepcopy(df)"
   ]
  },
  {
   "cell_type": "code",
   "execution_count": null,
   "id": "30365478",
   "metadata": {
    "ExecuteTime": {
     "end_time": "2022-11-14T17:29:18.994245Z",
     "start_time": "2022-11-14T17:29:18.903857Z"
    }
   },
   "outputs": [],
   "source": [
    "# Sanity check\n",
    "df.info()"
   ]
  },
  {
   "cell_type": "code",
   "execution_count": null,
   "id": "f754818d",
   "metadata": {
    "ExecuteTime": {
     "end_time": "2022-11-14T17:29:19.008538Z",
     "start_time": "2022-11-14T17:29:18.995628Z"
    }
   },
   "outputs": [],
   "source": [
    "df.corr()"
   ]
  },
  {
   "cell_type": "code",
   "execution_count": null,
   "id": "35a2f6fe",
   "metadata": {
    "ExecuteTime": {
     "end_time": "2022-11-14T17:29:19.013187Z",
     "start_time": "2022-11-14T17:29:19.010000Z"
    }
   },
   "outputs": [],
   "source": [
    "df.Tweet.iloc[37493]"
   ]
  },
  {
   "cell_type": "markdown",
   "id": "9bc155a1",
   "metadata": {},
   "source": [
    "##  Preprocessing"
   ]
  },
  {
   "cell_type": "markdown",
   "id": "6ebe1af4",
   "metadata": {},
   "source": [
    "I will clean all of the tweets in my data and get it ready for NLP. "
   ]
  },
  {
   "cell_type": "markdown",
   "id": "32e31f9a",
   "metadata": {},
   "source": [
    "### Tokenization "
   ]
  },
  {
   "cell_type": "code",
   "execution_count": null,
   "id": "361e72a0",
   "metadata": {
    "ExecuteTime": {
     "end_time": "2022-11-14T17:29:19.019896Z",
     "start_time": "2022-11-14T17:29:19.014403Z"
    }
   },
   "outputs": [],
   "source": [
    "stop_words = stopwords.words('english')\n",
    "stop_words"
   ]
  },
  {
   "cell_type": "code",
   "execution_count": null,
   "id": "abb8287a",
   "metadata": {
    "ExecuteTime": {
     "end_time": "2022-11-14T17:29:19.025612Z",
     "start_time": "2022-11-14T17:29:19.020907Z"
    }
   },
   "outputs": [],
   "source": [
    "# I removed some stop words as, IMO, they remove context in the tweets that signify meaning.\n",
    "my_stopwords = ['i',\n",
    "                'me',\n",
    "                'my',\n",
    "                'myself',\n",
    "                'we',\n",
    "                'our',\n",
    "                'ours',\n",
    "                'ourselves',\n",
    "                'you',\n",
    "                \"you're\",\n",
    "                \"you've\",\n",
    "                \"you'll\",\n",
    "                \"you'd\",\n",
    "                'your',\n",
    "                'yours',\n",
    "                'yourself',\n",
    "                'yourselves',\n",
    "                'he',\n",
    "                'him',\n",
    "                'his',\n",
    "                'himself',\n",
    "                'she',\n",
    "                \"she's\",\n",
    "                'her',\n",
    "                'hers',\n",
    "                'herself',\n",
    "                'it',\n",
    "                \"it's\",\n",
    "                'its',\n",
    "                'itself',\n",
    "                'they',\n",
    "                'them',\n",
    "                'their',\n",
    "                'theirs',\n",
    "                'themselves',\n",
    "                'what',\n",
    "                'which',\n",
    "                'who',\n",
    "                'whom',\n",
    "                'this',\n",
    "                'that',\n",
    "                \"that'll\",\n",
    "                'these',\n",
    "                'those',\n",
    "                'am',\n",
    "                'is',\n",
    "                'are',\n",
    "                'was',\n",
    "                'were',\n",
    "                'be',\n",
    "                'been',\n",
    "                'being',\n",
    "                'have',\n",
    "                'has',\n",
    "                'had',\n",
    "                'having',\n",
    "                'do',\n",
    "                'does',\n",
    "                'did',\n",
    "                'doing',\n",
    "                'a',\n",
    "                'an',\n",
    "                'the',\n",
    "                'and',\n",
    "                'but',\n",
    "                'if',\n",
    "                'or',\n",
    "                'because',\n",
    "                'as',\n",
    "                'until',\n",
    "                'while',\n",
    "                'of',\n",
    "                'at',\n",
    "                'by',\n",
    "                'for',\n",
    "                'with',\n",
    "                'about',\n",
    "                'between',\n",
    "                'into',\n",
    "                'through',\n",
    "                'during',\n",
    "                'before',\n",
    "                'after',\n",
    "                'above',\n",
    "                'below',\n",
    "                'to',\n",
    "                'from',\n",
    "                'up',\n",
    "                'down',\n",
    "                'in',\n",
    "                'out',\n",
    "                'on',\n",
    "                'off',\n",
    "                'over',\n",
    "                'under',\n",
    "                'again',\n",
    "                'further',\n",
    "                'then',\n",
    "                'once',\n",
    "                'here',\n",
    "                'there',\n",
    "                'when',\n",
    "                'where',\n",
    "                'why',\n",
    "                'how',\n",
    "                'all',\n",
    "                'any',\n",
    "                'both',\n",
    "                'each',\n",
    "                'few',\n",
    "                'more',\n",
    "                'most',\n",
    "                'other',\n",
    "                'some',\n",
    "                'such',\n",
    "                'only',\n",
    "                'own',\n",
    "                'same',\n",
    "                'so',\n",
    "                'than',\n",
    "                'too',\n",
    "                'very',\n",
    "                's',\n",
    "                't',\n",
    "                'can',\n",
    "                'will',\n",
    "                'just',\n",
    "                'don',\n",
    "                \"don't\",\n",
    "                'should',\n",
    "                \"should've\",\n",
    "                'now',\n",
    "                'd',\n",
    "                'll',\n",
    "                'm',\n",
    "                'o',\n",
    "                're',\n",
    "                've',\n",
    "                'y',\n",
    "                'ain',\n",
    "                'aren',\n",
    "                \"aren't\",\n",
    "                'couldn',\n",
    "                \"couldn't\",\n",
    "                'didn',\n",
    "                \"didn't\",\n",
    "                \"doesn't\",\n",
    "                'hadn',\n",
    "                \"hadn't\",\n",
    "                'hasn',\n",
    "                \"hasn't\",\n",
    "                'haven',\n",
    "                \"haven't\",\n",
    "                'isn',\n",
    "                \"isn't\",\n",
    "                'ma',\n",
    "                'mightn',\n",
    "                \"mightn't\",\n",
    "                'mustn',\n",
    "                \"mustn't\",\n",
    "                'needn',\n",
    "                \"needn't\",\n",
    "                'shan',\n",
    "                \"shan't\",\n",
    "                \"shouldn't\",\n",
    "                \"wasn't\",\n",
    "                \"weren't\",\n",
    "                'won',\n",
    "                \"won't\",\n",
    "                \"wouldn't\"]"
   ]
  },
  {
   "cell_type": "code",
   "execution_count": null,
   "id": "9109ce91",
   "metadata": {
    "ExecuteTime": {
     "end_time": "2022-11-14T17:29:19.037295Z",
     "start_time": "2022-11-14T17:29:19.026535Z"
    }
   },
   "outputs": [],
   "source": [
    "df.Tweet.iloc[37493]"
   ]
  },
  {
   "cell_type": "code",
   "execution_count": null,
   "id": "97cae63f",
   "metadata": {
    "ExecuteTime": {
     "end_time": "2022-11-14T17:29:19.209307Z",
     "start_time": "2022-11-14T17:29:19.205981Z"
    }
   },
   "outputs": [],
   "source": [
    "tknzr = TweetTokenizer(\n",
    "    strip_handles=True, reduce_len=True, preserve_case=False)"
   ]
  },
  {
   "cell_type": "markdown",
   "id": "95a3cfda",
   "metadata": {},
   "source": [
    "The parameters in the tokenizer remove @handles, lowercases all words, and reduces the length of exaggerated grammar (such as turning looooool into loool.)"
   ]
  },
  {
   "cell_type": "code",
   "execution_count": null,
   "id": "e6eb93bc",
   "metadata": {
    "ExecuteTime": {
     "end_time": "2022-11-14T17:29:20.240511Z",
     "start_time": "2022-11-14T17:29:20.227950Z"
    }
   },
   "outputs": [],
   "source": [
    "def tweet_preprocessor(tweet, min_tok):\n",
    "\n",
    "    wnl = WordNetLemmatizer()\n",
    "\n",
    "    def pos_tagger(nltk_tag):\n",
    "        if nltk_tag.startswith('J'):\n",
    "            return wordnet.ADJ\n",
    "        elif nltk_tag.startswith('N'):\n",
    "            return wordnet.NOUN\n",
    "        elif nltk_tag.startswith('R'):\n",
    "            return wordnet.ADV\n",
    "        elif nltk_tag.startswith('V'):\n",
    "            return wordnet.VERB\n",
    "        else:\n",
    "            return None\n",
    "\n",
    "    tweet_sweeper = tweet.lower()\n",
    "    tweet_sweeper = re.sub(r\"@[a-z0-9_]+|#[a-z0-9_]+|http\\S+\", \"\",\n",
    "                           tweet_sweeper).strip().replace(\"\\r\", \"\").replace(\"\\n\", \"\").replace(\"\\t\", \"\")\n",
    "    clean_tweet = [x for x in tknzr.tokenize(tweet_sweeper) if (\n",
    "        (x.isalpha()) & (x not in my_stopwords))]\n",
    "    wordnet_tagged = list(\n",
    "        map(lambda x: (x[0], pos_tagger(x[1])), pos_tag(clean_tweet)))\n",
    "\n",
    "    if len(wordnet_tagged) < min_tok:\n",
    "        return ''\n",
    "    else:\n",
    "        clean_tweet = \" \".join([wnl.lemmatize(x[0], x[1])\n",
    "                               for x in wordnet_tagged if x[1] is not None])\n",
    "        return clean_tweet"
   ]
  },
  {
   "cell_type": "code",
   "execution_count": null,
   "id": "dcb93ad5",
   "metadata": {
    "ExecuteTime": {
     "start_time": "2022-11-14T17:29:20.576Z"
    }
   },
   "outputs": [],
   "source": [
    "df.Tweet = df.Tweet.apply(tweet_preprocessor, min_tok=8)"
   ]
  },
  {
   "cell_type": "code",
   "execution_count": null,
   "id": "4e5f1682",
   "metadata": {
    "ExecuteTime": {
     "start_time": "2022-11-14T17:29:22.544Z"
    }
   },
   "outputs": [],
   "source": [
    "processed_tweets = df[df['Tweet'] != '']"
   ]
  },
  {
   "cell_type": "code",
   "execution_count": 2,
   "id": "8cd79d0c",
   "metadata": {
    "ExecuteTime": {
     "end_time": "2022-11-17T16:35:36.301979Z",
     "start_time": "2022-11-17T16:35:35.785407Z"
    }
   },
   "outputs": [
    {
     "data": {
      "text/html": [
       "<div>\n",
       "<style scoped>\n",
       "    .dataframe tbody tr th:only-of-type {\n",
       "        vertical-align: middle;\n",
       "    }\n",
       "\n",
       "    .dataframe tbody tr th {\n",
       "        vertical-align: top;\n",
       "    }\n",
       "\n",
       "    .dataframe thead th {\n",
       "        text-align: right;\n",
       "    }\n",
       "</style>\n",
       "<table border=\"1\" class=\"dataframe\">\n",
       "  <thead>\n",
       "    <tr style=\"text-align: right;\">\n",
       "      <th></th>\n",
       "      <th>Date</th>\n",
       "      <th>Tweet</th>\n",
       "      <th>Username</th>\n",
       "      <th>Political_Score</th>\n",
       "      <th>Democrat_Score</th>\n",
       "      <th>Republican_Score</th>\n",
       "      <th>political_group</th>\n",
       "    </tr>\n",
       "  </thead>\n",
       "  <tbody>\n",
       "    <tr>\n",
       "      <th>0</th>\n",
       "      <td>2017-01-03</td>\n",
       "      <td>watch live address congress underscoring impor...</td>\n",
       "      <td>SpeakerPelosi</td>\n",
       "      <td>1</td>\n",
       "      <td>0.0</td>\n",
       "      <td>NaN</td>\n",
       "      <td>Democratic Moderates</td>\n",
       "    </tr>\n",
       "    <tr>\n",
       "      <th>1</th>\n",
       "      <td>2017-01-03</td>\n",
       "      <td>gop reversal plan destroy not obscure clear co...</td>\n",
       "      <td>SpeakerPelosi</td>\n",
       "      <td>1</td>\n",
       "      <td>0.0</td>\n",
       "      <td>NaN</td>\n",
       "      <td>Democratic Moderates</td>\n",
       "    </tr>\n",
       "    <tr>\n",
       "      <th>2</th>\n",
       "      <td>2017-01-03</td>\n",
       "      <td>open congress pay tribute serve serve sacrific...</td>\n",
       "      <td>SpeakerPelosi</td>\n",
       "      <td>1</td>\n",
       "      <td>0.0</td>\n",
       "      <td>NaN</td>\n",
       "      <td>Democratic Moderates</td>\n",
       "    </tr>\n",
       "    <tr>\n",
       "      <th>3</th>\n",
       "      <td>2017-01-03</td>\n",
       "      <td>yet american know attempt destroy medicare med...</td>\n",
       "      <td>SpeakerPelosi</td>\n",
       "      <td>1</td>\n",
       "      <td>0.0</td>\n",
       "      <td>NaN</td>\n",
       "      <td>Democratic Moderates</td>\n",
       "    </tr>\n",
       "    <tr>\n",
       "      <th>4</th>\n",
       "      <td>2017-01-03</td>\n",
       "      <td>continue protect clean air clean water right l...</td>\n",
       "      <td>SpeakerPelosi</td>\n",
       "      <td>1</td>\n",
       "      <td>0.0</td>\n",
       "      <td>NaN</td>\n",
       "      <td>Democratic Moderates</td>\n",
       "    </tr>\n",
       "    <tr>\n",
       "      <th>...</th>\n",
       "      <td>...</td>\n",
       "      <td>...</td>\n",
       "      <td>...</td>\n",
       "      <td>...</td>\n",
       "      <td>...</td>\n",
       "      <td>...</td>\n",
       "      <td>...</td>\n",
       "    </tr>\n",
       "    <tr>\n",
       "      <th>324439</th>\n",
       "      <td>2022-11-13</td>\n",
       "      <td>u economy need change urge biden admin work re...</td>\n",
       "      <td>senrobportman</td>\n",
       "      <td>0</td>\n",
       "      <td>NaN</td>\n",
       "      <td>0.0</td>\n",
       "      <td>Republican Moderates</td>\n",
       "    </tr>\n",
       "    <tr>\n",
       "      <th>324440</th>\n",
       "      <td>2022-11-14</td>\n",
       "      <td>big week folk big win gotta keep go let talk</td>\n",
       "      <td>DougJones</td>\n",
       "      <td>1</td>\n",
       "      <td>0.0</td>\n",
       "      <td>NaN</td>\n",
       "      <td>Democratic Moderates</td>\n",
       "    </tr>\n",
       "    <tr>\n",
       "      <th>324441</th>\n",
       "      <td>2022-11-14</td>\n",
       "      <td>feed reduce demand raise interest rate unemplo...</td>\n",
       "      <td>senrobportman</td>\n",
       "      <td>0</td>\n",
       "      <td>NaN</td>\n",
       "      <td>0.0</td>\n",
       "      <td>Republican Moderates</td>\n",
       "    </tr>\n",
       "    <tr>\n",
       "      <th>324442</th>\n",
       "      <td>2022-11-14</td>\n",
       "      <td>world leave incrementalism dust america lead w...</td>\n",
       "      <td>SpeakerPelosi</td>\n",
       "      <td>1</td>\n",
       "      <td>0.0</td>\n",
       "      <td>NaN</td>\n",
       "      <td>Democratic Moderates</td>\n",
       "    </tr>\n",
       "    <tr>\n",
       "      <th>324443</th>\n",
       "      <td>2022-11-14</td>\n",
       "      <td>measure work family feel pain record high infl...</td>\n",
       "      <td>senrobportman</td>\n",
       "      <td>0</td>\n",
       "      <td>NaN</td>\n",
       "      <td>0.0</td>\n",
       "      <td>Republican Moderates</td>\n",
       "    </tr>\n",
       "  </tbody>\n",
       "</table>\n",
       "<p>324444 rows × 7 columns</p>\n",
       "</div>"
      ],
      "text/plain": [
       "              Date                                              Tweet  \\\n",
       "0       2017-01-03  watch live address congress underscoring impor...   \n",
       "1       2017-01-03  gop reversal plan destroy not obscure clear co...   \n",
       "2       2017-01-03  open congress pay tribute serve serve sacrific...   \n",
       "3       2017-01-03  yet american know attempt destroy medicare med...   \n",
       "4       2017-01-03  continue protect clean air clean water right l...   \n",
       "...            ...                                                ...   \n",
       "324439  2022-11-13  u economy need change urge biden admin work re...   \n",
       "324440  2022-11-14       big week folk big win gotta keep go let talk   \n",
       "324441  2022-11-14  feed reduce demand raise interest rate unemplo...   \n",
       "324442  2022-11-14  world leave incrementalism dust america lead w...   \n",
       "324443  2022-11-14  measure work family feel pain record high infl...   \n",
       "\n",
       "             Username  Political_Score  Democrat_Score  Republican_Score  \\\n",
       "0       SpeakerPelosi                1             0.0               NaN   \n",
       "1       SpeakerPelosi                1             0.0               NaN   \n",
       "2       SpeakerPelosi                1             0.0               NaN   \n",
       "3       SpeakerPelosi                1             0.0               NaN   \n",
       "4       SpeakerPelosi                1             0.0               NaN   \n",
       "...               ...              ...             ...               ...   \n",
       "324439  senrobportman                0             NaN               0.0   \n",
       "324440      DougJones                1             0.0               NaN   \n",
       "324441  senrobportman                0             NaN               0.0   \n",
       "324442  SpeakerPelosi                1             0.0               NaN   \n",
       "324443  senrobportman                0             NaN               0.0   \n",
       "\n",
       "             political_group  \n",
       "0       Democratic Moderates  \n",
       "1       Democratic Moderates  \n",
       "2       Democratic Moderates  \n",
       "3       Democratic Moderates  \n",
       "4       Democratic Moderates  \n",
       "...                      ...  \n",
       "324439  Republican Moderates  \n",
       "324440  Democratic Moderates  \n",
       "324441  Republican Moderates  \n",
       "324442  Democratic Moderates  \n",
       "324443  Republican Moderates  \n",
       "\n",
       "[324444 rows x 7 columns]"
      ]
     },
     "execution_count": 2,
     "metadata": {},
     "output_type": "execute_result"
    }
   ],
   "source": [
    "#processed_tweets.to_csv('Processed Tweets')\n",
    "processed_tweets = pd.read_csv('/Users/Arsh/Flatiron/Gitlab/Capstone/Processed Tweets')\n",
    "processed_tweets = processed_tweets.drop(columns=['Unnamed: 0'])\n",
    "processed_tweets = processed_tweets.reset_index(drop=True)\n",
    "processed_tweets"
   ]
  },
  {
   "cell_type": "code",
   "execution_count": 3,
   "id": "900c0a95",
   "metadata": {
    "ExecuteTime": {
     "end_time": "2022-11-14T23:57:40.272976Z",
     "start_time": "2022-11-14T23:57:40.267258Z"
    }
   },
   "outputs": [
    {
     "data": {
      "text/plain": [
       "1    174664\n",
       "0    149780\n",
       "Name: Political_Score, dtype: int64"
      ]
     },
     "execution_count": 3,
     "metadata": {},
     "output_type": "execute_result"
    }
   ],
   "source": [
    "processed_tweets.Political_Score.value_counts()"
   ]
  },
  {
   "cell_type": "code",
   "execution_count": 8,
   "id": "b0ccd221",
   "metadata": {
    "ExecuteTime": {
     "end_time": "2022-11-17T16:35:47.902214Z",
     "start_time": "2022-11-17T16:35:47.897193Z"
    }
   },
   "outputs": [],
   "source": [
    "X = processed_tweets['Tweet']\n",
    "y = processed_tweets['Political_Score']"
   ]
  },
  {
   "cell_type": "markdown",
   "id": "bc0cddd5",
   "metadata": {},
   "source": [
    "## Baseline Model - Multinomial Naive Bayes"
   ]
  },
  {
   "cell_type": "code",
   "execution_count": 53,
   "id": "93b0363d",
   "metadata": {
    "ExecuteTime": {
     "end_time": "2022-11-17T16:41:15.572337Z",
     "start_time": "2022-11-17T16:41:15.535728Z"
    }
   },
   "outputs": [],
   "source": [
    "cv = CountVectorizer(max_features = 100)\n",
    "clf = GaussianNB()"
   ]
  },
  {
   "cell_type": "code",
   "execution_count": 54,
   "id": "79baca00",
   "metadata": {
    "ExecuteTime": {
     "end_time": "2022-11-17T16:41:18.266374Z",
     "start_time": "2022-11-17T16:41:15.822367Z"
    }
   },
   "outputs": [],
   "source": [
    "X_fit_transformed = cv.fit_transform(X)"
   ]
  },
  {
   "cell_type": "code",
   "execution_count": 55,
   "id": "a4006f73",
   "metadata": {
    "ExecuteTime": {
     "end_time": "2022-11-17T16:41:18.269828Z",
     "start_time": "2022-11-17T16:41:18.267506Z"
    }
   },
   "outputs": [
    {
     "data": {
      "text/plain": [
       "<324444x100 sparse matrix of type '<class 'numpy.int64'>'\n",
       "\twith 1416519 stored elements in Compressed Sparse Row format>"
      ]
     },
     "execution_count": 55,
     "metadata": {},
     "output_type": "execute_result"
    }
   ],
   "source": [
    "X_fit_transformed"
   ]
  },
  {
   "cell_type": "code",
   "execution_count": 56,
   "id": "165ea1d8",
   "metadata": {
    "ExecuteTime": {
     "end_time": "2022-11-17T16:41:18.357546Z",
     "start_time": "2022-11-17T16:41:18.270676Z"
    }
   },
   "outputs": [],
   "source": [
    "X_train, X_test, y_train, y_test = train_test_split(\n",
    "           X_fit_transformed, y, test_size = 0.1, stratify = y, random_state = 95)"
   ]
  },
  {
   "cell_type": "code",
   "execution_count": 57,
   "id": "dc1de665",
   "metadata": {
    "ExecuteTime": {
     "end_time": "2022-11-17T16:41:18.410037Z",
     "start_time": "2022-11-17T16:41:18.358930Z"
    }
   },
   "outputs": [],
   "source": [
    "# Cannot be done in a previous step as test train splitting on a large array breaks the kernel : )\n",
    "X_train = X_train.toarray()\n",
    "X_test = X_test.toarray()"
   ]
  },
  {
   "cell_type": "code",
   "execution_count": 58,
   "id": "8405004c",
   "metadata": {
    "ExecuteTime": {
     "end_time": "2022-11-17T16:41:18.417580Z",
     "start_time": "2022-11-17T16:41:18.413899Z"
    }
   },
   "outputs": [
    {
     "data": {
      "text/plain": [
       "32445"
      ]
     },
     "execution_count": 58,
     "metadata": {},
     "output_type": "execute_result"
    }
   ],
   "source": [
    "len(X_test)"
   ]
  },
  {
   "cell_type": "code",
   "execution_count": 59,
   "id": "c0d6403d",
   "metadata": {
    "ExecuteTime": {
     "end_time": "2022-11-17T16:41:18.733056Z",
     "start_time": "2022-11-17T16:41:18.421014Z"
    }
   },
   "outputs": [
    {
     "data": {
      "text/html": [
       "<style>#sk-container-id-4 {color: black;background-color: white;}#sk-container-id-4 pre{padding: 0;}#sk-container-id-4 div.sk-toggleable {background-color: white;}#sk-container-id-4 label.sk-toggleable__label {cursor: pointer;display: block;width: 100%;margin-bottom: 0;padding: 0.3em;box-sizing: border-box;text-align: center;}#sk-container-id-4 label.sk-toggleable__label-arrow:before {content: \"▸\";float: left;margin-right: 0.25em;color: #696969;}#sk-container-id-4 label.sk-toggleable__label-arrow:hover:before {color: black;}#sk-container-id-4 div.sk-estimator:hover label.sk-toggleable__label-arrow:before {color: black;}#sk-container-id-4 div.sk-toggleable__content {max-height: 0;max-width: 0;overflow: hidden;text-align: left;background-color: #f0f8ff;}#sk-container-id-4 div.sk-toggleable__content pre {margin: 0.2em;color: black;border-radius: 0.25em;background-color: #f0f8ff;}#sk-container-id-4 input.sk-toggleable__control:checked~div.sk-toggleable__content {max-height: 200px;max-width: 100%;overflow: auto;}#sk-container-id-4 input.sk-toggleable__control:checked~label.sk-toggleable__label-arrow:before {content: \"▾\";}#sk-container-id-4 div.sk-estimator input.sk-toggleable__control:checked~label.sk-toggleable__label {background-color: #d4ebff;}#sk-container-id-4 div.sk-label input.sk-toggleable__control:checked~label.sk-toggleable__label {background-color: #d4ebff;}#sk-container-id-4 input.sk-hidden--visually {border: 0;clip: rect(1px 1px 1px 1px);clip: rect(1px, 1px, 1px, 1px);height: 1px;margin: -1px;overflow: hidden;padding: 0;position: absolute;width: 1px;}#sk-container-id-4 div.sk-estimator {font-family: monospace;background-color: #f0f8ff;border: 1px dotted black;border-radius: 0.25em;box-sizing: border-box;margin-bottom: 0.5em;}#sk-container-id-4 div.sk-estimator:hover {background-color: #d4ebff;}#sk-container-id-4 div.sk-parallel-item::after {content: \"\";width: 100%;border-bottom: 1px solid gray;flex-grow: 1;}#sk-container-id-4 div.sk-label:hover label.sk-toggleable__label {background-color: #d4ebff;}#sk-container-id-4 div.sk-serial::before {content: \"\";position: absolute;border-left: 1px solid gray;box-sizing: border-box;top: 0;bottom: 0;left: 50%;z-index: 0;}#sk-container-id-4 div.sk-serial {display: flex;flex-direction: column;align-items: center;background-color: white;padding-right: 0.2em;padding-left: 0.2em;position: relative;}#sk-container-id-4 div.sk-item {position: relative;z-index: 1;}#sk-container-id-4 div.sk-parallel {display: flex;align-items: stretch;justify-content: center;background-color: white;position: relative;}#sk-container-id-4 div.sk-item::before, #sk-container-id-4 div.sk-parallel-item::before {content: \"\";position: absolute;border-left: 1px solid gray;box-sizing: border-box;top: 0;bottom: 0;left: 50%;z-index: -1;}#sk-container-id-4 div.sk-parallel-item {display: flex;flex-direction: column;z-index: 1;position: relative;background-color: white;}#sk-container-id-4 div.sk-parallel-item:first-child::after {align-self: flex-end;width: 50%;}#sk-container-id-4 div.sk-parallel-item:last-child::after {align-self: flex-start;width: 50%;}#sk-container-id-4 div.sk-parallel-item:only-child::after {width: 0;}#sk-container-id-4 div.sk-dashed-wrapped {border: 1px dashed gray;margin: 0 0.4em 0.5em 0.4em;box-sizing: border-box;padding-bottom: 0.4em;background-color: white;}#sk-container-id-4 div.sk-label label {font-family: monospace;font-weight: bold;display: inline-block;line-height: 1.2em;}#sk-container-id-4 div.sk-label-container {text-align: center;}#sk-container-id-4 div.sk-container {/* jupyter's `normalize.less` sets `[hidden] { display: none; }` but bootstrap.min.css set `[hidden] { display: none !important; }` so we also need the `!important` here to be able to override the default hidden behavior on the sphinx rendered scikit-learn.org. See: https://github.com/scikit-learn/scikit-learn/issues/21755 */display: inline-block !important;position: relative;}#sk-container-id-4 div.sk-text-repr-fallback {display: none;}</style><div id=\"sk-container-id-4\" class=\"sk-top-container\"><div class=\"sk-text-repr-fallback\"><pre>GaussianNB()</pre><b>In a Jupyter environment, please rerun this cell to show the HTML representation or trust the notebook. <br />On GitHub, the HTML representation is unable to render, please try loading this page with nbviewer.org.</b></div><div class=\"sk-container\" hidden><div class=\"sk-item\"><div class=\"sk-estimator sk-toggleable\"><input class=\"sk-toggleable__control sk-hidden--visually\" id=\"sk-estimator-id-4\" type=\"checkbox\" checked><label for=\"sk-estimator-id-4\" class=\"sk-toggleable__label sk-toggleable__label-arrow\">GaussianNB</label><div class=\"sk-toggleable__content\"><pre>GaussianNB()</pre></div></div></div></div></div>"
      ],
      "text/plain": [
       "GaussianNB()"
      ]
     },
     "execution_count": 59,
     "metadata": {},
     "output_type": "execute_result"
    }
   ],
   "source": [
    "clf.fit(X_train, y_train)"
   ]
  },
  {
   "cell_type": "code",
   "execution_count": 60,
   "id": "35608824",
   "metadata": {
    "ExecuteTime": {
     "end_time": "2022-11-17T16:41:18.756510Z",
     "start_time": "2022-11-17T16:41:18.733967Z"
    }
   },
   "outputs": [],
   "source": [
    "y_pred = clf.predict(X_test)"
   ]
  },
  {
   "cell_type": "code",
   "execution_count": 65,
   "id": "791bb1d6",
   "metadata": {
    "ExecuteTime": {
     "end_time": "2022-11-17T16:41:55.877284Z",
     "start_time": "2022-11-17T16:41:55.746104Z"
    }
   },
   "outputs": [
    {
     "data": {
      "image/png": "[encoded data removed]",
      "text/plain": [
       "<Figure size 640x480 with 2 Axes>"
      ]
     },
     "metadata": {},
     "output_type": "display_data"
    }
   ],
   "source": [
    "plot_confusion_matrix(clf, X_test, y_test, normalize = 'true')\n",
    "plt.title ('Baseline Model Confusion Matrix')\n",
    "plt.show()"
   ]
  },
  {
   "cell_type": "code",
   "execution_count": 62,
   "id": "b9145cc2",
   "metadata": {
    "ExecuteTime": {
     "end_time": "2022-11-17T16:41:19.085486Z",
     "start_time": "2022-11-17T16:41:19.052010Z"
    },
    "scrolled": true
   },
   "outputs": [
    {
     "name": "stdout",
     "output_type": "stream",
     "text": [
      "              precision    recall  f1-score   support\n",
      "\n",
      "           0       0.59      0.72      0.65     14978\n",
      "           1       0.70      0.57      0.63     17467\n",
      "\n",
      "    accuracy                           0.64     32445\n",
      "   macro avg       0.65      0.64      0.64     32445\n",
      "weighted avg       0.65      0.64      0.64     32445\n",
      "\n"
     ]
    }
   ],
   "source": [
    "print(classification_report(y_test, y_pred))"
   ]
  },
  {
   "cell_type": "code",
   "execution_count": 63,
   "id": "793938ef",
   "metadata": {
    "ExecuteTime": {
     "end_time": "2022-11-17T16:41:19.093703Z",
     "start_time": "2022-11-17T16:41:19.087515Z"
    }
   },
   "outputs": [
    {
     "data": {
      "text/plain": [
       "0.6434195794564075"
      ]
     },
     "execution_count": 63,
     "metadata": {},
     "output_type": "execute_result"
    }
   ],
   "source": [
    "roc_auc_score(y_test, y_pred)"
   ]
  },
  {
   "cell_type": "code",
   "execution_count": 66,
   "id": "e07d8fb2",
   "metadata": {
    "ExecuteTime": {
     "end_time": "2022-11-17T16:42:37.241612Z",
     "start_time": "2022-11-17T16:42:37.119164Z"
    }
   },
   "outputs": [
    {
     "data": {
      "image/png": "[encoded data removed]",
      "text/plain": [
       "<Figure size 640x480 with 1 Axes>"
      ]
     },
     "metadata": {},
     "output_type": "display_data"
    }
   ],
   "source": [
    "y_pred_proba = clf.predict_proba(X_test)[::,1]\n",
    "fpr, tpr, _ = metrics.roc_curve(y_test,  y_pred)\n",
    "auc = metrics.roc_auc_score(y_test, y_pred)\n",
    "\n",
    "plt.plot(fpr,tpr,label=\"AUC=\"+str(auc))\n",
    "plt.title('AUC Score for Baseline Model')\n",
    "plt.ylabel('True Positive Rate')\n",
    "plt.xlabel('False Positive Rate')\n",
    "plt.legend()\n",
    "plt.show()"
   ]
  },
  {
   "cell_type": "markdown",
   "id": "3e282bec",
   "metadata": {
    "ExecuteTime": {
     "end_time": "2022-11-08T18:19:33.185966Z",
     "start_time": "2022-11-08T18:19:33.183272Z"
    }
   },
   "source": [
    "Very successful for a baseline model. Let's play around with the parameters. In the baseline, I used the top 100 features or used the top 100 words in the corpus. "
   ]
  },
  {
   "cell_type": "markdown",
   "id": "c0ab3e21",
   "metadata": {},
   "source": [
    "### Finetuning the NB Model"
   ]
  },
  {
   "cell_type": "code",
   "execution_count": null,
   "id": "196888dc",
   "metadata": {
    "ExecuteTime": {
     "end_time": "2022-11-10T19:11:00.337393Z",
     "start_time": "2022-11-10T19:11:00.335275Z"
    }
   },
   "outputs": [],
   "source": [
    "### Playing with the parameters"
   ]
  },
  {
   "cell_type": "code",
   "execution_count": null,
   "id": "aeb2dcd0",
   "metadata": {
    "ExecuteTime": {
     "end_time": "2022-11-14T15:07:37.942919Z",
     "start_time": "2022-11-14T15:07:37.937853Z"
    }
   },
   "outputs": [],
   "source": [
    "cv_ft = CountVectorizer(max_features = 2200)"
   ]
  },
  {
   "cell_type": "code",
   "execution_count": null,
   "id": "08fb8d83",
   "metadata": {
    "ExecuteTime": {
     "end_time": "2022-11-14T15:07:41.774927Z",
     "start_time": "2022-11-14T15:07:39.600145Z"
    }
   },
   "outputs": [],
   "source": [
    "X_fit_tra_ft = cv_ft.fit_transform(X)"
   ]
  },
  {
   "cell_type": "code",
   "execution_count": null,
   "id": "650cb998",
   "metadata": {
    "ExecuteTime": {
     "end_time": "2022-11-14T15:07:41.850055Z",
     "start_time": "2022-11-14T15:07:41.776144Z"
    }
   },
   "outputs": [],
   "source": [
    "X_train_ft, X_test_ft, y_train_ft, y_test_ft = train_test_split(\n",
    "           X_fit_tra_ft, y, test_size = 0.1, stratify = y, random_state = 95)"
   ]
  },
  {
   "cell_type": "code",
   "execution_count": null,
   "id": "8c38d4ef",
   "metadata": {
    "ExecuteTime": {
     "end_time": "2022-11-14T15:07:42.619020Z",
     "start_time": "2022-11-14T15:07:41.850810Z"
    }
   },
   "outputs": [],
   "source": [
    "X_train_ft = X_train_ft.toarray()\n",
    "X_test_ft = X_test_ft.toarray()"
   ]
  },
  {
   "cell_type": "code",
   "execution_count": null,
   "id": "e7a5bcfc",
   "metadata": {
    "ExecuteTime": {
     "end_time": "2022-11-14T15:07:53.950486Z",
     "start_time": "2022-11-14T15:07:42.620639Z"
    }
   },
   "outputs": [],
   "source": [
    "clf.fit(X_train_ft, y_train_ft)"
   ]
  },
  {
   "cell_type": "code",
   "execution_count": null,
   "id": "f2df045e",
   "metadata": {
    "ExecuteTime": {
     "end_time": "2022-11-14T15:07:54.404441Z",
     "start_time": "2022-11-14T15:07:53.952174Z"
    }
   },
   "outputs": [],
   "source": [
    "y_pred_ft = clf.predict(X_test_ft)"
   ]
  },
  {
   "cell_type": "code",
   "execution_count": null,
   "id": "d6dd8635",
   "metadata": {
    "ExecuteTime": {
     "end_time": "2022-11-14T15:07:54.873672Z",
     "start_time": "2022-11-14T15:07:54.405401Z"
    }
   },
   "outputs": [],
   "source": [
    "plot_confusion_matrix(clf, X_test_ft, y_test_ft)  \n",
    "plt.show()"
   ]
  },
  {
   "cell_type": "code",
   "execution_count": null,
   "id": "bb81a7e5",
   "metadata": {
    "ExecuteTime": {
     "end_time": "2022-11-14T15:07:54.906646Z",
     "start_time": "2022-11-14T15:07:54.874582Z"
    }
   },
   "outputs": [],
   "source": [
    "print(classification_report(y_test_ft, y_pred_ft))"
   ]
  },
  {
   "cell_type": "code",
   "execution_count": null,
   "id": "4ce230cf",
   "metadata": {
    "ExecuteTime": {
     "end_time": "2022-11-14T15:07:54.916999Z",
     "start_time": "2022-11-14T15:07:54.909406Z"
    }
   },
   "outputs": [],
   "source": [
    "roc_auc_score(y_test_ft, y_pred_ft)"
   ]
  },
  {
   "cell_type": "code",
   "execution_count": null,
   "id": "59803a36",
   "metadata": {
    "ExecuteTime": {
     "end_time": "2022-11-14T15:07:54.986892Z",
     "start_time": "2022-11-14T15:07:54.919503Z"
    }
   },
   "outputs": [],
   "source": [
    "fpr, tpr, _ = metrics.roc_curve(y_test_ft,  y_pred_ft)\n",
    "auc = metrics.roc_auc_score(y_test_ft, y_pred_ft)\n",
    "\n",
    "plt.plot(fpr,tpr,label=\"AUC=\"+str(auc))\n",
    "plt.ylabel('True Positive Rate')\n",
    "plt.xlabel('False Positive Rate')\n",
    "plt.legend()\n",
    "plt.show()"
   ]
  },
  {
   "cell_type": "markdown",
   "id": "f7786ee7",
   "metadata": {},
   "source": [
    "I think this is the best I can finetune with a CountVectorizer. "
   ]
  },
  {
   "cell_type": "markdown",
   "id": "bf1f21ba",
   "metadata": {},
   "source": [
    "### Baseline model with a TFID vectorizer"
   ]
  },
  {
   "cell_type": "code",
   "execution_count": null,
   "id": "471b6347",
   "metadata": {
    "ExecuteTime": {
     "end_time": "2022-11-14T15:08:07.913034Z",
     "start_time": "2022-11-14T15:08:07.907897Z"
    }
   },
   "outputs": [],
   "source": [
    "tfidf = TfidfVectorizer(max_features = 100)"
   ]
  },
  {
   "cell_type": "code",
   "execution_count": null,
   "id": "2270df00",
   "metadata": {
    "ExecuteTime": {
     "end_time": "2022-11-14T15:08:10.389259Z",
     "start_time": "2022-11-14T15:08:08.175826Z"
    }
   },
   "outputs": [],
   "source": [
    "X_tfidf = tfidf.fit_transform(X)"
   ]
  },
  {
   "cell_type": "code",
   "execution_count": null,
   "id": "ceb534c7",
   "metadata": {
    "ExecuteTime": {
     "end_time": "2022-11-14T15:08:10.455344Z",
     "start_time": "2022-11-14T15:08:10.390392Z"
    }
   },
   "outputs": [],
   "source": [
    "X_train_tfidf, X_test_tfidf, y_train_tfidf, y_test_tfidf = train_test_split(\n",
    "           X_tfidf, y, test_size = 0.1, stratify = y, random_state = 95)"
   ]
  },
  {
   "cell_type": "code",
   "execution_count": null,
   "id": "e6504d46",
   "metadata": {
    "ExecuteTime": {
     "end_time": "2022-11-14T15:08:10.481483Z",
     "start_time": "2022-11-14T15:08:10.456230Z"
    }
   },
   "outputs": [],
   "source": [
    "X_train_tfidf= X_train_tfidf.toarray()\n",
    "X_test_tfidf = X_test_tfidf.toarray()"
   ]
  },
  {
   "cell_type": "code",
   "execution_count": null,
   "id": "0957c5c4",
   "metadata": {
    "ExecuteTime": {
     "end_time": "2022-11-14T15:08:10.650567Z",
     "start_time": "2022-11-14T15:08:10.482940Z"
    }
   },
   "outputs": [],
   "source": [
    "clf.fit(X_train_tfidf, y_train_tfidf)"
   ]
  },
  {
   "cell_type": "code",
   "execution_count": null,
   "id": "7192d000",
   "metadata": {
    "ExecuteTime": {
     "end_time": "2022-11-14T15:08:10.672848Z",
     "start_time": "2022-11-14T15:08:10.651489Z"
    }
   },
   "outputs": [],
   "source": [
    "y_pred_tfidf = clf.predict(X_test_tfidf)"
   ]
  },
  {
   "cell_type": "code",
   "execution_count": null,
   "id": "2ebd3723",
   "metadata": {
    "ExecuteTime": {
     "end_time": "2022-11-14T15:08:10.761753Z",
     "start_time": "2022-11-14T15:08:10.674188Z"
    }
   },
   "outputs": [],
   "source": [
    "plot_confusion_matrix(clf, X_test_tfidf, y_test_tfidf)  \n",
    "plt.show()"
   ]
  },
  {
   "cell_type": "code",
   "execution_count": null,
   "id": "e9470e84",
   "metadata": {
    "ExecuteTime": {
     "end_time": "2022-11-14T15:08:10.796020Z",
     "start_time": "2022-11-14T15:08:10.763500Z"
    }
   },
   "outputs": [],
   "source": [
    "print(classification_report(y_test_tfidf, y_pred_tfidf))"
   ]
  },
  {
   "cell_type": "code",
   "execution_count": null,
   "id": "be308d40",
   "metadata": {
    "ExecuteTime": {
     "end_time": "2022-11-14T15:08:10.804524Z",
     "start_time": "2022-11-14T15:08:10.797321Z"
    }
   },
   "outputs": [],
   "source": [
    "roc_auc_score(y_test_tfidf, y_pred_tfidf)"
   ]
  },
  {
   "cell_type": "code",
   "execution_count": null,
   "id": "6d5b390c",
   "metadata": {
    "ExecuteTime": {
     "end_time": "2022-11-14T15:08:10.910804Z",
     "start_time": "2022-11-14T15:08:10.808125Z"
    }
   },
   "outputs": [],
   "source": [
    "fpr, tpr, _ = metrics.roc_curve(y_test_tfidf,  y_pred_tfidf)\n",
    "auc = metrics.roc_auc_score(y_test_tfidf, y_pred_tfidf)\n",
    "\n",
    "plt.plot(fpr,tpr,label=\"AUC=\"+str(auc))\n",
    "plt.ylabel('True Positive Rate')\n",
    "plt.xlabel('False Positive Rate')\n",
    "plt.legend()\n",
    "plt.show()"
   ]
  },
  {
   "cell_type": "markdown",
   "id": "45037db2",
   "metadata": {},
   "source": [
    "This is the new baseline for tfidf. Without any parameter tuning, this is worse than the countvectorizer. "
   ]
  },
  {
   "cell_type": "markdown",
   "id": "4627c98a",
   "metadata": {
    "ExecuteTime": {
     "end_time": "2022-11-08T20:23:23.822917Z",
     "start_time": "2022-11-08T20:23:23.819956Z"
    }
   },
   "source": [
    "### Baseline Model with TFIDF vectorizer - Model Tuning"
   ]
  },
  {
   "cell_type": "code",
   "execution_count": 5,
   "id": "83db78d3",
   "metadata": {
    "ExecuteTime": {
     "end_time": "2022-11-14T23:57:55.793567Z",
     "start_time": "2022-11-14T23:57:55.788340Z"
    }
   },
   "outputs": [],
   "source": [
    "tfidf = TfidfVectorizer(max_features = 2500, min_df = 200)"
   ]
  },
  {
   "cell_type": "code",
   "execution_count": 6,
   "id": "0f70d826",
   "metadata": {
    "ExecuteTime": {
     "end_time": "2022-11-14T23:57:58.632999Z",
     "start_time": "2022-11-14T23:57:56.400640Z"
    }
   },
   "outputs": [],
   "source": [
    "X_tfidf_ft = tfidf.fit_transform(X)"
   ]
  },
  {
   "cell_type": "code",
   "execution_count": 7,
   "id": "9074389a",
   "metadata": {
    "ExecuteTime": {
     "end_time": "2022-11-14T23:57:58.709694Z",
     "start_time": "2022-11-14T23:57:58.634122Z"
    }
   },
   "outputs": [],
   "source": [
    "X_train_tfidf_ft, X_test_tfidf_ft, y_train_tfidf_ft, y_test_tfidf_ft = train_test_split(\n",
    "           X_tfidf_ft, y, test_size = 0.1, stratify = y, random_state = 95)"
   ]
  },
  {
   "cell_type": "code",
   "execution_count": 8,
   "id": "b41431f4",
   "metadata": {
    "ExecuteTime": {
     "end_time": "2022-11-14T23:57:59.177243Z",
     "start_time": "2022-11-14T23:57:58.710577Z"
    }
   },
   "outputs": [],
   "source": [
    "X_train_tfidf_ft= X_train_tfidf_ft.toarray()\n",
    "X_test_tfidf_ft = X_test_tfidf_ft.toarray()"
   ]
  },
  {
   "cell_type": "code",
   "execution_count": null,
   "id": "eb41f049",
   "metadata": {
    "ExecuteTime": {
     "end_time": "2022-11-14T17:03:40.087095Z",
     "start_time": "2022-11-14T17:03:39.972174Z"
    }
   },
   "outputs": [],
   "source": [
    "clf.fit(X_train_tfidf_ft, y_train_tfidf_ft)"
   ]
  },
  {
   "cell_type": "code",
   "execution_count": null,
   "id": "eb2a614b",
   "metadata": {
    "ExecuteTime": {
     "end_time": "2022-11-14T15:08:35.163828Z",
     "start_time": "2022-11-14T15:08:34.666332Z"
    }
   },
   "outputs": [],
   "source": [
    "y_pred_tfidf_ft = clf.predict(X_test_tfidf_ft)"
   ]
  },
  {
   "cell_type": "code",
   "execution_count": null,
   "id": "c18ed1c7",
   "metadata": {
    "ExecuteTime": {
     "end_time": "2022-11-14T15:08:35.659592Z",
     "start_time": "2022-11-14T15:08:35.164865Z"
    }
   },
   "outputs": [],
   "source": [
    "plot_confusion_matrix(clf, X_test_tfidf_ft, y_test_tfidf_ft)  \n",
    "plt.show()"
   ]
  },
  {
   "cell_type": "code",
   "execution_count": null,
   "id": "df35e91c",
   "metadata": {
    "ExecuteTime": {
     "end_time": "2022-11-14T15:08:35.691613Z",
     "start_time": "2022-11-14T15:08:35.660467Z"
    }
   },
   "outputs": [],
   "source": [
    "print(classification_report(y_test_tfidf_ft, y_pred_tfidf_ft))"
   ]
  },
  {
   "cell_type": "code",
   "execution_count": null,
   "id": "f29f89a8",
   "metadata": {
    "ExecuteTime": {
     "end_time": "2022-11-14T15:08:35.702042Z",
     "start_time": "2022-11-14T15:08:35.694146Z"
    }
   },
   "outputs": [],
   "source": [
    "roc_auc_score(y_test_tfidf_ft, y_pred_tfidf_ft)"
   ]
  },
  {
   "cell_type": "code",
   "execution_count": null,
   "id": "587cbf4f",
   "metadata": {
    "ExecuteTime": {
     "end_time": "2022-11-14T15:08:35.770324Z",
     "start_time": "2022-11-14T15:08:35.703730Z"
    }
   },
   "outputs": [],
   "source": [
    "fpr, tpr, _ = metrics.roc_curve(y_test_tfidf_ft,  y_pred_tfidf_ft)\n",
    "auc = metrics.roc_auc_score(y_test_tfidf_ft, y_pred_tfidf_ft)\n",
    "\n",
    "plt.plot(fpr,tpr,label=\"AUC=\"+str(auc))\n",
    "plt.ylabel('True Positive Rate')\n",
    "plt.xlabel('False Positive Rate')\n",
    "plt.legend()\n",
    "plt.show()"
   ]
  },
  {
   "cell_type": "markdown",
   "id": "67dc965a",
   "metadata": {},
   "source": [
    "I think we have hit the limitation of what can be done with a Naive Bayes classifier. We struggle to go beyong 0.76 in terms of  F1 score. Now, I will move on to using decsions trees and random forests."
   ]
  },
  {
   "cell_type": "markdown",
   "id": "ad4df724",
   "metadata": {},
   "source": [
    "## Random Forest"
   ]
  },
  {
   "cell_type": "code",
   "execution_count": null,
   "id": "4e2359ed",
   "metadata": {
    "ExecuteTime": {
     "end_time": "2022-11-14T15:09:08.302189Z",
     "start_time": "2022-11-14T15:09:08.295497Z"
    }
   },
   "outputs": [],
   "source": [
    "forest_pipe = Pipeline([('model', RandomForestClassifier(n_estimators = 100, random_state = 95, n_jobs = -1, verbose = 2))])"
   ]
  },
  {
   "cell_type": "markdown",
   "id": "36bad1de",
   "metadata": {},
   "source": [
    "For this model, I will use the already vectorized data from the tfidf model. "
   ]
  },
  {
   "cell_type": "code",
   "execution_count": null,
   "id": "09e73fab",
   "metadata": {
    "ExecuteTime": {
     "end_time": "2022-11-14T15:16:04.361920Z",
     "start_time": "2022-11-14T15:09:09.572756Z"
    }
   },
   "outputs": [],
   "source": [
    "forest_pipe.fit(X_train_tfidf_ft, y_train_tfidf_ft)"
   ]
  },
  {
   "cell_type": "code",
   "execution_count": null,
   "id": "264bbc02",
   "metadata": {
    "ExecuteTime": {
     "end_time": "2022-11-14T15:16:05.360599Z",
     "start_time": "2022-11-14T15:16:04.363383Z"
    }
   },
   "outputs": [],
   "source": [
    "y_forest_pred = forest_pipe.predict(X_test_tfidf_ft)"
   ]
  },
  {
   "cell_type": "code",
   "execution_count": null,
   "id": "2f80dfb4",
   "metadata": {
    "ExecuteTime": {
     "end_time": "2022-11-14T15:16:06.424346Z",
     "start_time": "2022-11-14T15:16:05.362179Z"
    }
   },
   "outputs": [],
   "source": [
    "plot_confusion_matrix(forest_pipe, X_test_tfidf_ft, y_test_tfidf_ft)  \n",
    "plt.show()"
   ]
  },
  {
   "cell_type": "code",
   "execution_count": null,
   "id": "d3043080",
   "metadata": {
    "ExecuteTime": {
     "end_time": "2022-11-14T15:16:06.561558Z",
     "start_time": "2022-11-14T15:16:06.481561Z"
    }
   },
   "outputs": [],
   "source": [
    "print(classification_report(y_test_tfidf_ft, y_forest_pred))"
   ]
  },
  {
   "cell_type": "code",
   "execution_count": null,
   "id": "e7b328b8",
   "metadata": {
    "ExecuteTime": {
     "end_time": "2022-11-14T15:16:06.586857Z",
     "start_time": "2022-11-14T15:16:06.567108Z"
    }
   },
   "outputs": [],
   "source": [
    "roc_auc_score(y_test_tfidf_ft, y_forest_pred)"
   ]
  },
  {
   "cell_type": "code",
   "execution_count": null,
   "id": "f40988c1",
   "metadata": {
    "ExecuteTime": {
     "end_time": "2022-11-14T15:16:06.669376Z",
     "start_time": "2022-11-14T15:16:06.590725Z"
    }
   },
   "outputs": [],
   "source": [
    "fpr, tpr, _ = metrics.roc_curve(y_test_tfidf_ft,  y_forest_pred)\n",
    "auc = metrics.roc_auc_score(y_test_tfidf_ft, y_forest_pred)\n",
    "\n",
    "plt.plot(fpr,tpr,label=\"AUC=\"+str(auc))\n",
    "plt.ylabel('True Positive Rate')\n",
    "plt.xlabel('False Positive Rate')\n",
    "plt.legend()\n",
    "plt.show()"
   ]
  },
  {
   "cell_type": "markdown",
   "id": "afdae720",
   "metadata": {},
   "source": [
    "This is excellent. Off the bat, this is far more optimal than the other models. Now for model tuning."
   ]
  },
  {
   "cell_type": "markdown",
   "id": "f1c957c0",
   "metadata": {},
   "source": [
    "### Hypertuning the Random Forest with HalvingRandomSearchCV"
   ]
  },
  {
   "cell_type": "code",
   "execution_count": null,
   "id": "82651eb5",
   "metadata": {
    "ExecuteTime": {
     "end_time": "2022-11-14T15:17:31.474287Z",
     "start_time": "2022-11-14T15:17:31.468157Z"
    }
   },
   "outputs": [],
   "source": [
    "forest_param_grid = {'model__n_estimators': [225, 250, 275, 300, 325] , 'model__criterion' : ['gini', 'entropy'], \n",
    "                     'model__min_samples_leaf': [1, 3], 'model__max_features': [15, 20, 25, 30, 35], 'model__bootstrap' : [True, False]}\n"
   ]
  },
  {
   "cell_type": "code",
   "execution_count": null,
   "id": "da5727ae",
   "metadata": {
    "ExecuteTime": {
     "end_time": "2022-11-14T15:17:39.664916Z",
     "start_time": "2022-11-14T15:17:39.659083Z"
    }
   },
   "outputs": [],
   "source": [
    "halving_cv = HalvingRandomSearchCV(forest_pipe, forest_param_grid, scoring=\"f1\", n_jobs=-1, min_resources=2222, max_resources = 90000, cv = 5, factor=3, verbose = 2, random_state = 95)"
   ]
  },
  {
   "cell_type": "code",
   "execution_count": null,
   "id": "0e0da31f",
   "metadata": {
    "ExecuteTime": {
     "end_time": "2022-11-14T16:41:49.421983Z",
     "start_time": "2022-11-14T15:17:42.294950Z"
    }
   },
   "outputs": [],
   "source": [
    "halving_cv.fit(X_train_tfidf_ft, y_train_tfidf_ft)\n",
    "# Will take 45 minutes to run."
   ]
  },
  {
   "cell_type": "code",
   "execution_count": null,
   "id": "10d16bb3",
   "metadata": {
    "ExecuteTime": {
     "end_time": "2022-11-14T16:41:49.423272Z",
     "start_time": "2022-11-14T16:41:49.423262Z"
    }
   },
   "outputs": [],
   "source": [
    "halving_cv.best_score_"
   ]
  },
  {
   "cell_type": "code",
   "execution_count": null,
   "id": "fcdc915c",
   "metadata": {
    "ExecuteTime": {
     "end_time": "2022-11-14T16:41:49.423955Z",
     "start_time": "2022-11-14T16:41:49.423949Z"
    }
   },
   "outputs": [],
   "source": [
    "halving_cv.best_params_"
   ]
  },
  {
   "cell_type": "code",
   "execution_count": null,
   "id": "25b98d62",
   "metadata": {
    "ExecuteTime": {
     "end_time": "2022-11-14T16:41:49.424375Z",
     "start_time": "2022-11-14T16:41:49.424369Z"
    }
   },
   "outputs": [],
   "source": [
    "optimal_model = halving_cv.best_estimator_\n",
    "optimal_model"
   ]
  },
  {
   "cell_type": "code",
   "execution_count": null,
   "id": "c8fa4a02",
   "metadata": {
    "ExecuteTime": {
     "end_time": "2022-11-14T16:41:49.424901Z",
     "start_time": "2022-11-14T16:41:49.424895Z"
    }
   },
   "outputs": [],
   "source": [
    "optimal_model"
   ]
  },
  {
   "cell_type": "code",
   "execution_count": null,
   "id": "59fa3e64",
   "metadata": {
    "ExecuteTime": {
     "end_time": "2022-11-10T19:22:08.693677Z",
     "start_time": "2022-11-10T19:22:08.690325Z"
    }
   },
   "outputs": [],
   "source": [
    "forest_pipe_optimized = Pipeline([('model', RandomForestClassifier(\n",
    "    n_estimators=250, min_samples_leaf=1, max_features=15, criterion='gini', bootstrap=False, verbose=2, n_jobs=-1, random_state=95))])"
   ]
  },
  {
   "cell_type": "code",
   "execution_count": null,
   "id": "c30cc9dc",
   "metadata": {
    "ExecuteTime": {
     "end_time": "2022-11-10T19:28:42.278972Z",
     "start_time": "2022-11-10T19:22:08.696082Z"
    }
   },
   "outputs": [],
   "source": [
    "forest_pipe_optimized.fit(X_train_tfidf_ft, y_train_tfidf_ft)"
   ]
  },
  {
   "cell_type": "code",
   "execution_count": null,
   "id": "ade29817",
   "metadata": {
    "ExecuteTime": {
     "end_time": "2022-11-10T19:28:44.052536Z",
     "start_time": "2022-11-10T19:28:42.280001Z"
    }
   },
   "outputs": [],
   "source": [
    "y_forest_pred_ft2 = forest_pipe_optimized.predict(X_test_tfidf_ft)"
   ]
  },
  {
   "cell_type": "code",
   "execution_count": null,
   "id": "9e9cc477",
   "metadata": {
    "ExecuteTime": {
     "end_time": "2022-11-10T19:28:45.794848Z",
     "start_time": "2022-11-10T19:28:44.053402Z"
    }
   },
   "outputs": [],
   "source": [
    "plot_confusion_matrix(forest_pipe_optimized, X_test_tfidf_ft, y_test_tfidf_ft)  \n",
    "plt.show()"
   ]
  },
  {
   "cell_type": "code",
   "execution_count": null,
   "id": "dfc78148",
   "metadata": {
    "ExecuteTime": {
     "end_time": "2022-11-10T19:28:45.824864Z",
     "start_time": "2022-11-10T19:28:45.795851Z"
    }
   },
   "outputs": [],
   "source": [
    "print(classification_report(y_test_tfidf_ft, y_forest_pred_ft2))"
   ]
  },
  {
   "cell_type": "code",
   "execution_count": null,
   "id": "525f0e4b",
   "metadata": {
    "ExecuteTime": {
     "end_time": "2022-11-10T19:28:45.834687Z",
     "start_time": "2022-11-10T19:28:45.827834Z"
    }
   },
   "outputs": [],
   "source": [
    "roc_auc_score(y_test_tfidf_ft, y_forest_pred_ft2)"
   ]
  },
  {
   "cell_type": "code",
   "execution_count": null,
   "id": "ae88249b",
   "metadata": {
    "ExecuteTime": {
     "end_time": "2022-11-10T19:28:45.907609Z",
     "start_time": "2022-11-10T19:28:45.836493Z"
    }
   },
   "outputs": [],
   "source": [
    "fpr, tpr, _ = metrics.roc_curve(y_test_tfidf_ft,  y_forest_pred_ft2)\n",
    "auc = metrics.roc_auc_score(y_test_tfidf_ft, y_forest_pred_ft2)\n",
    "\n",
    "plt.plot(fpr,tpr,label=\"AUC=\"+str(auc))\n",
    "plt.ylabel('True Positive Rate')\n",
    "plt.xlabel('False Positive Rate')\n",
    "plt.legend()\n",
    "plt.show()"
   ]
  },
  {
   "cell_type": "markdown",
   "id": "6878fa42",
   "metadata": {},
   "source": [
    "This is the best model so far, with the highest accuracy, recall, and F! score."
   ]
  },
  {
   "cell_type": "markdown",
   "id": "568bf7fd",
   "metadata": {
    "ExecuteTime": {
     "end_time": "2022-11-10T18:50:15.742846Z",
     "start_time": "2022-11-10T18:50:15.738727Z"
    }
   },
   "source": [
    "## Boosting Models"
   ]
  },
  {
   "cell_type": "markdown",
   "id": "f77a54db",
   "metadata": {},
   "source": [
    "### Hist Gradient Boosting Classifier"
   ]
  },
  {
   "cell_type": "code",
   "execution_count": null,
   "id": "65d1bdfd",
   "metadata": {
    "ExecuteTime": {
     "end_time": "2022-11-14T17:49:20.265897Z",
     "start_time": "2022-11-14T17:47:49.672919Z"
    }
   },
   "outputs": [],
   "source": [
    "hgbc = HistGradientBoostingClassifier(max_iter=100, learning_rate=1.0, max_depth=1, verbose = 2, random_state=95).fit(X_train_tfidf_ft, y_train_tfidf_ft)"
   ]
  },
  {
   "cell_type": "code",
   "execution_count": null,
   "id": "8c4d402e",
   "metadata": {
    "ExecuteTime": {
     "end_time": "2022-11-14T17:49:20.374215Z",
     "start_time": "2022-11-14T17:49:20.267981Z"
    }
   },
   "outputs": [],
   "source": [
    "y_hgbc = hgbc.predict(X_test_tfidf_ft)"
   ]
  },
  {
   "cell_type": "code",
   "execution_count": null,
   "id": "7211d5d9",
   "metadata": {
    "ExecuteTime": {
     "end_time": "2022-11-14T17:49:20.556297Z",
     "start_time": "2022-11-14T17:49:20.375109Z"
    }
   },
   "outputs": [],
   "source": [
    "plot_confusion_matrix(hgbc, X_test_tfidf_ft, y_test_tfidf_ft)  \n",
    "plt.show()"
   ]
  },
  {
   "cell_type": "code",
   "execution_count": null,
   "id": "b8ea0f9d",
   "metadata": {
    "ExecuteTime": {
     "end_time": "2022-11-14T17:49:20.589316Z",
     "start_time": "2022-11-14T17:49:20.558604Z"
    }
   },
   "outputs": [],
   "source": [
    "print(classification_report(y_test_tfidf_ft, y_hgbc))"
   ]
  },
  {
   "cell_type": "code",
   "execution_count": null,
   "id": "8f60f4c9",
   "metadata": {
    "ExecuteTime": {
     "end_time": "2022-11-14T17:49:20.598350Z",
     "start_time": "2022-11-14T17:49:20.590639Z"
    }
   },
   "outputs": [],
   "source": [
    "roc_auc_score(y_test_tfidf_ft, y_hgbc)"
   ]
  },
  {
   "cell_type": "code",
   "execution_count": null,
   "id": "da3efa84",
   "metadata": {
    "ExecuteTime": {
     "end_time": "2022-11-14T17:49:20.717507Z",
     "start_time": "2022-11-14T17:49:20.599948Z"
    }
   },
   "outputs": [],
   "source": [
    "fpr, tpr, _ = metrics.roc_curve(y_test_tfidf_ft,  y_hgbc)\n",
    "auc = metrics.roc_auc_score(y_test_tfidf_ft, y_hgbc)\n",
    "\n",
    "plt.plot(fpr,tpr,label=\"AUC=\"+str(auc))\n",
    "plt.ylabel('True Positive Rate')\n",
    "plt.xlabel('False Positive Rate')\n",
    "plt.legend()\n",
    "plt.show()"
   ]
  },
  {
   "cell_type": "markdown",
   "id": "3a8a84ab",
   "metadata": {},
   "source": [
    "Not bad. This is much faster than the other models. But, this was the most odd, and wrong, confusion matrix, of all the models I have used."
   ]
  },
  {
   "cell_type": "markdown",
   "id": "58dd11dd",
   "metadata": {},
   "source": [
    "#### Hypertuning a Hist Gradient Boosting Classifier"
   ]
  },
  {
   "cell_type": "code",
   "execution_count": null,
   "id": "4ea4868c",
   "metadata": {
    "ExecuteTime": {
     "end_time": "2022-11-14T19:37:51.998320Z",
     "start_time": "2022-11-14T19:37:51.994011Z"
    }
   },
   "outputs": [],
   "source": [
    "hgbc_grid = {'model__learning_rate' : [0.001, 0.005, 0.1, 0.15], 'model__max_iter': [230], \n",
    "                     'model__min_samples_leaf': [3], 'model__max_leaf_nodes' : [29], 'model__max_depth' : [21]}"
   ]
  },
  {
   "cell_type": "code",
   "execution_count": null,
   "id": "61649bee",
   "metadata": {
    "ExecuteTime": {
     "end_time": "2022-11-14T19:37:52.646685Z",
     "start_time": "2022-11-14T19:37:52.642029Z"
    }
   },
   "outputs": [],
   "source": [
    "hgbc_pipe = Pipeline([('model', HistGradientBoostingClassifier(random_state = 95, verbose = 2))])"
   ]
  },
  {
   "cell_type": "code",
   "execution_count": null,
   "id": "2cc507d5",
   "metadata": {
    "ExecuteTime": {
     "end_time": "2022-11-14T19:37:53.191050Z",
     "start_time": "2022-11-14T19:37:53.184988Z"
    }
   },
   "outputs": [],
   "source": [
    "halving_cv_hgbc = HalvingRandomSearchCV(hgbc_pipe, hgbc_grid, scoring=\"f1\", n_jobs=-1, min_resources=2222, max_resources = 60000, cv = 5, factor=3, verbose = 2, random_state = 95)"
   ]
  },
  {
   "cell_type": "code",
   "execution_count": null,
   "id": "1a9f5f3b",
   "metadata": {
    "ExecuteTime": {
     "end_time": "2022-11-14T19:47:04.573169Z",
     "start_time": "2022-11-14T19:37:53.837502Z"
    }
   },
   "outputs": [],
   "source": [
    "halving_cv_hgbc.fit(X_train_tfidf_ft, y_train_tfidf_ft)"
   ]
  },
  {
   "cell_type": "code",
   "execution_count": null,
   "id": "b8b41447",
   "metadata": {
    "ExecuteTime": {
     "end_time": "2022-11-14T19:47:17.863256Z",
     "start_time": "2022-11-14T19:47:15.906136Z"
    }
   },
   "outputs": [],
   "source": [
    "y_hgbc_ft = halving_cv_hgbc.predict(X_test_tfidf_ft)"
   ]
  },
  {
   "cell_type": "code",
   "execution_count": null,
   "id": "4246fa00",
   "metadata": {
    "ExecuteTime": {
     "end_time": "2022-11-14T19:47:17.866825Z",
     "start_time": "2022-11-14T19:47:17.864709Z"
    }
   },
   "outputs": [],
   "source": [
    "halving_cv_hgbc.best_score_"
   ]
  },
  {
   "cell_type": "code",
   "execution_count": null,
   "id": "3c3129db",
   "metadata": {
    "ExecuteTime": {
     "end_time": "2022-11-14T19:47:29.340124Z",
     "start_time": "2022-11-14T19:47:29.333129Z"
    }
   },
   "outputs": [],
   "source": [
    "halving_cv_hgbc.best_params_"
   ]
  },
  {
   "cell_type": "code",
   "execution_count": null,
   "id": "5d04e480",
   "metadata": {
    "ExecuteTime": {
     "end_time": "2022-11-14T19:47:51.909058Z",
     "start_time": "2022-11-14T19:47:51.891962Z"
    }
   },
   "outputs": [],
   "source": [
    "optimal_model_hgbc = halving_cv_hgbc.best_estimator_\n",
    "optimal_model_hgbc"
   ]
  },
  {
   "cell_type": "code",
   "execution_count": null,
   "id": "fbe60bc4",
   "metadata": {},
   "outputs": [],
   "source": [
    "{'model__min_samples_leaf': 3,\n",
    " 'model__max_leaf_nodes': 29,\n",
    " 'model__max_iter': 230,\n",
    " 'model__max_depth': 21,\n",
    " 'model__learning_rate': 0.1}"
   ]
  },
  {
   "cell_type": "code",
   "execution_count": null,
   "id": "066094e5",
   "metadata": {
    "ExecuteTime": {
     "end_time": "2022-11-14T19:53:12.201621Z",
     "start_time": "2022-11-14T19:53:12.195133Z"
    }
   },
   "outputs": [],
   "source": [
    "hgbc_optimized = Pipeline([('model', HistGradientBoostingClassifier(learning_rate=0.01, max_depth=21, max_iter=230,\n",
    "                               max_leaf_nodes=29, min_samples_leaf=3,\n",
    "                               random_state=95, verbose=2))])"
   ]
  },
  {
   "cell_type": "code",
   "execution_count": null,
   "id": "b422756a",
   "metadata": {
    "ExecuteTime": {
     "end_time": "2022-11-14T19:57:05.266657Z",
     "start_time": "2022-11-14T19:53:12.825292Z"
    }
   },
   "outputs": [],
   "source": [
    "hgbc_optimized.fit(X_train_tfidf_ft, y_train_tfidf_ft)"
   ]
  },
  {
   "cell_type": "code",
   "execution_count": null,
   "id": "3a506c62",
   "metadata": {
    "ExecuteTime": {
     "end_time": "2022-11-14T19:57:07.148525Z",
     "start_time": "2022-11-14T19:57:05.268620Z"
    }
   },
   "outputs": [],
   "source": [
    "y_hgbc_ft = hgbc_optimized.predict(X_test_tfidf_ft)"
   ]
  },
  {
   "cell_type": "code",
   "execution_count": null,
   "id": "1eb42e7a",
   "metadata": {
    "ExecuteTime": {
     "end_time": "2022-11-14T19:57:09.068629Z",
     "start_time": "2022-11-14T19:57:07.149461Z"
    }
   },
   "outputs": [],
   "source": [
    "plot_confusion_matrix(hgbc_optimized, X_test_tfidf_ft, y_test_tfidf_ft)  \n",
    "plt.show()"
   ]
  },
  {
   "cell_type": "code",
   "execution_count": null,
   "id": "b65bffcd",
   "metadata": {
    "ExecuteTime": {
     "end_time": "2022-11-14T19:57:09.103701Z",
     "start_time": "2022-11-14T19:57:09.070768Z"
    }
   },
   "outputs": [],
   "source": [
    "print(classification_report(y_test_tfidf_ft, y_hgbc_ft))"
   ]
  },
  {
   "cell_type": "code",
   "execution_count": null,
   "id": "8deaa370",
   "metadata": {
    "ExecuteTime": {
     "end_time": "2022-11-14T19:57:09.113916Z",
     "start_time": "2022-11-14T19:57:09.105905Z"
    }
   },
   "outputs": [],
   "source": [
    "roc_auc_score(y_test_tfidf_ft, y_hgbc_ft)"
   ]
  },
  {
   "cell_type": "code",
   "execution_count": null,
   "id": "22d1fbd7",
   "metadata": {
    "ExecuteTime": {
     "end_time": "2022-11-14T19:57:09.182695Z",
     "start_time": "2022-11-14T19:57:09.115168Z"
    }
   },
   "outputs": [],
   "source": [
    "fpr, tpr, _ = metrics.roc_curve(y_test_tfidf_ft,  y_hgbc_ft)\n",
    "auc = metrics.roc_auc_score(y_test_tfidf_ft, y_hgbc_ft)\n",
    "\n",
    "plt.plot(fpr,tpr,label=\"AUC=\"+str(auc))\n",
    "plt.ylabel('True Positive Rate')\n",
    "plt.xlabel('False Positive Rate')\n",
    "plt.legend()\n",
    "plt.show()"
   ]
  },
  {
   "cell_type": "markdown",
   "id": "8237c765",
   "metadata": {},
   "source": [
    "### CatBoost"
   ]
  },
  {
   "cell_type": "code",
   "execution_count": null,
   "id": "dca774e3",
   "metadata": {
    "ExecuteTime": {
     "end_time": "2022-11-14T19:58:23.916617Z",
     "start_time": "2022-11-14T19:58:01.058979Z"
    }
   },
   "outputs": [],
   "source": [
    "pip install catboost"
   ]
  },
  {
   "cell_type": "code",
   "execution_count": 112,
   "id": "ab5f6e5b",
   "metadata": {
    "ExecuteTime": {
     "end_time": "2022-11-15T13:48:20.534021Z",
     "start_time": "2022-11-15T13:48:20.526581Z"
    }
   },
   "outputs": [],
   "source": [
    "from catboost import CatBoostClassifier\n",
    "model_CBC = CatBoostClassifier()"
   ]
  },
  {
   "cell_type": "code",
   "execution_count": 113,
   "id": "a4bfe6d1",
   "metadata": {
    "ExecuteTime": {
     "end_time": "2022-11-15T13:53:59.055945Z",
     "start_time": "2022-11-15T13:48:21.426395Z"
    }
   },
   "outputs": [
    {
     "name": "stdout",
     "output_type": "stream",
     "text": [
      "Learning rate set to 0.116319\n",
      "0:\tlearn: 0.6805588\ttotal: 324ms\tremaining: 5m 23s\n",
      "1:\tlearn: 0.6712869\ttotal: 559ms\tremaining: 4m 38s\n",
      "2:\tlearn: 0.6641628\ttotal: 772ms\tremaining: 4m 16s\n",
      "3:\tlearn: 0.6579186\ttotal: 998ms\tremaining: 4m 8s\n",
      "4:\tlearn: 0.6517885\ttotal: 1.21s\tremaining: 4m 1s\n",
      "5:\tlearn: 0.6476682\ttotal: 1.42s\tremaining: 3m 56s\n",
      "6:\tlearn: 0.6439653\ttotal: 1.64s\tremaining: 3m 52s\n",
      "7:\tlearn: 0.6401412\ttotal: 1.85s\tremaining: 3m 49s\n",
      "8:\tlearn: 0.6365019\ttotal: 2.07s\tremaining: 3m 47s\n",
      "9:\tlearn: 0.6327291\ttotal: 2.28s\tremaining: 3m 45s\n",
      "10:\tlearn: 0.6300596\ttotal: 2.49s\tremaining: 3m 43s\n",
      "11:\tlearn: 0.6275215\ttotal: 2.7s\tremaining: 3m 42s\n",
      "12:\tlearn: 0.6241432\ttotal: 2.94s\tremaining: 3m 43s\n",
      "13:\tlearn: 0.6216416\ttotal: 3.16s\tremaining: 3m 42s\n",
      "14:\tlearn: 0.6194649\ttotal: 3.38s\tremaining: 3m 41s\n",
      "15:\tlearn: 0.6171061\ttotal: 3.6s\tremaining: 3m 41s\n",
      "16:\tlearn: 0.6149811\ttotal: 3.8s\tremaining: 3m 39s\n",
      "17:\tlearn: 0.6128171\ttotal: 4s\tremaining: 3m 38s\n",
      "18:\tlearn: 0.6107743\ttotal: 4.22s\tremaining: 3m 38s\n",
      "19:\tlearn: 0.6084139\ttotal: 4.42s\tremaining: 3m 36s\n",
      "20:\tlearn: 0.6064795\ttotal: 4.63s\tremaining: 3m 35s\n",
      "21:\tlearn: 0.6045085\ttotal: 4.84s\tremaining: 3m 35s\n",
      "22:\tlearn: 0.6024929\ttotal: 5.04s\tremaining: 3m 33s\n",
      "23:\tlearn: 0.6005904\ttotal: 5.23s\tremaining: 3m 32s\n",
      "24:\tlearn: 0.5986798\ttotal: 5.43s\tremaining: 3m 31s\n",
      "25:\tlearn: 0.5970030\ttotal: 5.63s\tremaining: 3m 30s\n",
      "26:\tlearn: 0.5955796\ttotal: 5.84s\tremaining: 3m 30s\n",
      "27:\tlearn: 0.5939553\ttotal: 6.03s\tremaining: 3m 29s\n",
      "28:\tlearn: 0.5924389\ttotal: 6.23s\tremaining: 3m 28s\n",
      "29:\tlearn: 0.5910610\ttotal: 6.42s\tremaining: 3m 27s\n",
      "30:\tlearn: 0.5896375\ttotal: 6.62s\tremaining: 3m 26s\n",
      "31:\tlearn: 0.5882083\ttotal: 6.82s\tremaining: 3m 26s\n",
      "32:\tlearn: 0.5867035\ttotal: 7.02s\tremaining: 3m 25s\n",
      "33:\tlearn: 0.5853578\ttotal: 7.21s\tremaining: 3m 24s\n",
      "34:\tlearn: 0.5842155\ttotal: 7.42s\tremaining: 3m 24s\n",
      "35:\tlearn: 0.5829947\ttotal: 7.61s\tremaining: 3m 23s\n",
      "36:\tlearn: 0.5818401\ttotal: 7.8s\tremaining: 3m 23s\n",
      "37:\tlearn: 0.5805484\ttotal: 8s\tremaining: 3m 22s\n",
      "38:\tlearn: 0.5795125\ttotal: 8.2s\tremaining: 3m 22s\n",
      "39:\tlearn: 0.5781992\ttotal: 8.39s\tremaining: 3m 21s\n",
      "40:\tlearn: 0.5768548\ttotal: 8.59s\tremaining: 3m 20s\n",
      "41:\tlearn: 0.5758020\ttotal: 8.79s\tremaining: 3m 20s\n",
      "42:\tlearn: 0.5746899\ttotal: 8.99s\tremaining: 3m 20s\n",
      "43:\tlearn: 0.5736340\ttotal: 9.18s\tremaining: 3m 19s\n",
      "44:\tlearn: 0.5726573\ttotal: 9.39s\tremaining: 3m 19s\n",
      "45:\tlearn: 0.5715869\ttotal: 9.58s\tremaining: 3m 18s\n",
      "46:\tlearn: 0.5704912\ttotal: 9.78s\tremaining: 3m 18s\n",
      "47:\tlearn: 0.5694308\ttotal: 9.98s\tremaining: 3m 17s\n",
      "48:\tlearn: 0.5684640\ttotal: 10.2s\tremaining: 3m 17s\n",
      "49:\tlearn: 0.5675320\ttotal: 10.4s\tremaining: 3m 17s\n",
      "50:\tlearn: 0.5666520\ttotal: 10.6s\tremaining: 3m 16s\n",
      "51:\tlearn: 0.5656150\ttotal: 10.8s\tremaining: 3m 16s\n",
      "52:\tlearn: 0.5647239\ttotal: 11s\tremaining: 3m 15s\n",
      "53:\tlearn: 0.5636336\ttotal: 11.1s\tremaining: 3m 15s\n",
      "54:\tlearn: 0.5624695\ttotal: 11.3s\tremaining: 3m 14s\n",
      "55:\tlearn: 0.5616249\ttotal: 11.5s\tremaining: 3m 14s\n",
      "56:\tlearn: 0.5604620\ttotal: 11.7s\tremaining: 3m 14s\n",
      "57:\tlearn: 0.5597168\ttotal: 11.9s\tremaining: 3m 13s\n",
      "58:\tlearn: 0.5589617\ttotal: 12.1s\tremaining: 3m 13s\n",
      "59:\tlearn: 0.5580755\ttotal: 12.3s\tremaining: 3m 13s\n",
      "60:\tlearn: 0.5572743\ttotal: 12.5s\tremaining: 3m 12s\n",
      "61:\tlearn: 0.5563522\ttotal: 12.7s\tremaining: 3m 12s\n",
      "62:\tlearn: 0.5553875\ttotal: 12.9s\tremaining: 3m 12s\n",
      "63:\tlearn: 0.5546186\ttotal: 13.1s\tremaining: 3m 11s\n",
      "64:\tlearn: 0.5538928\ttotal: 13.3s\tremaining: 3m 11s\n",
      "65:\tlearn: 0.5531367\ttotal: 13.5s\tremaining: 3m 10s\n",
      "66:\tlearn: 0.5523400\ttotal: 13.7s\tremaining: 3m 10s\n",
      "67:\tlearn: 0.5514192\ttotal: 13.9s\tremaining: 3m 10s\n",
      "68:\tlearn: 0.5507582\ttotal: 14.1s\tremaining: 3m 9s\n",
      "69:\tlearn: 0.5500268\ttotal: 14.3s\tremaining: 3m 9s\n",
      "70:\tlearn: 0.5491102\ttotal: 14.5s\tremaining: 3m 9s\n",
      "71:\tlearn: 0.5481711\ttotal: 14.6s\tremaining: 3m 8s\n",
      "72:\tlearn: 0.5475170\ttotal: 14.8s\tremaining: 3m 8s\n",
      "73:\tlearn: 0.5465525\ttotal: 15s\tremaining: 3m 8s\n",
      "74:\tlearn: 0.5458669\ttotal: 15.2s\tremaining: 3m 7s\n",
      "75:\tlearn: 0.5452115\ttotal: 15.4s\tremaining: 3m 7s\n",
      "76:\tlearn: 0.5446179\ttotal: 15.6s\tremaining: 3m 7s\n",
      "77:\tlearn: 0.5439509\ttotal: 15.8s\tremaining: 3m 7s\n",
      "78:\tlearn: 0.5434149\ttotal: 16s\tremaining: 3m 6s\n",
      "79:\tlearn: 0.5426922\ttotal: 16.2s\tremaining: 3m 6s\n",
      "80:\tlearn: 0.5420900\ttotal: 16.4s\tremaining: 3m 6s\n",
      "81:\tlearn: 0.5413445\ttotal: 16.6s\tremaining: 3m 6s\n",
      "82:\tlearn: 0.5407134\ttotal: 16.8s\tremaining: 3m 5s\n",
      "83:\tlearn: 0.5401039\ttotal: 17s\tremaining: 3m 5s\n",
      "84:\tlearn: 0.5393236\ttotal: 17.2s\tremaining: 3m 5s\n",
      "85:\tlearn: 0.5388076\ttotal: 17.4s\tremaining: 3m 5s\n",
      "86:\tlearn: 0.5381489\ttotal: 17.6s\tremaining: 3m 4s\n",
      "87:\tlearn: 0.5376221\ttotal: 17.8s\tremaining: 3m 4s\n",
      "88:\tlearn: 0.5369810\ttotal: 18s\tremaining: 3m 4s\n",
      "89:\tlearn: 0.5363886\ttotal: 18.2s\tremaining: 3m 3s\n",
      "90:\tlearn: 0.5359108\ttotal: 18.4s\tremaining: 3m 3s\n",
      "91:\tlearn: 0.5353445\ttotal: 18.6s\tremaining: 3m 3s\n",
      "92:\tlearn: 0.5347987\ttotal: 18.8s\tremaining: 3m 3s\n",
      "93:\tlearn: 0.5342227\ttotal: 19s\tremaining: 3m 3s\n",
      "94:\tlearn: 0.5336846\ttotal: 19.2s\tremaining: 3m 2s\n",
      "95:\tlearn: 0.5329950\ttotal: 19.4s\tremaining: 3m 2s\n",
      "96:\tlearn: 0.5324725\ttotal: 19.6s\tremaining: 3m 2s\n",
      "97:\tlearn: 0.5318879\ttotal: 19.8s\tremaining: 3m 2s\n",
      "98:\tlearn: 0.5312839\ttotal: 20s\tremaining: 3m 1s\n",
      "99:\tlearn: 0.5304692\ttotal: 20.2s\tremaining: 3m 1s\n",
      "100:\tlearn: 0.5299805\ttotal: 20.4s\tremaining: 3m 1s\n",
      "101:\tlearn: 0.5294681\ttotal: 20.6s\tremaining: 3m 1s\n",
      "102:\tlearn: 0.5290517\ttotal: 20.8s\tremaining: 3m\n",
      "103:\tlearn: 0.5284051\ttotal: 21s\tremaining: 3m\n",
      "104:\tlearn: 0.5279430\ttotal: 21.2s\tremaining: 3m\n",
      "105:\tlearn: 0.5272788\ttotal: 21.4s\tremaining: 3m\n",
      "106:\tlearn: 0.5268340\ttotal: 21.6s\tremaining: 3m\n",
      "107:\tlearn: 0.5261215\ttotal: 21.8s\tremaining: 2m 59s\n",
      "108:\tlearn: 0.5253955\ttotal: 22s\tremaining: 2m 59s\n",
      "109:\tlearn: 0.5247378\ttotal: 22.2s\tremaining: 2m 59s\n",
      "110:\tlearn: 0.5240687\ttotal: 22.4s\tremaining: 2m 59s\n",
      "111:\tlearn: 0.5236262\ttotal: 22.6s\tremaining: 2m 59s\n",
      "112:\tlearn: 0.5230780\ttotal: 22.8s\tremaining: 2m 58s\n",
      "113:\tlearn: 0.5224667\ttotal: 23s\tremaining: 2m 58s\n",
      "114:\tlearn: 0.5219166\ttotal: 23.2s\tremaining: 2m 58s\n",
      "115:\tlearn: 0.5212550\ttotal: 23.4s\tremaining: 2m 58s\n",
      "116:\tlearn: 0.5207633\ttotal: 23.6s\tremaining: 2m 58s\n",
      "117:\tlearn: 0.5202177\ttotal: 23.8s\tremaining: 2m 57s\n",
      "118:\tlearn: 0.5197450\ttotal: 24s\tremaining: 2m 57s\n",
      "119:\tlearn: 0.5190289\ttotal: 24.2s\tremaining: 2m 57s\n",
      "120:\tlearn: 0.5185968\ttotal: 24.4s\tremaining: 2m 57s\n",
      "121:\tlearn: 0.5181413\ttotal: 24.6s\tremaining: 2m 57s\n",
      "122:\tlearn: 0.5175716\ttotal: 24.8s\tremaining: 2m 57s\n",
      "123:\tlearn: 0.5170111\ttotal: 25s\tremaining: 2m 56s\n",
      "124:\tlearn: 0.5164728\ttotal: 25.2s\tremaining: 2m 56s\n",
      "125:\tlearn: 0.5159412\ttotal: 25.4s\tremaining: 2m 56s\n",
      "126:\tlearn: 0.5154698\ttotal: 25.6s\tremaining: 2m 56s\n",
      "127:\tlearn: 0.5150681\ttotal: 25.8s\tremaining: 2m 55s\n",
      "128:\tlearn: 0.5146283\ttotal: 26s\tremaining: 2m 55s\n",
      "129:\tlearn: 0.5141318\ttotal: 26.2s\tremaining: 2m 55s\n",
      "130:\tlearn: 0.5136772\ttotal: 26.5s\tremaining: 2m 55s\n",
      "131:\tlearn: 0.5130150\ttotal: 26.7s\tremaining: 2m 55s\n",
      "132:\tlearn: 0.5125606\ttotal: 26.9s\tremaining: 2m 55s\n",
      "133:\tlearn: 0.5119563\ttotal: 27.1s\tremaining: 2m 55s\n",
      "134:\tlearn: 0.5114744\ttotal: 27.3s\tremaining: 2m 54s\n",
      "135:\tlearn: 0.5110650\ttotal: 27.5s\tremaining: 2m 54s\n",
      "136:\tlearn: 0.5106778\ttotal: 27.7s\tremaining: 2m 54s\n",
      "137:\tlearn: 0.5101489\ttotal: 27.9s\tremaining: 2m 54s\n",
      "138:\tlearn: 0.5097531\ttotal: 28.2s\tremaining: 2m 54s\n",
      "139:\tlearn: 0.5091729\ttotal: 28.4s\tremaining: 2m 54s\n",
      "140:\tlearn: 0.5084917\ttotal: 28.6s\tremaining: 2m 53s\n",
      "141:\tlearn: 0.5079860\ttotal: 28.7s\tremaining: 2m 53s\n",
      "142:\tlearn: 0.5075486\ttotal: 28.9s\tremaining: 2m 53s\n",
      "143:\tlearn: 0.5069556\ttotal: 29.1s\tremaining: 2m 53s\n",
      "144:\tlearn: 0.5065827\ttotal: 29.3s\tremaining: 2m 53s\n",
      "145:\tlearn: 0.5061679\ttotal: 29.5s\tremaining: 2m 52s\n",
      "146:\tlearn: 0.5057252\ttotal: 29.7s\tremaining: 2m 52s\n",
      "147:\tlearn: 0.5053049\ttotal: 29.9s\tremaining: 2m 52s\n",
      "148:\tlearn: 0.5048070\ttotal: 30.1s\tremaining: 2m 52s\n",
      "149:\tlearn: 0.5043762\ttotal: 30.3s\tremaining: 2m 51s\n",
      "150:\tlearn: 0.5039090\ttotal: 30.5s\tremaining: 2m 51s\n",
      "151:\tlearn: 0.5035967\ttotal: 30.7s\tremaining: 2m 51s\n",
      "152:\tlearn: 0.5031375\ttotal: 30.9s\tremaining: 2m 51s\n",
      "153:\tlearn: 0.5025655\ttotal: 31.1s\tremaining: 2m 50s\n",
      "154:\tlearn: 0.5022224\ttotal: 31.3s\tremaining: 2m 50s\n",
      "155:\tlearn: 0.5017169\ttotal: 31.5s\tremaining: 2m 50s\n",
      "156:\tlearn: 0.5013249\ttotal: 31.7s\tremaining: 2m 50s\n",
      "157:\tlearn: 0.5009474\ttotal: 31.9s\tremaining: 2m 49s\n",
      "158:\tlearn: 0.5005941\ttotal: 32.1s\tremaining: 2m 49s\n"
     ]
    },
    {
     "name": "stdout",
     "output_type": "stream",
     "text": [
      "159:\tlearn: 0.5002642\ttotal: 32.3s\tremaining: 2m 49s\n",
      "160:\tlearn: 0.4998753\ttotal: 32.5s\tremaining: 2m 49s\n",
      "161:\tlearn: 0.4994999\ttotal: 32.6s\tremaining: 2m 48s\n",
      "162:\tlearn: 0.4991016\ttotal: 32.8s\tremaining: 2m 48s\n",
      "163:\tlearn: 0.4987825\ttotal: 33s\tremaining: 2m 48s\n",
      "164:\tlearn: 0.4984179\ttotal: 33.2s\tremaining: 2m 48s\n",
      "165:\tlearn: 0.4980928\ttotal: 33.4s\tremaining: 2m 47s\n",
      "166:\tlearn: 0.4978088\ttotal: 33.6s\tremaining: 2m 47s\n",
      "167:\tlearn: 0.4973340\ttotal: 33.8s\tremaining: 2m 47s\n",
      "168:\tlearn: 0.4969493\ttotal: 34s\tremaining: 2m 47s\n",
      "169:\tlearn: 0.4964379\ttotal: 34.2s\tremaining: 2m 46s\n",
      "170:\tlearn: 0.4960824\ttotal: 34.3s\tremaining: 2m 46s\n",
      "171:\tlearn: 0.4957638\ttotal: 34.5s\tremaining: 2m 46s\n",
      "172:\tlearn: 0.4953776\ttotal: 34.7s\tremaining: 2m 46s\n",
      "173:\tlearn: 0.4950927\ttotal: 34.9s\tremaining: 2m 45s\n",
      "174:\tlearn: 0.4947148\ttotal: 35.1s\tremaining: 2m 45s\n",
      "175:\tlearn: 0.4942250\ttotal: 35.3s\tremaining: 2m 45s\n",
      "176:\tlearn: 0.4937927\ttotal: 35.5s\tremaining: 2m 45s\n",
      "177:\tlearn: 0.4933059\ttotal: 35.7s\tremaining: 2m 44s\n",
      "178:\tlearn: 0.4929544\ttotal: 35.9s\tremaining: 2m 44s\n",
      "179:\tlearn: 0.4926072\ttotal: 36.1s\tremaining: 2m 44s\n",
      "180:\tlearn: 0.4922859\ttotal: 36.3s\tremaining: 2m 44s\n",
      "181:\tlearn: 0.4919374\ttotal: 36.5s\tremaining: 2m 43s\n",
      "182:\tlearn: 0.4916274\ttotal: 36.7s\tremaining: 2m 43s\n",
      "183:\tlearn: 0.4912368\ttotal: 36.9s\tremaining: 2m 43s\n",
      "184:\tlearn: 0.4909547\ttotal: 37.1s\tremaining: 2m 43s\n",
      "185:\tlearn: 0.4906108\ttotal: 37.2s\tremaining: 2m 42s\n",
      "186:\tlearn: 0.4902414\ttotal: 37.4s\tremaining: 2m 42s\n",
      "187:\tlearn: 0.4899162\ttotal: 37.6s\tremaining: 2m 42s\n",
      "188:\tlearn: 0.4895992\ttotal: 37.8s\tremaining: 2m 42s\n",
      "189:\tlearn: 0.4892660\ttotal: 38s\tremaining: 2m 42s\n",
      "190:\tlearn: 0.4889520\ttotal: 38.2s\tremaining: 2m 41s\n",
      "191:\tlearn: 0.4886721\ttotal: 38.4s\tremaining: 2m 41s\n",
      "192:\tlearn: 0.4883562\ttotal: 38.6s\tremaining: 2m 41s\n",
      "193:\tlearn: 0.4880709\ttotal: 38.8s\tremaining: 2m 41s\n",
      "194:\tlearn: 0.4876785\ttotal: 39s\tremaining: 2m 40s\n",
      "195:\tlearn: 0.4874212\ttotal: 39.2s\tremaining: 2m 40s\n",
      "196:\tlearn: 0.4870422\ttotal: 39.4s\tremaining: 2m 40s\n",
      "197:\tlearn: 0.4867631\ttotal: 39.6s\tremaining: 2m 40s\n",
      "198:\tlearn: 0.4864678\ttotal: 39.7s\tremaining: 2m 39s\n",
      "199:\tlearn: 0.4860342\ttotal: 39.9s\tremaining: 2m 39s\n",
      "200:\tlearn: 0.4855697\ttotal: 40.1s\tremaining: 2m 39s\n",
      "201:\tlearn: 0.4852915\ttotal: 40.3s\tremaining: 2m 39s\n",
      "202:\tlearn: 0.4849850\ttotal: 40.5s\tremaining: 2m 39s\n",
      "203:\tlearn: 0.4846383\ttotal: 40.7s\tremaining: 2m 38s\n",
      "204:\tlearn: 0.4843738\ttotal: 40.9s\tremaining: 2m 38s\n",
      "205:\tlearn: 0.4840819\ttotal: 41.1s\tremaining: 2m 38s\n",
      "206:\tlearn: 0.4837297\ttotal: 41.3s\tremaining: 2m 38s\n",
      "207:\tlearn: 0.4834799\ttotal: 41.5s\tremaining: 2m 37s\n",
      "208:\tlearn: 0.4832284\ttotal: 41.7s\tremaining: 2m 37s\n",
      "209:\tlearn: 0.4829743\ttotal: 41.9s\tremaining: 2m 37s\n",
      "210:\tlearn: 0.4825867\ttotal: 42.1s\tremaining: 2m 37s\n",
      "211:\tlearn: 0.4822650\ttotal: 42.2s\tremaining: 2m 37s\n",
      "212:\tlearn: 0.4819168\ttotal: 42.4s\tremaining: 2m 36s\n",
      "213:\tlearn: 0.4816359\ttotal: 42.6s\tremaining: 2m 36s\n",
      "214:\tlearn: 0.4813909\ttotal: 42.8s\tremaining: 2m 36s\n",
      "215:\tlearn: 0.4810308\ttotal: 43s\tremaining: 2m 36s\n",
      "216:\tlearn: 0.4807679\ttotal: 43.2s\tremaining: 2m 35s\n",
      "217:\tlearn: 0.4804988\ttotal: 43.4s\tremaining: 2m 35s\n",
      "218:\tlearn: 0.4802240\ttotal: 43.6s\tremaining: 2m 35s\n",
      "219:\tlearn: 0.4799355\ttotal: 43.7s\tremaining: 2m 35s\n",
      "220:\tlearn: 0.4796870\ttotal: 44s\tremaining: 2m 34s\n",
      "221:\tlearn: 0.4794641\ttotal: 44.1s\tremaining: 2m 34s\n",
      "222:\tlearn: 0.4792068\ttotal: 44.3s\tremaining: 2m 34s\n",
      "223:\tlearn: 0.4789616\ttotal: 44.5s\tremaining: 2m 34s\n",
      "224:\tlearn: 0.4787204\ttotal: 44.7s\tremaining: 2m 33s\n",
      "225:\tlearn: 0.4784830\ttotal: 44.9s\tremaining: 2m 33s\n",
      "226:\tlearn: 0.4782478\ttotal: 45.1s\tremaining: 2m 33s\n",
      "227:\tlearn: 0.4780310\ttotal: 45.3s\tremaining: 2m 33s\n",
      "228:\tlearn: 0.4778099\ttotal: 45.5s\tremaining: 2m 33s\n",
      "229:\tlearn: 0.4775754\ttotal: 45.7s\tremaining: 2m 32s\n",
      "230:\tlearn: 0.4772230\ttotal: 45.9s\tremaining: 2m 32s\n",
      "231:\tlearn: 0.4769435\ttotal: 46.1s\tremaining: 2m 32s\n",
      "232:\tlearn: 0.4766427\ttotal: 46.3s\tremaining: 2m 32s\n",
      "233:\tlearn: 0.4764059\ttotal: 46.4s\tremaining: 2m 32s\n",
      "234:\tlearn: 0.4761520\ttotal: 46.6s\tremaining: 2m 31s\n",
      "235:\tlearn: 0.4758531\ttotal: 46.8s\tremaining: 2m 31s\n",
      "236:\tlearn: 0.4756047\ttotal: 47s\tremaining: 2m 31s\n",
      "237:\tlearn: 0.4753992\ttotal: 47.2s\tremaining: 2m 31s\n",
      "238:\tlearn: 0.4751019\ttotal: 47.4s\tremaining: 2m 30s\n",
      "239:\tlearn: 0.4748514\ttotal: 47.6s\tremaining: 2m 30s\n",
      "240:\tlearn: 0.4745547\ttotal: 47.8s\tremaining: 2m 30s\n",
      "241:\tlearn: 0.4743401\ttotal: 47.9s\tremaining: 2m 30s\n",
      "242:\tlearn: 0.4740834\ttotal: 48.1s\tremaining: 2m 29s\n",
      "243:\tlearn: 0.4738248\ttotal: 48.3s\tremaining: 2m 29s\n",
      "244:\tlearn: 0.4734914\ttotal: 48.5s\tremaining: 2m 29s\n",
      "245:\tlearn: 0.4732860\ttotal: 48.7s\tremaining: 2m 29s\n",
      "246:\tlearn: 0.4730136\ttotal: 48.9s\tremaining: 2m 29s\n",
      "247:\tlearn: 0.4727826\ttotal: 49.1s\tremaining: 2m 28s\n",
      "248:\tlearn: 0.4725352\ttotal: 49.3s\tremaining: 2m 28s\n",
      "249:\tlearn: 0.4720662\ttotal: 49.5s\tremaining: 2m 28s\n",
      "250:\tlearn: 0.4718413\ttotal: 49.7s\tremaining: 2m 28s\n",
      "251:\tlearn: 0.4715143\ttotal: 49.9s\tremaining: 2m 27s\n",
      "252:\tlearn: 0.4711800\ttotal: 50.1s\tremaining: 2m 27s\n",
      "253:\tlearn: 0.4709561\ttotal: 50.2s\tremaining: 2m 27s\n",
      "254:\tlearn: 0.4707000\ttotal: 50.4s\tremaining: 2m 27s\n",
      "255:\tlearn: 0.4704472\ttotal: 50.6s\tremaining: 2m 27s\n",
      "256:\tlearn: 0.4700584\ttotal: 50.8s\tremaining: 2m 26s\n",
      "257:\tlearn: 0.4698365\ttotal: 51s\tremaining: 2m 26s\n",
      "258:\tlearn: 0.4696171\ttotal: 51.2s\tremaining: 2m 26s\n",
      "259:\tlearn: 0.4692976\ttotal: 51.4s\tremaining: 2m 26s\n",
      "260:\tlearn: 0.4690742\ttotal: 51.6s\tremaining: 2m 26s\n",
      "261:\tlearn: 0.4688304\ttotal: 51.8s\tremaining: 2m 25s\n",
      "262:\tlearn: 0.4686062\ttotal: 52s\tremaining: 2m 25s\n",
      "263:\tlearn: 0.4683998\ttotal: 52.2s\tremaining: 2m 25s\n",
      "264:\tlearn: 0.4682097\ttotal: 52.4s\tremaining: 2m 25s\n",
      "265:\tlearn: 0.4679697\ttotal: 52.6s\tremaining: 2m 25s\n",
      "266:\tlearn: 0.4677450\ttotal: 52.8s\tremaining: 2m 24s\n",
      "267:\tlearn: 0.4675127\ttotal: 53s\tremaining: 2m 24s\n",
      "268:\tlearn: 0.4673372\ttotal: 53.1s\tremaining: 2m 24s\n",
      "269:\tlearn: 0.4671030\ttotal: 53.3s\tremaining: 2m 24s\n",
      "270:\tlearn: 0.4668942\ttotal: 53.5s\tremaining: 2m 23s\n",
      "271:\tlearn: 0.4665390\ttotal: 53.7s\tremaining: 2m 23s\n",
      "272:\tlearn: 0.4663219\ttotal: 53.9s\tremaining: 2m 23s\n",
      "273:\tlearn: 0.4660701\ttotal: 54.1s\tremaining: 2m 23s\n",
      "274:\tlearn: 0.4658407\ttotal: 54.3s\tremaining: 2m 23s\n",
      "275:\tlearn: 0.4655937\ttotal: 54.5s\tremaining: 2m 22s\n",
      "276:\tlearn: 0.4653673\ttotal: 54.7s\tremaining: 2m 22s\n",
      "277:\tlearn: 0.4651415\ttotal: 54.9s\tremaining: 2m 22s\n",
      "278:\tlearn: 0.4649261\ttotal: 55s\tremaining: 2m 22s\n",
      "279:\tlearn: 0.4646650\ttotal: 55.2s\tremaining: 2m 22s\n",
      "280:\tlearn: 0.4644145\ttotal: 55.4s\tremaining: 2m 21s\n",
      "281:\tlearn: 0.4642255\ttotal: 55.6s\tremaining: 2m 21s\n",
      "282:\tlearn: 0.4640407\ttotal: 55.8s\tremaining: 2m 21s\n",
      "283:\tlearn: 0.4638212\ttotal: 56s\tremaining: 2m 21s\n",
      "284:\tlearn: 0.4636434\ttotal: 56.2s\tremaining: 2m 20s\n",
      "285:\tlearn: 0.4633673\ttotal: 56.4s\tremaining: 2m 20s\n",
      "286:\tlearn: 0.4631448\ttotal: 56.6s\tremaining: 2m 20s\n",
      "287:\tlearn: 0.4629555\ttotal: 56.8s\tremaining: 2m 20s\n",
      "288:\tlearn: 0.4626965\ttotal: 57s\tremaining: 2m 20s\n",
      "289:\tlearn: 0.4625277\ttotal: 57.2s\tremaining: 2m 19s\n",
      "290:\tlearn: 0.4623267\ttotal: 57.4s\tremaining: 2m 19s\n",
      "291:\tlearn: 0.4620965\ttotal: 57.6s\tremaining: 2m 19s\n",
      "292:\tlearn: 0.4619016\ttotal: 57.7s\tremaining: 2m 19s\n",
      "293:\tlearn: 0.4616430\ttotal: 57.9s\tremaining: 2m 19s\n",
      "294:\tlearn: 0.4614711\ttotal: 58.1s\tremaining: 2m 18s\n",
      "295:\tlearn: 0.4611974\ttotal: 58.3s\tremaining: 2m 18s\n",
      "296:\tlearn: 0.4609751\ttotal: 58.5s\tremaining: 2m 18s\n",
      "297:\tlearn: 0.4607971\ttotal: 58.7s\tremaining: 2m 18s\n",
      "298:\tlearn: 0.4605814\ttotal: 58.9s\tremaining: 2m 18s\n",
      "299:\tlearn: 0.4603794\ttotal: 59.1s\tremaining: 2m 17s\n",
      "300:\tlearn: 0.4601468\ttotal: 59.3s\tremaining: 2m 17s\n",
      "301:\tlearn: 0.4599926\ttotal: 59.4s\tremaining: 2m 17s\n",
      "302:\tlearn: 0.4598188\ttotal: 59.6s\tremaining: 2m 17s\n",
      "303:\tlearn: 0.4596494\ttotal: 59.8s\tremaining: 2m 16s\n",
      "304:\tlearn: 0.4593715\ttotal: 1m\tremaining: 2m 16s\n",
      "305:\tlearn: 0.4591676\ttotal: 1m\tremaining: 2m 16s\n",
      "306:\tlearn: 0.4589770\ttotal: 1m\tremaining: 2m 16s\n",
      "307:\tlearn: 0.4587398\ttotal: 1m\tremaining: 2m 16s\n",
      "308:\tlearn: 0.4585542\ttotal: 1m\tremaining: 2m 15s\n",
      "309:\tlearn: 0.4583947\ttotal: 1m 1s\tremaining: 2m 15s\n",
      "310:\tlearn: 0.4582198\ttotal: 1m 1s\tremaining: 2m 15s\n",
      "311:\tlearn: 0.4579988\ttotal: 1m 1s\tremaining: 2m 15s\n",
      "312:\tlearn: 0.4578375\ttotal: 1m 1s\tremaining: 2m 15s\n",
      "313:\tlearn: 0.4576474\ttotal: 1m 1s\tremaining: 2m 14s\n",
      "314:\tlearn: 0.4574928\ttotal: 1m 1s\tremaining: 2m 14s\n",
      "315:\tlearn: 0.4572919\ttotal: 1m 2s\tremaining: 2m 14s\n"
     ]
    },
    {
     "name": "stdout",
     "output_type": "stream",
     "text": [
      "316:\tlearn: 0.4569786\ttotal: 1m 2s\tremaining: 2m 14s\n",
      "317:\tlearn: 0.4567728\ttotal: 1m 2s\tremaining: 2m 14s\n",
      "318:\tlearn: 0.4565826\ttotal: 1m 2s\tremaining: 2m 14s\n",
      "319:\tlearn: 0.4564089\ttotal: 1m 2s\tremaining: 2m 13s\n",
      "320:\tlearn: 0.4562380\ttotal: 1m 3s\tremaining: 2m 13s\n",
      "321:\tlearn: 0.4559447\ttotal: 1m 3s\tremaining: 2m 13s\n",
      "322:\tlearn: 0.4557285\ttotal: 1m 3s\tremaining: 2m 13s\n",
      "323:\tlearn: 0.4555403\ttotal: 1m 3s\tremaining: 2m 12s\n",
      "324:\tlearn: 0.4552120\ttotal: 1m 3s\tremaining: 2m 12s\n",
      "325:\tlearn: 0.4550393\ttotal: 1m 4s\tremaining: 2m 12s\n",
      "326:\tlearn: 0.4548279\ttotal: 1m 4s\tremaining: 2m 12s\n",
      "327:\tlearn: 0.4545914\ttotal: 1m 4s\tremaining: 2m 12s\n",
      "328:\tlearn: 0.4543878\ttotal: 1m 4s\tremaining: 2m 12s\n",
      "329:\tlearn: 0.4541450\ttotal: 1m 5s\tremaining: 2m 11s\n",
      "330:\tlearn: 0.4539462\ttotal: 1m 5s\tremaining: 2m 11s\n",
      "331:\tlearn: 0.4537487\ttotal: 1m 5s\tremaining: 2m 11s\n",
      "332:\tlearn: 0.4535616\ttotal: 1m 5s\tremaining: 2m 11s\n",
      "333:\tlearn: 0.4533031\ttotal: 1m 5s\tremaining: 2m 11s\n",
      "334:\tlearn: 0.4531304\ttotal: 1m 6s\tremaining: 2m 11s\n",
      "335:\tlearn: 0.4529840\ttotal: 1m 6s\tremaining: 2m 10s\n",
      "336:\tlearn: 0.4527882\ttotal: 1m 6s\tremaining: 2m 10s\n",
      "337:\tlearn: 0.4526074\ttotal: 1m 6s\tremaining: 2m 10s\n",
      "338:\tlearn: 0.4524490\ttotal: 1m 6s\tremaining: 2m 10s\n",
      "339:\tlearn: 0.4522023\ttotal: 1m 6s\tremaining: 2m 9s\n",
      "340:\tlearn: 0.4520687\ttotal: 1m 7s\tremaining: 2m 9s\n",
      "341:\tlearn: 0.4519194\ttotal: 1m 7s\tremaining: 2m 9s\n",
      "342:\tlearn: 0.4517081\ttotal: 1m 7s\tremaining: 2m 9s\n",
      "343:\tlearn: 0.4515601\ttotal: 1m 7s\tremaining: 2m 9s\n",
      "344:\tlearn: 0.4513991\ttotal: 1m 7s\tremaining: 2m 8s\n",
      "345:\tlearn: 0.4511638\ttotal: 1m 8s\tremaining: 2m 8s\n",
      "346:\tlearn: 0.4510186\ttotal: 1m 8s\tremaining: 2m 8s\n",
      "347:\tlearn: 0.4508487\ttotal: 1m 8s\tremaining: 2m 8s\n",
      "348:\tlearn: 0.4507023\ttotal: 1m 8s\tremaining: 2m 8s\n",
      "349:\tlearn: 0.4505382\ttotal: 1m 8s\tremaining: 2m 7s\n",
      "350:\tlearn: 0.4503712\ttotal: 1m 9s\tremaining: 2m 7s\n",
      "351:\tlearn: 0.4501772\ttotal: 1m 9s\tremaining: 2m 7s\n",
      "352:\tlearn: 0.4499666\ttotal: 1m 9s\tremaining: 2m 7s\n",
      "353:\tlearn: 0.4497959\ttotal: 1m 9s\tremaining: 2m 6s\n",
      "354:\tlearn: 0.4495831\ttotal: 1m 9s\tremaining: 2m 6s\n",
      "355:\tlearn: 0.4494025\ttotal: 1m 9s\tremaining: 2m 6s\n",
      "356:\tlearn: 0.4492360\ttotal: 1m 10s\tremaining: 2m 6s\n",
      "357:\tlearn: 0.4490510\ttotal: 1m 10s\tremaining: 2m 6s\n",
      "358:\tlearn: 0.4488909\ttotal: 1m 10s\tremaining: 2m 5s\n",
      "359:\tlearn: 0.4487576\ttotal: 1m 10s\tremaining: 2m 5s\n",
      "360:\tlearn: 0.4486160\ttotal: 1m 10s\tremaining: 2m 5s\n",
      "361:\tlearn: 0.4484413\ttotal: 1m 11s\tremaining: 2m 5s\n",
      "362:\tlearn: 0.4482966\ttotal: 1m 11s\tremaining: 2m 5s\n",
      "363:\tlearn: 0.4481106\ttotal: 1m 11s\tremaining: 2m 4s\n",
      "364:\tlearn: 0.4479503\ttotal: 1m 11s\tremaining: 2m 4s\n",
      "365:\tlearn: 0.4476124\ttotal: 1m 11s\tremaining: 2m 4s\n",
      "366:\tlearn: 0.4474814\ttotal: 1m 12s\tremaining: 2m 4s\n",
      "367:\tlearn: 0.4473019\ttotal: 1m 12s\tremaining: 2m 4s\n",
      "368:\tlearn: 0.4470923\ttotal: 1m 12s\tremaining: 2m 3s\n",
      "369:\tlearn: 0.4469527\ttotal: 1m 12s\tremaining: 2m 3s\n",
      "370:\tlearn: 0.4466881\ttotal: 1m 12s\tremaining: 2m 3s\n",
      "371:\tlearn: 0.4465388\ttotal: 1m 13s\tremaining: 2m 3s\n",
      "372:\tlearn: 0.4464041\ttotal: 1m 13s\tremaining: 2m 3s\n",
      "373:\tlearn: 0.4462415\ttotal: 1m 13s\tremaining: 2m 2s\n",
      "374:\tlearn: 0.4460369\ttotal: 1m 13s\tremaining: 2m 2s\n",
      "375:\tlearn: 0.4458694\ttotal: 1m 13s\tremaining: 2m 2s\n",
      "376:\tlearn: 0.4457349\ttotal: 1m 14s\tremaining: 2m 2s\n",
      "377:\tlearn: 0.4455738\ttotal: 1m 14s\tremaining: 2m 2s\n",
      "378:\tlearn: 0.4454234\ttotal: 1m 14s\tremaining: 2m 1s\n",
      "379:\tlearn: 0.4452884\ttotal: 1m 14s\tremaining: 2m 1s\n",
      "380:\tlearn: 0.4451041\ttotal: 1m 14s\tremaining: 2m 1s\n",
      "381:\tlearn: 0.4449865\ttotal: 1m 14s\tremaining: 2m 1s\n",
      "382:\tlearn: 0.4448452\ttotal: 1m 15s\tremaining: 2m 1s\n",
      "383:\tlearn: 0.4445557\ttotal: 1m 15s\tremaining: 2m\n",
      "384:\tlearn: 0.4444291\ttotal: 1m 15s\tremaining: 2m\n",
      "385:\tlearn: 0.4442454\ttotal: 1m 15s\tremaining: 2m\n",
      "386:\tlearn: 0.4440922\ttotal: 1m 15s\tremaining: 2m\n",
      "387:\tlearn: 0.4439339\ttotal: 1m 16s\tremaining: 2m\n",
      "388:\tlearn: 0.4437881\ttotal: 1m 16s\tremaining: 1m 59s\n",
      "389:\tlearn: 0.4436190\ttotal: 1m 16s\tremaining: 1m 59s\n",
      "390:\tlearn: 0.4434846\ttotal: 1m 16s\tremaining: 1m 59s\n",
      "391:\tlearn: 0.4433326\ttotal: 1m 16s\tremaining: 1m 59s\n",
      "392:\tlearn: 0.4431937\ttotal: 1m 17s\tremaining: 1m 59s\n",
      "393:\tlearn: 0.4430374\ttotal: 1m 17s\tremaining: 1m 58s\n",
      "394:\tlearn: 0.4429002\ttotal: 1m 17s\tremaining: 1m 58s\n",
      "395:\tlearn: 0.4427518\ttotal: 1m 17s\tremaining: 1m 58s\n",
      "396:\tlearn: 0.4425940\ttotal: 1m 17s\tremaining: 1m 58s\n",
      "397:\tlearn: 0.4424590\ttotal: 1m 18s\tremaining: 1m 57s\n",
      "398:\tlearn: 0.4423120\ttotal: 1m 18s\tremaining: 1m 57s\n",
      "399:\tlearn: 0.4421769\ttotal: 1m 18s\tremaining: 1m 57s\n",
      "400:\tlearn: 0.4419992\ttotal: 1m 18s\tremaining: 1m 57s\n",
      "401:\tlearn: 0.4418664\ttotal: 1m 18s\tremaining: 1m 57s\n",
      "402:\tlearn: 0.4416287\ttotal: 1m 18s\tremaining: 1m 56s\n",
      "403:\tlearn: 0.4414930\ttotal: 1m 19s\tremaining: 1m 56s\n",
      "404:\tlearn: 0.4413699\ttotal: 1m 19s\tremaining: 1m 56s\n",
      "405:\tlearn: 0.4411867\ttotal: 1m 19s\tremaining: 1m 56s\n",
      "406:\tlearn: 0.4410477\ttotal: 1m 19s\tremaining: 1m 56s\n",
      "407:\tlearn: 0.4409290\ttotal: 1m 19s\tremaining: 1m 55s\n",
      "408:\tlearn: 0.4407950\ttotal: 1m 20s\tremaining: 1m 55s\n",
      "409:\tlearn: 0.4406581\ttotal: 1m 20s\tremaining: 1m 55s\n",
      "410:\tlearn: 0.4404884\ttotal: 1m 20s\tremaining: 1m 55s\n",
      "411:\tlearn: 0.4403478\ttotal: 1m 20s\tremaining: 1m 55s\n",
      "412:\tlearn: 0.4401973\ttotal: 1m 20s\tremaining: 1m 54s\n",
      "413:\tlearn: 0.4400156\ttotal: 1m 21s\tremaining: 1m 54s\n",
      "414:\tlearn: 0.4398871\ttotal: 1m 21s\tremaining: 1m 54s\n",
      "415:\tlearn: 0.4397432\ttotal: 1m 21s\tremaining: 1m 54s\n",
      "416:\tlearn: 0.4396218\ttotal: 1m 21s\tremaining: 1m 54s\n",
      "417:\tlearn: 0.4394171\ttotal: 1m 21s\tremaining: 1m 53s\n",
      "418:\tlearn: 0.4392098\ttotal: 1m 22s\tremaining: 1m 53s\n",
      "419:\tlearn: 0.4390536\ttotal: 1m 22s\tremaining: 1m 53s\n",
      "420:\tlearn: 0.4389342\ttotal: 1m 22s\tremaining: 1m 53s\n",
      "421:\tlearn: 0.4387478\ttotal: 1m 22s\tremaining: 1m 53s\n",
      "422:\tlearn: 0.4386058\ttotal: 1m 22s\tremaining: 1m 52s\n",
      "423:\tlearn: 0.4384128\ttotal: 1m 22s\tremaining: 1m 52s\n",
      "424:\tlearn: 0.4382638\ttotal: 1m 23s\tremaining: 1m 52s\n",
      "425:\tlearn: 0.4380926\ttotal: 1m 23s\tremaining: 1m 52s\n",
      "426:\tlearn: 0.4379366\ttotal: 1m 23s\tremaining: 1m 52s\n",
      "427:\tlearn: 0.4377727\ttotal: 1m 23s\tremaining: 1m 51s\n",
      "428:\tlearn: 0.4376231\ttotal: 1m 23s\tremaining: 1m 51s\n",
      "429:\tlearn: 0.4374373\ttotal: 1m 24s\tremaining: 1m 51s\n",
      "430:\tlearn: 0.4373193\ttotal: 1m 24s\tremaining: 1m 51s\n",
      "431:\tlearn: 0.4371653\ttotal: 1m 24s\tremaining: 1m 51s\n",
      "432:\tlearn: 0.4370227\ttotal: 1m 24s\tremaining: 1m 50s\n",
      "433:\tlearn: 0.4367475\ttotal: 1m 24s\tremaining: 1m 50s\n",
      "434:\tlearn: 0.4366325\ttotal: 1m 25s\tremaining: 1m 50s\n",
      "435:\tlearn: 0.4365274\ttotal: 1m 25s\tremaining: 1m 50s\n",
      "436:\tlearn: 0.4363973\ttotal: 1m 25s\tremaining: 1m 50s\n",
      "437:\tlearn: 0.4362470\ttotal: 1m 25s\tremaining: 1m 49s\n",
      "438:\tlearn: 0.4360739\ttotal: 1m 25s\tremaining: 1m 49s\n",
      "439:\tlearn: 0.4359686\ttotal: 1m 26s\tremaining: 1m 49s\n",
      "440:\tlearn: 0.4358082\ttotal: 1m 26s\tremaining: 1m 49s\n",
      "441:\tlearn: 0.4356489\ttotal: 1m 26s\tremaining: 1m 49s\n",
      "442:\tlearn: 0.4354906\ttotal: 1m 26s\tremaining: 1m 48s\n",
      "443:\tlearn: 0.4353610\ttotal: 1m 26s\tremaining: 1m 48s\n",
      "444:\tlearn: 0.4352337\ttotal: 1m 27s\tremaining: 1m 48s\n",
      "445:\tlearn: 0.4350914\ttotal: 1m 27s\tremaining: 1m 48s\n",
      "446:\tlearn: 0.4349507\ttotal: 1m 27s\tremaining: 1m 48s\n",
      "447:\tlearn: 0.4348362\ttotal: 1m 27s\tremaining: 1m 47s\n",
      "448:\tlearn: 0.4346887\ttotal: 1m 27s\tremaining: 1m 47s\n",
      "449:\tlearn: 0.4345167\ttotal: 1m 27s\tremaining: 1m 47s\n",
      "450:\tlearn: 0.4343286\ttotal: 1m 28s\tremaining: 1m 47s\n",
      "451:\tlearn: 0.4341578\ttotal: 1m 28s\tremaining: 1m 47s\n",
      "452:\tlearn: 0.4340470\ttotal: 1m 28s\tremaining: 1m 46s\n",
      "453:\tlearn: 0.4338963\ttotal: 1m 28s\tremaining: 1m 46s\n",
      "454:\tlearn: 0.4337553\ttotal: 1m 28s\tremaining: 1m 46s\n",
      "455:\tlearn: 0.4336333\ttotal: 1m 29s\tremaining: 1m 46s\n",
      "456:\tlearn: 0.4335064\ttotal: 1m 29s\tremaining: 1m 46s\n",
      "457:\tlearn: 0.4333884\ttotal: 1m 29s\tremaining: 1m 45s\n",
      "458:\tlearn: 0.4332744\ttotal: 1m 29s\tremaining: 1m 45s\n",
      "459:\tlearn: 0.4331413\ttotal: 1m 29s\tremaining: 1m 45s\n",
      "460:\tlearn: 0.4329611\ttotal: 1m 30s\tremaining: 1m 45s\n",
      "461:\tlearn: 0.4328440\ttotal: 1m 30s\tremaining: 1m 45s\n",
      "462:\tlearn: 0.4327221\ttotal: 1m 30s\tremaining: 1m 44s\n",
      "463:\tlearn: 0.4325905\ttotal: 1m 30s\tremaining: 1m 44s\n",
      "464:\tlearn: 0.4323934\ttotal: 1m 30s\tremaining: 1m 44s\n",
      "465:\tlearn: 0.4322643\ttotal: 1m 30s\tremaining: 1m 44s\n",
      "466:\tlearn: 0.4321391\ttotal: 1m 31s\tremaining: 1m 44s\n",
      "467:\tlearn: 0.4320281\ttotal: 1m 31s\tremaining: 1m 43s\n",
      "468:\tlearn: 0.4318738\ttotal: 1m 31s\tremaining: 1m 43s\n",
      "469:\tlearn: 0.4317338\ttotal: 1m 31s\tremaining: 1m 43s\n"
     ]
    },
    {
     "name": "stdout",
     "output_type": "stream",
     "text": [
      "470:\tlearn: 0.4316004\ttotal: 1m 31s\tremaining: 1m 43s\n",
      "471:\tlearn: 0.4314556\ttotal: 1m 32s\tremaining: 1m 43s\n",
      "472:\tlearn: 0.4313327\ttotal: 1m 32s\tremaining: 1m 42s\n",
      "473:\tlearn: 0.4312166\ttotal: 1m 32s\tremaining: 1m 42s\n",
      "474:\tlearn: 0.4311141\ttotal: 1m 32s\tremaining: 1m 42s\n",
      "475:\tlearn: 0.4309726\ttotal: 1m 32s\tremaining: 1m 42s\n",
      "476:\tlearn: 0.4308566\ttotal: 1m 33s\tremaining: 1m 42s\n",
      "477:\tlearn: 0.4307173\ttotal: 1m 33s\tremaining: 1m 41s\n",
      "478:\tlearn: 0.4306212\ttotal: 1m 33s\tremaining: 1m 41s\n",
      "479:\tlearn: 0.4304450\ttotal: 1m 33s\tremaining: 1m 41s\n",
      "480:\tlearn: 0.4303127\ttotal: 1m 33s\tremaining: 1m 41s\n",
      "481:\tlearn: 0.4301359\ttotal: 1m 34s\tremaining: 1m 41s\n",
      "482:\tlearn: 0.4300251\ttotal: 1m 34s\tremaining: 1m 40s\n",
      "483:\tlearn: 0.4298441\ttotal: 1m 34s\tremaining: 1m 40s\n",
      "484:\tlearn: 0.4296730\ttotal: 1m 34s\tremaining: 1m 40s\n",
      "485:\tlearn: 0.4295344\ttotal: 1m 34s\tremaining: 1m 40s\n",
      "486:\tlearn: 0.4294259\ttotal: 1m 34s\tremaining: 1m 40s\n",
      "487:\tlearn: 0.4293123\ttotal: 1m 35s\tremaining: 1m 39s\n",
      "488:\tlearn: 0.4292015\ttotal: 1m 35s\tremaining: 1m 39s\n",
      "489:\tlearn: 0.4290934\ttotal: 1m 35s\tremaining: 1m 39s\n",
      "490:\tlearn: 0.4289848\ttotal: 1m 35s\tremaining: 1m 39s\n",
      "491:\tlearn: 0.4288325\ttotal: 1m 35s\tremaining: 1m 39s\n",
      "492:\tlearn: 0.4286124\ttotal: 1m 36s\tremaining: 1m 38s\n",
      "493:\tlearn: 0.4285095\ttotal: 1m 36s\tremaining: 1m 38s\n",
      "494:\tlearn: 0.4283644\ttotal: 1m 36s\tremaining: 1m 38s\n",
      "495:\tlearn: 0.4282461\ttotal: 1m 36s\tremaining: 1m 38s\n",
      "496:\tlearn: 0.4281486\ttotal: 1m 36s\tremaining: 1m 38s\n",
      "497:\tlearn: 0.4280039\ttotal: 1m 37s\tremaining: 1m 37s\n",
      "498:\tlearn: 0.4279045\ttotal: 1m 37s\tremaining: 1m 37s\n",
      "499:\tlearn: 0.4278098\ttotal: 1m 37s\tremaining: 1m 37s\n",
      "500:\tlearn: 0.4276975\ttotal: 1m 37s\tremaining: 1m 37s\n",
      "501:\tlearn: 0.4275979\ttotal: 1m 37s\tremaining: 1m 37s\n",
      "502:\tlearn: 0.4275016\ttotal: 1m 38s\tremaining: 1m 36s\n",
      "503:\tlearn: 0.4273938\ttotal: 1m 38s\tremaining: 1m 36s\n",
      "504:\tlearn: 0.4272811\ttotal: 1m 38s\tremaining: 1m 36s\n",
      "505:\tlearn: 0.4271704\ttotal: 1m 38s\tremaining: 1m 36s\n",
      "506:\tlearn: 0.4270011\ttotal: 1m 38s\tremaining: 1m 36s\n",
      "507:\tlearn: 0.4268970\ttotal: 1m 39s\tremaining: 1m 35s\n",
      "508:\tlearn: 0.4267796\ttotal: 1m 39s\tremaining: 1m 35s\n",
      "509:\tlearn: 0.4266657\ttotal: 1m 39s\tremaining: 1m 35s\n",
      "510:\tlearn: 0.4265624\ttotal: 1m 39s\tremaining: 1m 35s\n",
      "511:\tlearn: 0.4264459\ttotal: 1m 39s\tremaining: 1m 35s\n",
      "512:\tlearn: 0.4263275\ttotal: 1m 40s\tremaining: 1m 34s\n",
      "513:\tlearn: 0.4261222\ttotal: 1m 40s\tremaining: 1m 34s\n",
      "514:\tlearn: 0.4259990\ttotal: 1m 40s\tremaining: 1m 34s\n",
      "515:\tlearn: 0.4258865\ttotal: 1m 40s\tremaining: 1m 34s\n",
      "516:\tlearn: 0.4257945\ttotal: 1m 40s\tremaining: 1m 34s\n",
      "517:\tlearn: 0.4256765\ttotal: 1m 41s\tremaining: 1m 34s\n",
      "518:\tlearn: 0.4255884\ttotal: 1m 41s\tremaining: 1m 33s\n",
      "519:\tlearn: 0.4254819\ttotal: 1m 41s\tremaining: 1m 33s\n",
      "520:\tlearn: 0.4253781\ttotal: 1m 41s\tremaining: 1m 33s\n",
      "521:\tlearn: 0.4252203\ttotal: 1m 41s\tremaining: 1m 33s\n",
      "522:\tlearn: 0.4251034\ttotal: 1m 41s\tremaining: 1m 33s\n",
      "523:\tlearn: 0.4249943\ttotal: 1m 42s\tremaining: 1m 32s\n",
      "524:\tlearn: 0.4248804\ttotal: 1m 42s\tremaining: 1m 32s\n",
      "525:\tlearn: 0.4246933\ttotal: 1m 42s\tremaining: 1m 32s\n",
      "526:\tlearn: 0.4246033\ttotal: 1m 42s\tremaining: 1m 32s\n",
      "527:\tlearn: 0.4244773\ttotal: 1m 42s\tremaining: 1m 32s\n",
      "528:\tlearn: 0.4242736\ttotal: 1m 43s\tremaining: 1m 31s\n",
      "529:\tlearn: 0.4241382\ttotal: 1m 43s\tremaining: 1m 31s\n",
      "530:\tlearn: 0.4239748\ttotal: 1m 43s\tremaining: 1m 31s\n",
      "531:\tlearn: 0.4237623\ttotal: 1m 43s\tremaining: 1m 31s\n",
      "532:\tlearn: 0.4236673\ttotal: 1m 43s\tremaining: 1m 31s\n",
      "533:\tlearn: 0.4235673\ttotal: 1m 44s\tremaining: 1m 30s\n",
      "534:\tlearn: 0.4234676\ttotal: 1m 44s\tremaining: 1m 30s\n",
      "535:\tlearn: 0.4233437\ttotal: 1m 44s\tremaining: 1m 30s\n",
      "536:\tlearn: 0.4232502\ttotal: 1m 44s\tremaining: 1m 30s\n",
      "537:\tlearn: 0.4231059\ttotal: 1m 44s\tremaining: 1m 30s\n",
      "538:\tlearn: 0.4230202\ttotal: 1m 45s\tremaining: 1m 29s\n",
      "539:\tlearn: 0.4229345\ttotal: 1m 45s\tremaining: 1m 29s\n",
      "540:\tlearn: 0.4228309\ttotal: 1m 45s\tremaining: 1m 29s\n",
      "541:\tlearn: 0.4227031\ttotal: 1m 45s\tremaining: 1m 29s\n",
      "542:\tlearn: 0.4225812\ttotal: 1m 45s\tremaining: 1m 29s\n",
      "543:\tlearn: 0.4224667\ttotal: 1m 46s\tremaining: 1m 28s\n",
      "544:\tlearn: 0.4223807\ttotal: 1m 46s\tremaining: 1m 28s\n",
      "545:\tlearn: 0.4222709\ttotal: 1m 46s\tremaining: 1m 28s\n",
      "546:\tlearn: 0.4221128\ttotal: 1m 46s\tremaining: 1m 28s\n",
      "547:\tlearn: 0.4219726\ttotal: 1m 46s\tremaining: 1m 28s\n",
      "548:\tlearn: 0.4218393\ttotal: 1m 47s\tremaining: 1m 27s\n",
      "549:\tlearn: 0.4217514\ttotal: 1m 47s\tremaining: 1m 27s\n",
      "550:\tlearn: 0.4216568\ttotal: 1m 47s\tremaining: 1m 27s\n",
      "551:\tlearn: 0.4214843\ttotal: 1m 47s\tremaining: 1m 27s\n",
      "552:\tlearn: 0.4213945\ttotal: 1m 47s\tremaining: 1m 27s\n",
      "553:\tlearn: 0.4212351\ttotal: 1m 48s\tremaining: 1m 26s\n",
      "554:\tlearn: 0.4211321\ttotal: 1m 48s\tremaining: 1m 26s\n",
      "555:\tlearn: 0.4210528\ttotal: 1m 48s\tremaining: 1m 26s\n",
      "556:\tlearn: 0.4209321\ttotal: 1m 48s\tremaining: 1m 26s\n",
      "557:\tlearn: 0.4208287\ttotal: 1m 48s\tremaining: 1m 26s\n",
      "558:\tlearn: 0.4207165\ttotal: 1m 48s\tremaining: 1m 25s\n",
      "559:\tlearn: 0.4205901\ttotal: 1m 49s\tremaining: 1m 25s\n",
      "560:\tlearn: 0.4204791\ttotal: 1m 49s\tremaining: 1m 25s\n",
      "561:\tlearn: 0.4203359\ttotal: 1m 49s\tremaining: 1m 25s\n",
      "562:\tlearn: 0.4202349\ttotal: 1m 49s\tremaining: 1m 25s\n",
      "563:\tlearn: 0.4201446\ttotal: 1m 49s\tremaining: 1m 25s\n",
      "564:\tlearn: 0.4200350\ttotal: 1m 50s\tremaining: 1m 24s\n",
      "565:\tlearn: 0.4199034\ttotal: 1m 50s\tremaining: 1m 24s\n",
      "566:\tlearn: 0.4197819\ttotal: 1m 50s\tremaining: 1m 24s\n",
      "567:\tlearn: 0.4196987\ttotal: 1m 50s\tremaining: 1m 24s\n",
      "568:\tlearn: 0.4195684\ttotal: 1m 50s\tremaining: 1m 24s\n",
      "569:\tlearn: 0.4194653\ttotal: 1m 51s\tremaining: 1m 23s\n",
      "570:\tlearn: 0.4193733\ttotal: 1m 51s\tremaining: 1m 23s\n",
      "571:\tlearn: 0.4192850\ttotal: 1m 51s\tremaining: 1m 23s\n",
      "572:\tlearn: 0.4191521\ttotal: 1m 51s\tremaining: 1m 23s\n",
      "573:\tlearn: 0.4190625\ttotal: 1m 51s\tremaining: 1m 23s\n",
      "574:\tlearn: 0.4189713\ttotal: 1m 52s\tremaining: 1m 22s\n",
      "575:\tlearn: 0.4188803\ttotal: 1m 52s\tremaining: 1m 22s\n",
      "576:\tlearn: 0.4188028\ttotal: 1m 52s\tremaining: 1m 22s\n",
      "577:\tlearn: 0.4186600\ttotal: 1m 52s\tremaining: 1m 22s\n",
      "578:\tlearn: 0.4185590\ttotal: 1m 52s\tremaining: 1m 22s\n",
      "579:\tlearn: 0.4184514\ttotal: 1m 52s\tremaining: 1m 21s\n",
      "580:\tlearn: 0.4183615\ttotal: 1m 53s\tremaining: 1m 21s\n",
      "581:\tlearn: 0.4182716\ttotal: 1m 53s\tremaining: 1m 21s\n",
      "582:\tlearn: 0.4181577\ttotal: 1m 53s\tremaining: 1m 21s\n",
      "583:\tlearn: 0.4180337\ttotal: 1m 53s\tremaining: 1m 21s\n",
      "584:\tlearn: 0.4179081\ttotal: 1m 53s\tremaining: 1m 20s\n",
      "585:\tlearn: 0.4177945\ttotal: 1m 54s\tremaining: 1m 20s\n",
      "586:\tlearn: 0.4176887\ttotal: 1m 54s\tremaining: 1m 20s\n",
      "587:\tlearn: 0.4175894\ttotal: 1m 54s\tremaining: 1m 20s\n",
      "588:\tlearn: 0.4175058\ttotal: 1m 54s\tremaining: 1m 20s\n",
      "589:\tlearn: 0.4174017\ttotal: 1m 54s\tremaining: 1m 19s\n",
      "590:\tlearn: 0.4173097\ttotal: 1m 55s\tremaining: 1m 19s\n",
      "591:\tlearn: 0.4171638\ttotal: 1m 55s\tremaining: 1m 19s\n",
      "592:\tlearn: 0.4170570\ttotal: 1m 55s\tremaining: 1m 19s\n",
      "593:\tlearn: 0.4169708\ttotal: 1m 55s\tremaining: 1m 19s\n",
      "594:\tlearn: 0.4168917\ttotal: 1m 55s\tremaining: 1m 18s\n",
      "595:\tlearn: 0.4168024\ttotal: 1m 56s\tremaining: 1m 18s\n",
      "596:\tlearn: 0.4167148\ttotal: 1m 56s\tremaining: 1m 18s\n",
      "597:\tlearn: 0.4165953\ttotal: 1m 56s\tremaining: 1m 18s\n",
      "598:\tlearn: 0.4164850\ttotal: 1m 56s\tremaining: 1m 18s\n",
      "599:\tlearn: 0.4163630\ttotal: 1m 56s\tremaining: 1m 17s\n",
      "600:\tlearn: 0.4162530\ttotal: 1m 57s\tremaining: 1m 17s\n",
      "601:\tlearn: 0.4161622\ttotal: 1m 57s\tremaining: 1m 17s\n",
      "602:\tlearn: 0.4160582\ttotal: 1m 57s\tremaining: 1m 17s\n",
      "603:\tlearn: 0.4159479\ttotal: 1m 57s\tremaining: 1m 17s\n",
      "604:\tlearn: 0.4158639\ttotal: 1m 57s\tremaining: 1m 16s\n",
      "605:\tlearn: 0.4157507\ttotal: 1m 57s\tremaining: 1m 16s\n",
      "606:\tlearn: 0.4156568\ttotal: 1m 58s\tremaining: 1m 16s\n",
      "607:\tlearn: 0.4155693\ttotal: 1m 58s\tremaining: 1m 16s\n",
      "608:\tlearn: 0.4154676\ttotal: 1m 58s\tremaining: 1m 16s\n",
      "609:\tlearn: 0.4153676\ttotal: 1m 58s\tremaining: 1m 15s\n",
      "610:\tlearn: 0.4152937\ttotal: 1m 58s\tremaining: 1m 15s\n",
      "611:\tlearn: 0.4152093\ttotal: 1m 59s\tremaining: 1m 15s\n",
      "612:\tlearn: 0.4151113\ttotal: 1m 59s\tremaining: 1m 15s\n",
      "613:\tlearn: 0.4150002\ttotal: 1m 59s\tremaining: 1m 15s\n",
      "614:\tlearn: 0.4148634\ttotal: 1m 59s\tremaining: 1m 14s\n",
      "615:\tlearn: 0.4147649\ttotal: 1m 59s\tremaining: 1m 14s\n",
      "616:\tlearn: 0.4146433\ttotal: 2m\tremaining: 1m 14s\n",
      "617:\tlearn: 0.4145400\ttotal: 2m\tremaining: 1m 14s\n",
      "618:\tlearn: 0.4144445\ttotal: 2m\tremaining: 1m 14s\n",
      "619:\tlearn: 0.4143513\ttotal: 2m\tremaining: 1m 13s\n",
      "620:\tlearn: 0.4142566\ttotal: 2m\tremaining: 1m 13s\n",
      "621:\tlearn: 0.4141714\ttotal: 2m 1s\tremaining: 1m 13s\n",
      "622:\tlearn: 0.4140373\ttotal: 2m 1s\tremaining: 1m 13s\n"
     ]
    },
    {
     "name": "stdout",
     "output_type": "stream",
     "text": [
      "623:\tlearn: 0.4139274\ttotal: 2m 1s\tremaining: 1m 13s\n",
      "624:\tlearn: 0.4138116\ttotal: 2m 1s\tremaining: 1m 12s\n",
      "625:\tlearn: 0.4137167\ttotal: 2m 1s\tremaining: 1m 12s\n",
      "626:\tlearn: 0.4136186\ttotal: 2m 2s\tremaining: 1m 12s\n",
      "627:\tlearn: 0.4134878\ttotal: 2m 2s\tremaining: 1m 12s\n",
      "628:\tlearn: 0.4134010\ttotal: 2m 2s\tremaining: 1m 12s\n",
      "629:\tlearn: 0.4133122\ttotal: 2m 2s\tremaining: 1m 11s\n",
      "630:\tlearn: 0.4132394\ttotal: 2m 2s\tremaining: 1m 11s\n",
      "631:\tlearn: 0.4130944\ttotal: 2m 2s\tremaining: 1m 11s\n",
      "632:\tlearn: 0.4129692\ttotal: 2m 3s\tremaining: 1m 11s\n",
      "633:\tlearn: 0.4128681\ttotal: 2m 3s\tremaining: 1m 11s\n",
      "634:\tlearn: 0.4127619\ttotal: 2m 3s\tremaining: 1m 10s\n",
      "635:\tlearn: 0.4126667\ttotal: 2m 3s\tremaining: 1m 10s\n",
      "636:\tlearn: 0.4125871\ttotal: 2m 3s\tremaining: 1m 10s\n",
      "637:\tlearn: 0.4125068\ttotal: 2m 4s\tremaining: 1m 10s\n",
      "638:\tlearn: 0.4124229\ttotal: 2m 4s\tremaining: 1m 10s\n",
      "639:\tlearn: 0.4123309\ttotal: 2m 4s\tremaining: 1m 9s\n",
      "640:\tlearn: 0.4122253\ttotal: 2m 4s\tremaining: 1m 9s\n",
      "641:\tlearn: 0.4121263\ttotal: 2m 4s\tremaining: 1m 9s\n",
      "642:\tlearn: 0.4119960\ttotal: 2m 5s\tremaining: 1m 9s\n",
      "643:\tlearn: 0.4119036\ttotal: 2m 5s\tremaining: 1m 9s\n",
      "644:\tlearn: 0.4118143\ttotal: 2m 5s\tremaining: 1m 9s\n",
      "645:\tlearn: 0.4117222\ttotal: 2m 5s\tremaining: 1m 8s\n",
      "646:\tlearn: 0.4116251\ttotal: 2m 5s\tremaining: 1m 8s\n",
      "647:\tlearn: 0.4115086\ttotal: 2m 5s\tremaining: 1m 8s\n",
      "648:\tlearn: 0.4114350\ttotal: 2m 6s\tremaining: 1m 8s\n",
      "649:\tlearn: 0.4113140\ttotal: 2m 6s\tremaining: 1m 8s\n",
      "650:\tlearn: 0.4112262\ttotal: 2m 6s\tremaining: 1m 7s\n",
      "651:\tlearn: 0.4111511\ttotal: 2m 6s\tremaining: 1m 7s\n",
      "652:\tlearn: 0.4110527\ttotal: 2m 6s\tremaining: 1m 7s\n",
      "653:\tlearn: 0.4109305\ttotal: 2m 7s\tremaining: 1m 7s\n",
      "654:\tlearn: 0.4108594\ttotal: 2m 7s\tremaining: 1m 7s\n",
      "655:\tlearn: 0.4107568\ttotal: 2m 7s\tremaining: 1m 6s\n",
      "656:\tlearn: 0.4106368\ttotal: 2m 7s\tremaining: 1m 6s\n",
      "657:\tlearn: 0.4105693\ttotal: 2m 7s\tremaining: 1m 6s\n",
      "658:\tlearn: 0.4104783\ttotal: 2m 7s\tremaining: 1m 6s\n",
      "659:\tlearn: 0.4103920\ttotal: 2m 8s\tremaining: 1m 6s\n",
      "660:\tlearn: 0.4103100\ttotal: 2m 8s\tremaining: 1m 5s\n",
      "661:\tlearn: 0.4101919\ttotal: 2m 8s\tremaining: 1m 5s\n",
      "662:\tlearn: 0.4101015\ttotal: 2m 8s\tremaining: 1m 5s\n",
      "663:\tlearn: 0.4100200\ttotal: 2m 8s\tremaining: 1m 5s\n",
      "664:\tlearn: 0.4099196\ttotal: 2m 9s\tremaining: 1m 5s\n",
      "665:\tlearn: 0.4098033\ttotal: 2m 9s\tremaining: 1m 4s\n",
      "666:\tlearn: 0.4097272\ttotal: 2m 9s\tremaining: 1m 4s\n",
      "667:\tlearn: 0.4096279\ttotal: 2m 9s\tremaining: 1m 4s\n",
      "668:\tlearn: 0.4095056\ttotal: 2m 9s\tremaining: 1m 4s\n",
      "669:\tlearn: 0.4094356\ttotal: 2m 10s\tremaining: 1m 4s\n",
      "670:\tlearn: 0.4093416\ttotal: 2m 10s\tremaining: 1m 3s\n",
      "671:\tlearn: 0.4092333\ttotal: 2m 10s\tremaining: 1m 3s\n",
      "672:\tlearn: 0.4091317\ttotal: 2m 10s\tremaining: 1m 3s\n",
      "673:\tlearn: 0.4090428\ttotal: 2m 10s\tremaining: 1m 3s\n",
      "674:\tlearn: 0.4089632\ttotal: 2m 10s\tremaining: 1m 3s\n",
      "675:\tlearn: 0.4088905\ttotal: 2m 11s\tremaining: 1m 2s\n",
      "676:\tlearn: 0.4088119\ttotal: 2m 11s\tremaining: 1m 2s\n",
      "677:\tlearn: 0.4087258\ttotal: 2m 11s\tremaining: 1m 2s\n",
      "678:\tlearn: 0.4085927\ttotal: 2m 11s\tremaining: 1m 2s\n",
      "679:\tlearn: 0.4085270\ttotal: 2m 11s\tremaining: 1m 2s\n",
      "680:\tlearn: 0.4084244\ttotal: 2m 12s\tremaining: 1m 1s\n",
      "681:\tlearn: 0.4083288\ttotal: 2m 12s\tremaining: 1m 1s\n",
      "682:\tlearn: 0.4082318\ttotal: 2m 12s\tremaining: 1m 1s\n",
      "683:\tlearn: 0.4081453\ttotal: 2m 12s\tremaining: 1m 1s\n",
      "684:\tlearn: 0.4080532\ttotal: 2m 12s\tremaining: 1m 1s\n",
      "685:\tlearn: 0.4079825\ttotal: 2m 13s\tremaining: 1m\n",
      "686:\tlearn: 0.4078783\ttotal: 2m 13s\tremaining: 1m\n",
      "687:\tlearn: 0.4078019\ttotal: 2m 13s\tremaining: 1m\n",
      "688:\tlearn: 0.4077259\ttotal: 2m 13s\tremaining: 1m\n",
      "689:\tlearn: 0.4075886\ttotal: 2m 13s\tremaining: 1m\n",
      "690:\tlearn: 0.4075174\ttotal: 2m 14s\tremaining: 59.9s\n",
      "691:\tlearn: 0.4074353\ttotal: 2m 14s\tremaining: 59.7s\n",
      "692:\tlearn: 0.4073322\ttotal: 2m 14s\tremaining: 59.5s\n",
      "693:\tlearn: 0.4072380\ttotal: 2m 14s\tremaining: 59.3s\n",
      "694:\tlearn: 0.4071295\ttotal: 2m 14s\tremaining: 59.1s\n",
      "695:\tlearn: 0.4070260\ttotal: 2m 14s\tremaining: 58.9s\n",
      "696:\tlearn: 0.4069510\ttotal: 2m 15s\tremaining: 58.8s\n",
      "697:\tlearn: 0.4068702\ttotal: 2m 15s\tremaining: 58.6s\n",
      "698:\tlearn: 0.4067752\ttotal: 2m 15s\tremaining: 58.4s\n",
      "699:\tlearn: 0.4066590\ttotal: 2m 15s\tremaining: 58.2s\n",
      "700:\tlearn: 0.4064995\ttotal: 2m 15s\tremaining: 58s\n",
      "701:\tlearn: 0.4064217\ttotal: 2m 16s\tremaining: 57.8s\n",
      "702:\tlearn: 0.4063211\ttotal: 2m 16s\tremaining: 57.6s\n",
      "703:\tlearn: 0.4062516\ttotal: 2m 16s\tremaining: 57.4s\n",
      "704:\tlearn: 0.4061578\ttotal: 2m 16s\tremaining: 57.2s\n",
      "705:\tlearn: 0.4060816\ttotal: 2m 16s\tremaining: 57s\n",
      "706:\tlearn: 0.4059957\ttotal: 2m 17s\tremaining: 56.8s\n",
      "707:\tlearn: 0.4059232\ttotal: 2m 17s\tremaining: 56.6s\n",
      "708:\tlearn: 0.4058087\ttotal: 2m 17s\tremaining: 56.4s\n",
      "709:\tlearn: 0.4056904\ttotal: 2m 17s\tremaining: 56.2s\n",
      "710:\tlearn: 0.4055938\ttotal: 2m 17s\tremaining: 56s\n",
      "711:\tlearn: 0.4055192\ttotal: 2m 18s\tremaining: 55.9s\n",
      "712:\tlearn: 0.4054266\ttotal: 2m 18s\tremaining: 55.7s\n",
      "713:\tlearn: 0.4053529\ttotal: 2m 18s\tremaining: 55.5s\n",
      "714:\tlearn: 0.4052201\ttotal: 2m 18s\tremaining: 55.3s\n",
      "715:\tlearn: 0.4051508\ttotal: 2m 18s\tremaining: 55.1s\n",
      "716:\tlearn: 0.4050570\ttotal: 2m 19s\tremaining: 54.9s\n",
      "717:\tlearn: 0.4049468\ttotal: 2m 19s\tremaining: 54.7s\n",
      "718:\tlearn: 0.4048172\ttotal: 2m 19s\tremaining: 54.5s\n",
      "719:\tlearn: 0.4046924\ttotal: 2m 19s\tremaining: 54.3s\n",
      "720:\tlearn: 0.4046000\ttotal: 2m 19s\tremaining: 54.1s\n",
      "721:\tlearn: 0.4045186\ttotal: 2m 20s\tremaining: 54s\n",
      "722:\tlearn: 0.4044208\ttotal: 2m 20s\tremaining: 53.8s\n",
      "723:\tlearn: 0.4043429\ttotal: 2m 20s\tremaining: 53.6s\n",
      "724:\tlearn: 0.4042560\ttotal: 2m 20s\tremaining: 53.4s\n",
      "725:\tlearn: 0.4041729\ttotal: 2m 20s\tremaining: 53.2s\n",
      "726:\tlearn: 0.4040853\ttotal: 2m 21s\tremaining: 53s\n",
      "727:\tlearn: 0.4040048\ttotal: 2m 21s\tremaining: 52.8s\n",
      "728:\tlearn: 0.4039312\ttotal: 2m 21s\tremaining: 52.6s\n",
      "729:\tlearn: 0.4038409\ttotal: 2m 21s\tremaining: 52.4s\n",
      "730:\tlearn: 0.4037671\ttotal: 2m 21s\tremaining: 52.2s\n",
      "731:\tlearn: 0.4036568\ttotal: 2m 22s\tremaining: 52s\n",
      "732:\tlearn: 0.4035755\ttotal: 2m 22s\tremaining: 51.8s\n",
      "733:\tlearn: 0.4035071\ttotal: 2m 22s\tremaining: 51.6s\n",
      "734:\tlearn: 0.4034236\ttotal: 2m 22s\tremaining: 51.4s\n",
      "735:\tlearn: 0.4033266\ttotal: 2m 22s\tremaining: 51.2s\n",
      "736:\tlearn: 0.4032513\ttotal: 2m 23s\tremaining: 51s\n",
      "737:\tlearn: 0.4031583\ttotal: 2m 23s\tremaining: 50.8s\n",
      "738:\tlearn: 0.4030812\ttotal: 2m 23s\tremaining: 50.6s\n",
      "739:\tlearn: 0.4029817\ttotal: 2m 23s\tremaining: 50.5s\n",
      "740:\tlearn: 0.4028487\ttotal: 2m 23s\tremaining: 50.3s\n",
      "741:\tlearn: 0.4027712\ttotal: 2m 23s\tremaining: 50.1s\n",
      "742:\tlearn: 0.4026921\ttotal: 2m 24s\tremaining: 49.9s\n",
      "743:\tlearn: 0.4026188\ttotal: 2m 24s\tremaining: 49.7s\n",
      "744:\tlearn: 0.4025479\ttotal: 2m 24s\tremaining: 49.5s\n",
      "745:\tlearn: 0.4024649\ttotal: 2m 24s\tremaining: 49.3s\n",
      "746:\tlearn: 0.4023961\ttotal: 2m 24s\tremaining: 49.1s\n",
      "747:\tlearn: 0.4023048\ttotal: 2m 25s\tremaining: 48.9s\n",
      "748:\tlearn: 0.4022183\ttotal: 2m 25s\tremaining: 48.7s\n",
      "749:\tlearn: 0.4021604\ttotal: 2m 25s\tremaining: 48.5s\n",
      "750:\tlearn: 0.4020513\ttotal: 2m 25s\tremaining: 48.3s\n",
      "751:\tlearn: 0.4019820\ttotal: 2m 25s\tremaining: 48.1s\n",
      "752:\tlearn: 0.4019152\ttotal: 2m 26s\tremaining: 47.9s\n",
      "753:\tlearn: 0.4018370\ttotal: 2m 26s\tremaining: 47.7s\n",
      "754:\tlearn: 0.4017211\ttotal: 2m 26s\tremaining: 47.5s\n",
      "755:\tlearn: 0.4016318\ttotal: 2m 26s\tremaining: 47.3s\n",
      "756:\tlearn: 0.4015516\ttotal: 2m 26s\tremaining: 47.1s\n",
      "757:\tlearn: 0.4014592\ttotal: 2m 27s\tremaining: 46.9s\n",
      "758:\tlearn: 0.4013840\ttotal: 2m 27s\tremaining: 46.7s\n",
      "759:\tlearn: 0.4013153\ttotal: 2m 27s\tremaining: 46.5s\n",
      "760:\tlearn: 0.4012437\ttotal: 2m 27s\tremaining: 46.4s\n",
      "761:\tlearn: 0.4011299\ttotal: 2m 27s\tremaining: 46.2s\n",
      "762:\tlearn: 0.4010336\ttotal: 2m 27s\tremaining: 46s\n",
      "763:\tlearn: 0.4009539\ttotal: 2m 28s\tremaining: 45.8s\n",
      "764:\tlearn: 0.4008823\ttotal: 2m 28s\tremaining: 45.6s\n",
      "765:\tlearn: 0.4008144\ttotal: 2m 28s\tremaining: 45.4s\n",
      "766:\tlearn: 0.4007304\ttotal: 2m 28s\tremaining: 45.2s\n",
      "767:\tlearn: 0.4006203\ttotal: 2m 28s\tremaining: 45s\n",
      "768:\tlearn: 0.4004996\ttotal: 2m 29s\tremaining: 44.8s\n",
      "769:\tlearn: 0.4004100\ttotal: 2m 29s\tremaining: 44.6s\n",
      "770:\tlearn: 0.4003340\ttotal: 2m 29s\tremaining: 44.4s\n",
      "771:\tlearn: 0.4002492\ttotal: 2m 29s\tremaining: 44.2s\n",
      "772:\tlearn: 0.4001629\ttotal: 2m 29s\tremaining: 44s\n",
      "773:\tlearn: 0.4000878\ttotal: 2m 30s\tremaining: 43.8s\n",
      "774:\tlearn: 0.4000108\ttotal: 2m 30s\tremaining: 43.6s\n",
      "775:\tlearn: 0.3999333\ttotal: 2m 30s\tremaining: 43.4s\n",
      "776:\tlearn: 0.3998629\ttotal: 2m 30s\tremaining: 43.2s\n",
      "777:\tlearn: 0.3998023\ttotal: 2m 30s\tremaining: 43.1s\n",
      "778:\tlearn: 0.3997385\ttotal: 2m 31s\tremaining: 42.9s\n"
     ]
    },
    {
     "name": "stdout",
     "output_type": "stream",
     "text": [
      "779:\tlearn: 0.3996621\ttotal: 2m 31s\tremaining: 42.7s\n",
      "780:\tlearn: 0.3995815\ttotal: 2m 31s\tremaining: 42.5s\n",
      "781:\tlearn: 0.3994617\ttotal: 2m 31s\tremaining: 42.3s\n",
      "782:\tlearn: 0.3993784\ttotal: 2m 31s\tremaining: 42.1s\n",
      "783:\tlearn: 0.3992863\ttotal: 2m 32s\tremaining: 41.9s\n",
      "784:\tlearn: 0.3991366\ttotal: 2m 32s\tremaining: 41.7s\n",
      "785:\tlearn: 0.3990068\ttotal: 2m 32s\tremaining: 41.5s\n",
      "786:\tlearn: 0.3989288\ttotal: 2m 32s\tremaining: 41.3s\n",
      "787:\tlearn: 0.3988352\ttotal: 2m 32s\tremaining: 41.1s\n",
      "788:\tlearn: 0.3987763\ttotal: 2m 33s\tremaining: 40.9s\n",
      "789:\tlearn: 0.3987037\ttotal: 2m 33s\tremaining: 40.7s\n",
      "790:\tlearn: 0.3986302\ttotal: 2m 33s\tremaining: 40.5s\n",
      "791:\tlearn: 0.3985639\ttotal: 2m 33s\tremaining: 40.3s\n",
      "792:\tlearn: 0.3984974\ttotal: 2m 33s\tremaining: 40.1s\n",
      "793:\tlearn: 0.3984121\ttotal: 2m 33s\tremaining: 39.9s\n",
      "794:\tlearn: 0.3983461\ttotal: 2m 34s\tremaining: 39.8s\n",
      "795:\tlearn: 0.3982539\ttotal: 2m 34s\tremaining: 39.6s\n",
      "796:\tlearn: 0.3981814\ttotal: 2m 34s\tremaining: 39.4s\n",
      "797:\tlearn: 0.3981072\ttotal: 2m 34s\tremaining: 39.2s\n",
      "798:\tlearn: 0.3980428\ttotal: 2m 34s\tremaining: 39s\n",
      "799:\tlearn: 0.3979673\ttotal: 2m 35s\tremaining: 38.8s\n",
      "800:\tlearn: 0.3978652\ttotal: 2m 35s\tremaining: 38.6s\n",
      "801:\tlearn: 0.3977976\ttotal: 2m 35s\tremaining: 38.4s\n",
      "802:\tlearn: 0.3977315\ttotal: 2m 35s\tremaining: 38.2s\n",
      "803:\tlearn: 0.3976462\ttotal: 2m 35s\tremaining: 38s\n",
      "804:\tlearn: 0.3975796\ttotal: 2m 36s\tremaining: 37.8s\n",
      "805:\tlearn: 0.3974918\ttotal: 2m 36s\tremaining: 37.6s\n",
      "806:\tlearn: 0.3974161\ttotal: 2m 36s\tremaining: 37.4s\n",
      "807:\tlearn: 0.3973224\ttotal: 2m 36s\tremaining: 37.2s\n",
      "808:\tlearn: 0.3972622\ttotal: 2m 36s\tremaining: 37s\n",
      "809:\tlearn: 0.3972006\ttotal: 2m 37s\tremaining: 36.8s\n",
      "810:\tlearn: 0.3971211\ttotal: 2m 37s\tremaining: 36.7s\n",
      "811:\tlearn: 0.3970635\ttotal: 2m 37s\tremaining: 36.5s\n",
      "812:\tlearn: 0.3970095\ttotal: 2m 37s\tremaining: 36.3s\n",
      "813:\tlearn: 0.3969306\ttotal: 2m 37s\tremaining: 36.1s\n",
      "814:\tlearn: 0.3967929\ttotal: 2m 38s\tremaining: 35.9s\n",
      "815:\tlearn: 0.3967227\ttotal: 2m 38s\tremaining: 35.7s\n",
      "816:\tlearn: 0.3966513\ttotal: 2m 38s\tremaining: 35.5s\n",
      "817:\tlearn: 0.3965839\ttotal: 2m 38s\tremaining: 35.3s\n",
      "818:\tlearn: 0.3964985\ttotal: 2m 38s\tremaining: 35.1s\n",
      "819:\tlearn: 0.3964249\ttotal: 2m 39s\tremaining: 34.9s\n",
      "820:\tlearn: 0.3963541\ttotal: 2m 39s\tremaining: 34.7s\n",
      "821:\tlearn: 0.3962788\ttotal: 2m 39s\tremaining: 34.5s\n",
      "822:\tlearn: 0.3961970\ttotal: 2m 39s\tremaining: 34.3s\n",
      "823:\tlearn: 0.3961130\ttotal: 2m 39s\tremaining: 34.1s\n",
      "824:\tlearn: 0.3960558\ttotal: 2m 40s\tremaining: 33.9s\n",
      "825:\tlearn: 0.3959952\ttotal: 2m 40s\tremaining: 33.7s\n",
      "826:\tlearn: 0.3959296\ttotal: 2m 40s\tremaining: 33.6s\n",
      "827:\tlearn: 0.3958376\ttotal: 2m 40s\tremaining: 33.4s\n",
      "828:\tlearn: 0.3957718\ttotal: 2m 40s\tremaining: 33.2s\n",
      "829:\tlearn: 0.3957007\ttotal: 2m 40s\tremaining: 33s\n",
      "830:\tlearn: 0.3955990\ttotal: 2m 41s\tremaining: 32.8s\n",
      "831:\tlearn: 0.3955146\ttotal: 2m 41s\tremaining: 32.6s\n",
      "832:\tlearn: 0.3954317\ttotal: 2m 41s\tremaining: 32.4s\n",
      "833:\tlearn: 0.3953761\ttotal: 2m 41s\tremaining: 32.2s\n",
      "834:\tlearn: 0.3952959\ttotal: 2m 41s\tremaining: 32s\n",
      "835:\tlearn: 0.3952290\ttotal: 2m 42s\tremaining: 31.8s\n",
      "836:\tlearn: 0.3951205\ttotal: 2m 42s\tremaining: 31.6s\n",
      "837:\tlearn: 0.3950324\ttotal: 2m 42s\tremaining: 31.4s\n",
      "838:\tlearn: 0.3949507\ttotal: 2m 42s\tremaining: 31.2s\n",
      "839:\tlearn: 0.3948734\ttotal: 2m 42s\tremaining: 31s\n",
      "840:\tlearn: 0.3948023\ttotal: 2m 43s\tremaining: 30.8s\n",
      "841:\tlearn: 0.3947308\ttotal: 2m 43s\tremaining: 30.7s\n",
      "842:\tlearn: 0.3946313\ttotal: 2m 43s\tremaining: 30.5s\n",
      "843:\tlearn: 0.3945787\ttotal: 2m 43s\tremaining: 30.3s\n",
      "844:\tlearn: 0.3944952\ttotal: 2m 43s\tremaining: 30.1s\n",
      "845:\tlearn: 0.3944285\ttotal: 2m 44s\tremaining: 29.9s\n",
      "846:\tlearn: 0.3943365\ttotal: 2m 44s\tremaining: 29.7s\n",
      "847:\tlearn: 0.3942731\ttotal: 2m 44s\tremaining: 29.5s\n",
      "848:\tlearn: 0.3942214\ttotal: 2m 44s\tremaining: 29.3s\n",
      "849:\tlearn: 0.3941626\ttotal: 2m 44s\tremaining: 29.1s\n",
      "850:\tlearn: 0.3940954\ttotal: 2m 45s\tremaining: 28.9s\n",
      "851:\tlearn: 0.3939741\ttotal: 2m 45s\tremaining: 28.7s\n",
      "852:\tlearn: 0.3938796\ttotal: 2m 45s\tremaining: 28.5s\n",
      "853:\tlearn: 0.3938232\ttotal: 2m 45s\tremaining: 28.3s\n",
      "854:\tlearn: 0.3937305\ttotal: 2m 45s\tremaining: 28.1s\n",
      "855:\tlearn: 0.3936715\ttotal: 2m 45s\tremaining: 27.9s\n",
      "856:\tlearn: 0.3936162\ttotal: 2m 46s\tremaining: 27.7s\n",
      "857:\tlearn: 0.3935399\ttotal: 2m 46s\tremaining: 27.5s\n",
      "858:\tlearn: 0.3934504\ttotal: 2m 46s\tremaining: 27.3s\n",
      "859:\tlearn: 0.3933511\ttotal: 2m 46s\tremaining: 27.1s\n",
      "860:\tlearn: 0.3932837\ttotal: 2m 46s\tremaining: 27s\n",
      "861:\tlearn: 0.3932144\ttotal: 2m 47s\tremaining: 26.8s\n",
      "862:\tlearn: 0.3931455\ttotal: 2m 47s\tremaining: 26.6s\n",
      "863:\tlearn: 0.3930263\ttotal: 2m 47s\tremaining: 26.4s\n",
      "864:\tlearn: 0.3929357\ttotal: 2m 47s\tremaining: 26.2s\n",
      "865:\tlearn: 0.3928269\ttotal: 2m 47s\tremaining: 26s\n",
      "866:\tlearn: 0.3927621\ttotal: 2m 48s\tremaining: 25.8s\n",
      "867:\tlearn: 0.3926684\ttotal: 2m 48s\tremaining: 25.6s\n",
      "868:\tlearn: 0.3925775\ttotal: 2m 48s\tremaining: 25.4s\n",
      "869:\tlearn: 0.3925169\ttotal: 2m 48s\tremaining: 25.2s\n",
      "870:\tlearn: 0.3924372\ttotal: 2m 48s\tremaining: 25s\n",
      "871:\tlearn: 0.3923635\ttotal: 2m 49s\tremaining: 24.8s\n",
      "872:\tlearn: 0.3922976\ttotal: 2m 49s\tremaining: 24.6s\n",
      "873:\tlearn: 0.3922390\ttotal: 2m 49s\tremaining: 24.4s\n",
      "874:\tlearn: 0.3921409\ttotal: 2m 49s\tremaining: 24.2s\n",
      "875:\tlearn: 0.3920730\ttotal: 2m 49s\tremaining: 24s\n",
      "876:\tlearn: 0.3920065\ttotal: 2m 49s\tremaining: 23.8s\n",
      "877:\tlearn: 0.3918982\ttotal: 2m 50s\tremaining: 23.6s\n",
      "878:\tlearn: 0.3918288\ttotal: 2m 50s\tremaining: 23.4s\n",
      "879:\tlearn: 0.3917252\ttotal: 2m 50s\tremaining: 23.3s\n",
      "880:\tlearn: 0.3916677\ttotal: 2m 50s\tremaining: 23.1s\n",
      "881:\tlearn: 0.3915989\ttotal: 2m 50s\tremaining: 22.9s\n",
      "882:\tlearn: 0.3915268\ttotal: 2m 51s\tremaining: 22.7s\n",
      "883:\tlearn: 0.3914304\ttotal: 2m 51s\tremaining: 22.5s\n",
      "884:\tlearn: 0.3913790\ttotal: 2m 51s\tremaining: 22.3s\n",
      "885:\tlearn: 0.3913161\ttotal: 2m 51s\tremaining: 22.1s\n",
      "886:\tlearn: 0.3912615\ttotal: 2m 51s\tremaining: 21.9s\n",
      "887:\tlearn: 0.3912021\ttotal: 2m 52s\tremaining: 21.7s\n",
      "888:\tlearn: 0.3911482\ttotal: 2m 52s\tremaining: 21.5s\n",
      "889:\tlearn: 0.3910872\ttotal: 2m 52s\tremaining: 21.3s\n",
      "890:\tlearn: 0.3910092\ttotal: 2m 52s\tremaining: 21.1s\n",
      "891:\tlearn: 0.3909249\ttotal: 2m 52s\tremaining: 20.9s\n",
      "892:\tlearn: 0.3908660\ttotal: 2m 53s\tremaining: 20.7s\n",
      "893:\tlearn: 0.3907965\ttotal: 2m 53s\tremaining: 20.5s\n",
      "894:\tlearn: 0.3907210\ttotal: 2m 53s\tremaining: 20.3s\n",
      "895:\tlearn: 0.3906151\ttotal: 2m 53s\tremaining: 20.1s\n",
      "896:\tlearn: 0.3905571\ttotal: 2m 53s\tremaining: 20s\n",
      "897:\tlearn: 0.3905003\ttotal: 2m 54s\tremaining: 19.8s\n",
      "898:\tlearn: 0.3904107\ttotal: 2m 54s\tremaining: 19.6s\n",
      "899:\tlearn: 0.3903207\ttotal: 2m 54s\tremaining: 19.4s\n",
      "900:\tlearn: 0.3902351\ttotal: 2m 54s\tremaining: 19.2s\n",
      "901:\tlearn: 0.3901588\ttotal: 2m 54s\tremaining: 19s\n",
      "902:\tlearn: 0.3900888\ttotal: 2m 55s\tremaining: 18.8s\n",
      "903:\tlearn: 0.3900029\ttotal: 2m 55s\tremaining: 18.6s\n",
      "904:\tlearn: 0.3899393\ttotal: 2m 55s\tremaining: 18.4s\n",
      "905:\tlearn: 0.3898803\ttotal: 2m 55s\tremaining: 18.2s\n",
      "906:\tlearn: 0.3898128\ttotal: 2m 55s\tremaining: 18s\n",
      "907:\tlearn: 0.3897300\ttotal: 2m 55s\tremaining: 17.8s\n",
      "908:\tlearn: 0.3896646\ttotal: 2m 56s\tremaining: 17.6s\n",
      "909:\tlearn: 0.3895880\ttotal: 2m 56s\tremaining: 17.4s\n",
      "910:\tlearn: 0.3894963\ttotal: 2m 56s\tremaining: 17.3s\n",
      "911:\tlearn: 0.3893975\ttotal: 2m 56s\tremaining: 17.1s\n",
      "912:\tlearn: 0.3893177\ttotal: 2m 57s\tremaining: 16.9s\n",
      "913:\tlearn: 0.3892563\ttotal: 2m 57s\tremaining: 16.7s\n",
      "914:\tlearn: 0.3891890\ttotal: 2m 57s\tremaining: 16.5s\n",
      "915:\tlearn: 0.3891322\ttotal: 2m 57s\tremaining: 16.3s\n",
      "916:\tlearn: 0.3890303\ttotal: 2m 57s\tremaining: 16.1s\n",
      "917:\tlearn: 0.3889565\ttotal: 2m 58s\tremaining: 15.9s\n",
      "918:\tlearn: 0.3888897\ttotal: 2m 58s\tremaining: 15.7s\n",
      "919:\tlearn: 0.3888238\ttotal: 2m 58s\tremaining: 15.5s\n",
      "920:\tlearn: 0.3887633\ttotal: 2m 58s\tremaining: 15.3s\n",
      "921:\tlearn: 0.3886728\ttotal: 2m 58s\tremaining: 15.1s\n",
      "922:\tlearn: 0.3886238\ttotal: 2m 59s\tremaining: 14.9s\n",
      "923:\tlearn: 0.3885492\ttotal: 2m 59s\tremaining: 14.7s\n",
      "924:\tlearn: 0.3884910\ttotal: 2m 59s\tremaining: 14.6s\n",
      "925:\tlearn: 0.3884262\ttotal: 2m 59s\tremaining: 14.4s\n",
      "926:\tlearn: 0.3883726\ttotal: 2m 59s\tremaining: 14.2s\n",
      "927:\tlearn: 0.3882787\ttotal: 3m\tremaining: 14s\n",
      "928:\tlearn: 0.3882054\ttotal: 3m\tremaining: 13.8s\n",
      "929:\tlearn: 0.3881365\ttotal: 3m\tremaining: 13.6s\n",
      "930:\tlearn: 0.3880512\ttotal: 3m\tremaining: 13.4s\n",
      "931:\tlearn: 0.3879943\ttotal: 3m\tremaining: 13.2s\n",
      "932:\tlearn: 0.3879151\ttotal: 3m 1s\tremaining: 13s\n",
      "933:\tlearn: 0.3878385\ttotal: 3m 1s\tremaining: 12.8s\n",
      "934:\tlearn: 0.3877692\ttotal: 3m 1s\tremaining: 12.6s\n"
     ]
    },
    {
     "name": "stdout",
     "output_type": "stream",
     "text": [
      "935:\tlearn: 0.3877061\ttotal: 3m 1s\tremaining: 12.4s\n",
      "936:\tlearn: 0.3876489\ttotal: 3m 1s\tremaining: 12.2s\n",
      "937:\tlearn: 0.3876048\ttotal: 3m 1s\tremaining: 12s\n",
      "938:\tlearn: 0.3875222\ttotal: 3m 2s\tremaining: 11.8s\n",
      "939:\tlearn: 0.3874650\ttotal: 3m 2s\tremaining: 11.6s\n",
      "940:\tlearn: 0.3873453\ttotal: 3m 2s\tremaining: 11.4s\n",
      "941:\tlearn: 0.3872846\ttotal: 3m 2s\tremaining: 11.3s\n",
      "942:\tlearn: 0.3872300\ttotal: 3m 2s\tremaining: 11.1s\n",
      "943:\tlearn: 0.3871729\ttotal: 3m 3s\tremaining: 10.9s\n",
      "944:\tlearn: 0.3871090\ttotal: 3m 3s\tremaining: 10.7s\n",
      "945:\tlearn: 0.3870448\ttotal: 3m 3s\tremaining: 10.5s\n",
      "946:\tlearn: 0.3869499\ttotal: 3m 3s\tremaining: 10.3s\n",
      "947:\tlearn: 0.3868883\ttotal: 3m 3s\tremaining: 10.1s\n",
      "948:\tlearn: 0.3868274\ttotal: 3m 4s\tremaining: 9.89s\n",
      "949:\tlearn: 0.3867723\ttotal: 3m 4s\tremaining: 9.7s\n",
      "950:\tlearn: 0.3866935\ttotal: 3m 4s\tremaining: 9.5s\n",
      "951:\tlearn: 0.3866349\ttotal: 3m 4s\tremaining: 9.31s\n",
      "952:\tlearn: 0.3865593\ttotal: 3m 4s\tremaining: 9.12s\n",
      "953:\tlearn: 0.3864846\ttotal: 3m 5s\tremaining: 8.92s\n",
      "954:\tlearn: 0.3864325\ttotal: 3m 5s\tremaining: 8.73s\n",
      "955:\tlearn: 0.3863751\ttotal: 3m 5s\tremaining: 8.53s\n",
      "956:\tlearn: 0.3863091\ttotal: 3m 5s\tremaining: 8.34s\n",
      "957:\tlearn: 0.3862491\ttotal: 3m 5s\tremaining: 8.14s\n",
      "958:\tlearn: 0.3861780\ttotal: 3m 5s\tremaining: 7.95s\n",
      "959:\tlearn: 0.3861254\ttotal: 3m 6s\tremaining: 7.76s\n",
      "960:\tlearn: 0.3860616\ttotal: 3m 6s\tremaining: 7.56s\n",
      "961:\tlearn: 0.3859976\ttotal: 3m 6s\tremaining: 7.37s\n",
      "962:\tlearn: 0.3859378\ttotal: 3m 6s\tremaining: 7.17s\n",
      "963:\tlearn: 0.3858602\ttotal: 3m 6s\tremaining: 6.98s\n",
      "964:\tlearn: 0.3857853\ttotal: 3m 7s\tremaining: 6.79s\n",
      "965:\tlearn: 0.3857086\ttotal: 3m 7s\tremaining: 6.59s\n",
      "966:\tlearn: 0.3856546\ttotal: 3m 7s\tremaining: 6.4s\n",
      "967:\tlearn: 0.3855961\ttotal: 3m 7s\tremaining: 6.2s\n",
      "968:\tlearn: 0.3855479\ttotal: 3m 7s\tremaining: 6.01s\n",
      "969:\tlearn: 0.3854560\ttotal: 3m 8s\tremaining: 5.82s\n",
      "970:\tlearn: 0.3853714\ttotal: 3m 8s\tremaining: 5.62s\n",
      "971:\tlearn: 0.3853209\ttotal: 3m 8s\tremaining: 5.43s\n",
      "972:\tlearn: 0.3852685\ttotal: 3m 8s\tremaining: 5.23s\n",
      "973:\tlearn: 0.3851974\ttotal: 3m 8s\tremaining: 5.04s\n",
      "974:\tlearn: 0.3851283\ttotal: 3m 9s\tremaining: 4.85s\n",
      "975:\tlearn: 0.3850557\ttotal: 3m 9s\tremaining: 4.65s\n",
      "976:\tlearn: 0.3849774\ttotal: 3m 9s\tremaining: 4.46s\n",
      "977:\tlearn: 0.3849241\ttotal: 3m 9s\tremaining: 4.26s\n",
      "978:\tlearn: 0.3848703\ttotal: 3m 9s\tremaining: 4.07s\n",
      "979:\tlearn: 0.3848035\ttotal: 3m 10s\tremaining: 3.88s\n",
      "980:\tlearn: 0.3846802\ttotal: 3m 10s\tremaining: 3.68s\n",
      "981:\tlearn: 0.3846268\ttotal: 3m 10s\tremaining: 3.49s\n",
      "982:\tlearn: 0.3845473\ttotal: 3m 10s\tremaining: 3.3s\n",
      "983:\tlearn: 0.3844569\ttotal: 3m 10s\tremaining: 3.1s\n",
      "984:\tlearn: 0.3843416\ttotal: 3m 11s\tremaining: 2.91s\n",
      "985:\tlearn: 0.3842815\ttotal: 3m 11s\tremaining: 2.71s\n",
      "986:\tlearn: 0.3842319\ttotal: 3m 11s\tremaining: 2.52s\n",
      "987:\tlearn: 0.3841661\ttotal: 3m 11s\tremaining: 2.33s\n",
      "988:\tlearn: 0.3841093\ttotal: 3m 11s\tremaining: 2.13s\n",
      "989:\tlearn: 0.3840346\ttotal: 3m 12s\tremaining: 1.94s\n",
      "990:\tlearn: 0.3839708\ttotal: 3m 12s\tremaining: 1.75s\n",
      "991:\tlearn: 0.3839215\ttotal: 3m 12s\tremaining: 1.55s\n",
      "992:\tlearn: 0.3838648\ttotal: 3m 12s\tremaining: 1.36s\n",
      "993:\tlearn: 0.3837966\ttotal: 3m 12s\tremaining: 1.16s\n",
      "994:\tlearn: 0.3837299\ttotal: 3m 13s\tremaining: 970ms\n",
      "995:\tlearn: 0.3836557\ttotal: 3m 13s\tremaining: 776ms\n",
      "996:\tlearn: 0.3835858\ttotal: 3m 13s\tremaining: 582ms\n",
      "997:\tlearn: 0.3835245\ttotal: 3m 13s\tremaining: 388ms\n",
      "998:\tlearn: 0.3834655\ttotal: 3m 13s\tremaining: 194ms\n",
      "999:\tlearn: 0.3833861\ttotal: 3m 14s\tremaining: 0us\n"
     ]
    },
    {
     "data": {
      "text/plain": [
       "<catboost.core.CatBoostClassifier at 0x412d39a80>"
      ]
     },
     "execution_count": 113,
     "metadata": {},
     "output_type": "execute_result"
    }
   ],
   "source": [
    "model_CBC.fit(X_train_tfidf_ft, y_train_tfidf_ft)"
   ]
  },
  {
   "cell_type": "code",
   "execution_count": 114,
   "id": "3908fdfb",
   "metadata": {
    "ExecuteTime": {
     "end_time": "2022-11-15T13:54:14.814482Z",
     "start_time": "2022-11-15T13:53:59.057499Z"
    }
   },
   "outputs": [],
   "source": [
    "y_pred_cbc = model_CBC.predict(X_test_tfidf_ft)"
   ]
  },
  {
   "cell_type": "code",
   "execution_count": 115,
   "id": "014b4bf5",
   "metadata": {
    "ExecuteTime": {
     "end_time": "2022-11-15T13:54:14.846451Z",
     "start_time": "2022-11-15T13:54:14.815309Z"
    }
   },
   "outputs": [
    {
     "name": "stdout",
     "output_type": "stream",
     "text": [
      "              precision    recall  f1-score   support\n",
      "\n",
      "           0       0.82      0.78      0.80     14978\n",
      "           1       0.82      0.85      0.84     17467\n",
      "\n",
      "    accuracy                           0.82     32445\n",
      "   macro avg       0.82      0.82      0.82     32445\n",
      "weighted avg       0.82      0.82      0.82     32445\n",
      "\n"
     ]
    }
   ],
   "source": [
    "print(classification_report(y_test_tfidf_ft, y_pred_cbc))"
   ]
  },
  {
   "cell_type": "code",
   "execution_count": 116,
   "id": "01cc52a2",
   "metadata": {
    "ExecuteTime": {
     "end_time": "2022-11-15T13:54:30.618414Z",
     "start_time": "2022-11-15T13:54:14.848016Z"
    }
   },
   "outputs": [
    {
     "data": {
      "image/png": "[encoded data removed]",
      "text/plain": [
       "<Figure size 640x480 with 2 Axes>"
      ]
     },
     "metadata": {},
     "output_type": "display_data"
    }
   ],
   "source": [
    "plot_confusion_matrix(model_CBC, X_test_tfidf_ft, y_test_tfidf_ft)  \n",
    "plt.show()"
   ]
  },
  {
   "cell_type": "code",
   "execution_count": 117,
   "id": "23a8df1c",
   "metadata": {
    "ExecuteTime": {
     "end_time": "2022-11-15T13:54:30.785880Z",
     "start_time": "2022-11-15T13:54:30.619372Z"
    }
   },
   "outputs": [
    {
     "data": {
      "image/png": "[encoded data removed]",
      "text/plain": [
       "<Figure size 640x480 with 1 Axes>"
      ]
     },
     "metadata": {},
     "output_type": "display_data"
    }
   ],
   "source": [
    "fpr, tpr, _ = metrics.roc_curve(y_test_tfidf_ft,  y_pred_cbc)\n",
    "auc = metrics.roc_auc_score(y_test_tfidf_ft, y_pred_cbc)\n",
    "\n",
    "plt.plot(fpr,tpr,label=\"AUC=\"+str(auc))\n",
    "plt.ylabel('True Positive Rate')\n",
    "plt.xlabel('False Positive Rate')\n",
    "plt.legend()\n",
    "plt.show()"
   ]
  },
  {
   "cell_type": "markdown",
   "id": "dfd01a0d",
   "metadata": {},
   "source": [
    "This is very good. As a note, this is also untuned. So, lets do some hypertuning."
   ]
  },
  {
   "cell_type": "markdown",
   "id": "ad26571b",
   "metadata": {},
   "source": [
    "## Catboost Classifer Hypertuning"
   ]
  },
  {
   "cell_type": "code",
   "execution_count": 9,
   "id": "b302b5c1",
   "metadata": {
    "ExecuteTime": {
     "end_time": "2022-11-14T23:58:04.534035Z",
     "start_time": "2022-11-14T23:58:04.501651Z"
    }
   },
   "outputs": [],
   "source": [
    "from catboost import CatBoostClassifier\n",
    "import xgboost\n",
    "from xgboost import XGBClassifier"
   ]
  },
  {
   "cell_type": "code",
   "execution_count": null,
   "id": "74b7467e",
   "metadata": {},
   "outputs": [],
   "source": [
    "model_CBC = CatBoostClassifier(learning_rate = 0.15, iterations = 225, min_data_in_leaf = 3, depth = 15, random_state =95, verbose =2)"
   ]
  },
  {
   "cell_type": "code",
   "execution_count": 12,
   "id": "dbc13076",
   "metadata": {
    "ExecuteTime": {
     "end_time": "2022-11-14T23:59:18.070719Z",
     "start_time": "2022-11-14T23:59:18.067423Z"
    }
   },
   "outputs": [],
   "source": [
    "model_xgb = XGBClassifier(verbosity = 2)"
   ]
  },
  {
   "cell_type": "code",
   "execution_count": 13,
   "id": "05176565",
   "metadata": {
    "ExecuteTime": {
     "end_time": "2022-11-15T00:10:45.635297Z",
     "start_time": "2022-11-14T23:59:19.078819Z"
    }
   },
   "outputs": [
    {
     "name": "stdout",
     "output_type": "stream",
     "text": [
      "[18:59:31] INFO: /Users/runner/work/xgboost/xgboost/python-package/build/temp.macosx-11.0-arm64-cpython-38/xgboost/src/tree/updater_prune.cc:98: tree pruning end, 96 extra nodes, 0 pruned nodes, max_depth=6\n",
      "[18:59:38] INFO: /Users/runner/work/xgboost/xgboost/python-package/build/temp.macosx-11.0-arm64-cpython-38/xgboost/src/tree/updater_prune.cc:98: tree pruning end, 92 extra nodes, 0 pruned nodes, max_depth=6\n",
      "[18:59:44] INFO: /Users/runner/work/xgboost/xgboost/python-package/build/temp.macosx-11.0-arm64-cpython-38/xgboost/src/tree/updater_prune.cc:98: tree pruning end, 88 extra nodes, 0 pruned nodes, max_depth=6\n",
      "[18:59:51] INFO: /Users/runner/work/xgboost/xgboost/python-package/build/temp.macosx-11.0-arm64-cpython-38/xgboost/src/tree/updater_prune.cc:98: tree pruning end, 96 extra nodes, 0 pruned nodes, max_depth=6\n",
      "[18:59:57] INFO: /Users/runner/work/xgboost/xgboost/python-package/build/temp.macosx-11.0-arm64-cpython-38/xgboost/src/tree/updater_prune.cc:98: tree pruning end, 86 extra nodes, 0 pruned nodes, max_depth=6\n",
      "[19:00:04] INFO: /Users/runner/work/xgboost/xgboost/python-package/build/temp.macosx-11.0-arm64-cpython-38/xgboost/src/tree/updater_prune.cc:98: tree pruning end, 54 extra nodes, 0 pruned nodes, max_depth=6\n",
      "[19:00:11] INFO: /Users/runner/work/xgboost/xgboost/python-package/build/temp.macosx-11.0-arm64-cpython-38/xgboost/src/tree/updater_prune.cc:98: tree pruning end, 84 extra nodes, 0 pruned nodes, max_depth=6\n",
      "[19:00:17] INFO: /Users/runner/work/xgboost/xgboost/python-package/build/temp.macosx-11.0-arm64-cpython-38/xgboost/src/tree/updater_prune.cc:98: tree pruning end, 84 extra nodes, 0 pruned nodes, max_depth=6\n",
      "[19:00:24] INFO: /Users/runner/work/xgboost/xgboost/python-package/build/temp.macosx-11.0-arm64-cpython-38/xgboost/src/tree/updater_prune.cc:98: tree pruning end, 70 extra nodes, 0 pruned nodes, max_depth=6\n",
      "[19:00:31] INFO: /Users/runner/work/xgboost/xgboost/python-package/build/temp.macosx-11.0-arm64-cpython-38/xgboost/src/tree/updater_prune.cc:98: tree pruning end, 76 extra nodes, 0 pruned nodes, max_depth=6\n",
      "[19:00:37] INFO: /Users/runner/work/xgboost/xgboost/python-package/build/temp.macosx-11.0-arm64-cpython-38/xgboost/src/tree/updater_prune.cc:98: tree pruning end, 76 extra nodes, 0 pruned nodes, max_depth=6\n",
      "[19:00:44] INFO: /Users/runner/work/xgboost/xgboost/python-package/build/temp.macosx-11.0-arm64-cpython-38/xgboost/src/tree/updater_prune.cc:98: tree pruning end, 62 extra nodes, 0 pruned nodes, max_depth=6\n",
      "[19:00:51] INFO: /Users/runner/work/xgboost/xgboost/python-package/build/temp.macosx-11.0-arm64-cpython-38/xgboost/src/tree/updater_prune.cc:98: tree pruning end, 70 extra nodes, 0 pruned nodes, max_depth=6\n",
      "[19:00:58] INFO: /Users/runner/work/xgboost/xgboost/python-package/build/temp.macosx-11.0-arm64-cpython-38/xgboost/src/tree/updater_prune.cc:98: tree pruning end, 102 extra nodes, 0 pruned nodes, max_depth=6\n",
      "[19:01:04] INFO: /Users/runner/work/xgboost/xgboost/python-package/build/temp.macosx-11.0-arm64-cpython-38/xgboost/src/tree/updater_prune.cc:98: tree pruning end, 78 extra nodes, 0 pruned nodes, max_depth=6\n",
      "[19:01:11] INFO: /Users/runner/work/xgboost/xgboost/python-package/build/temp.macosx-11.0-arm64-cpython-38/xgboost/src/tree/updater_prune.cc:98: tree pruning end, 68 extra nodes, 0 pruned nodes, max_depth=6\n",
      "[19:01:18] INFO: /Users/runner/work/xgboost/xgboost/python-package/build/temp.macosx-11.0-arm64-cpython-38/xgboost/src/tree/updater_prune.cc:98: tree pruning end, 88 extra nodes, 0 pruned nodes, max_depth=6\n",
      "[19:01:24] INFO: /Users/runner/work/xgboost/xgboost/python-package/build/temp.macosx-11.0-arm64-cpython-38/xgboost/src/tree/updater_prune.cc:98: tree pruning end, 48 extra nodes, 0 pruned nodes, max_depth=6\n",
      "[19:01:31] INFO: /Users/runner/work/xgboost/xgboost/python-package/build/temp.macosx-11.0-arm64-cpython-38/xgboost/src/tree/updater_prune.cc:98: tree pruning end, 70 extra nodes, 0 pruned nodes, max_depth=6\n",
      "[19:01:38] INFO: /Users/runner/work/xgboost/xgboost/python-package/build/temp.macosx-11.0-arm64-cpython-38/xgboost/src/tree/updater_prune.cc:98: tree pruning end, 66 extra nodes, 0 pruned nodes, max_depth=6\n",
      "[19:01:45] INFO: /Users/runner/work/xgboost/xgboost/python-package/build/temp.macosx-11.0-arm64-cpython-38/xgboost/src/tree/updater_prune.cc:98: tree pruning end, 40 extra nodes, 0 pruned nodes, max_depth=6\n",
      "[19:01:52] INFO: /Users/runner/work/xgboost/xgboost/python-package/build/temp.macosx-11.0-arm64-cpython-38/xgboost/src/tree/updater_prune.cc:98: tree pruning end, 82 extra nodes, 0 pruned nodes, max_depth=6\n",
      "[19:01:58] INFO: /Users/runner/work/xgboost/xgboost/python-package/build/temp.macosx-11.0-arm64-cpython-38/xgboost/src/tree/updater_prune.cc:98: tree pruning end, 82 extra nodes, 0 pruned nodes, max_depth=6\n",
      "[19:02:05] INFO: /Users/runner/work/xgboost/xgboost/python-package/build/temp.macosx-11.0-arm64-cpython-38/xgboost/src/tree/updater_prune.cc:98: tree pruning end, 68 extra nodes, 0 pruned nodes, max_depth=6\n",
      "[19:02:12] INFO: /Users/runner/work/xgboost/xgboost/python-package/build/temp.macosx-11.0-arm64-cpython-38/xgboost/src/tree/updater_prune.cc:98: tree pruning end, 62 extra nodes, 0 pruned nodes, max_depth=6\n",
      "[19:02:19] INFO: /Users/runner/work/xgboost/xgboost/python-package/build/temp.macosx-11.0-arm64-cpython-38/xgboost/src/tree/updater_prune.cc:98: tree pruning end, 52 extra nodes, 0 pruned nodes, max_depth=6\n",
      "[19:02:25] INFO: /Users/runner/work/xgboost/xgboost/python-package/build/temp.macosx-11.0-arm64-cpython-38/xgboost/src/tree/updater_prune.cc:98: tree pruning end, 62 extra nodes, 0 pruned nodes, max_depth=6\n",
      "[19:02:32] INFO: /Users/runner/work/xgboost/xgboost/python-package/build/temp.macosx-11.0-arm64-cpython-38/xgboost/src/tree/updater_prune.cc:98: tree pruning end, 58 extra nodes, 0 pruned nodes, max_depth=6\n",
      "[19:02:39] INFO: /Users/runner/work/xgboost/xgboost/python-package/build/temp.macosx-11.0-arm64-cpython-38/xgboost/src/tree/updater_prune.cc:98: tree pruning end, 58 extra nodes, 0 pruned nodes, max_depth=6\n",
      "[19:02:46] INFO: /Users/runner/work/xgboost/xgboost/python-package/build/temp.macosx-11.0-arm64-cpython-38/xgboost/src/tree/updater_prune.cc:98: tree pruning end, 62 extra nodes, 0 pruned nodes, max_depth=6\n",
      "[19:02:52] INFO: /Users/runner/work/xgboost/xgboost/python-package/build/temp.macosx-11.0-arm64-cpython-38/xgboost/src/tree/updater_prune.cc:98: tree pruning end, 60 extra nodes, 0 pruned nodes, max_depth=6\n",
      "[19:02:59] INFO: /Users/runner/work/xgboost/xgboost/python-package/build/temp.macosx-11.0-arm64-cpython-38/xgboost/src/tree/updater_prune.cc:98: tree pruning end, 68 extra nodes, 0 pruned nodes, max_depth=6\n",
      "[19:03:06] INFO: /Users/runner/work/xgboost/xgboost/python-package/build/temp.macosx-11.0-arm64-cpython-38/xgboost/src/tree/updater_prune.cc:98: tree pruning end, 68 extra nodes, 0 pruned nodes, max_depth=6\n",
      "[19:03:13] INFO: /Users/runner/work/xgboost/xgboost/python-package/build/temp.macosx-11.0-arm64-cpython-38/xgboost/src/tree/updater_prune.cc:98: tree pruning end, 60 extra nodes, 0 pruned nodes, max_depth=6\n",
      "[19:03:20] INFO: /Users/runner/work/xgboost/xgboost/python-package/build/temp.macosx-11.0-arm64-cpython-38/xgboost/src/tree/updater_prune.cc:98: tree pruning end, 66 extra nodes, 0 pruned nodes, max_depth=6\n",
      "[19:03:26] INFO: /Users/runner/work/xgboost/xgboost/python-package/build/temp.macosx-11.0-arm64-cpython-38/xgboost/src/tree/updater_prune.cc:98: tree pruning end, 60 extra nodes, 0 pruned nodes, max_depth=6\n",
      "[19:03:33] INFO: /Users/runner/work/xgboost/xgboost/python-package/build/temp.macosx-11.0-arm64-cpython-38/xgboost/src/tree/updater_prune.cc:98: tree pruning end, 58 extra nodes, 0 pruned nodes, max_depth=6\n",
      "[19:03:40] INFO: /Users/runner/work/xgboost/xgboost/python-package/build/temp.macosx-11.0-arm64-cpython-38/xgboost/src/tree/updater_prune.cc:98: tree pruning end, 68 extra nodes, 0 pruned nodes, max_depth=6\n",
      "[19:03:47] INFO: /Users/runner/work/xgboost/xgboost/python-package/build/temp.macosx-11.0-arm64-cpython-38/xgboost/src/tree/updater_prune.cc:98: tree pruning end, 64 extra nodes, 0 pruned nodes, max_depth=6\n",
      "[19:03:54] INFO: /Users/runner/work/xgboost/xgboost/python-package/build/temp.macosx-11.0-arm64-cpython-38/xgboost/src/tree/updater_prune.cc:98: tree pruning end, 68 extra nodes, 0 pruned nodes, max_depth=6\n"
     ]
    },
    {
     "name": "stdout",
     "output_type": "stream",
     "text": [
      "[19:04:00] INFO: /Users/runner/work/xgboost/xgboost/python-package/build/temp.macosx-11.0-arm64-cpython-38/xgboost/src/tree/updater_prune.cc:98: tree pruning end, 54 extra nodes, 0 pruned nodes, max_depth=6\n",
      "[19:04:07] INFO: /Users/runner/work/xgboost/xgboost/python-package/build/temp.macosx-11.0-arm64-cpython-38/xgboost/src/tree/updater_prune.cc:98: tree pruning end, 56 extra nodes, 0 pruned nodes, max_depth=6\n",
      "[19:04:14] INFO: /Users/runner/work/xgboost/xgboost/python-package/build/temp.macosx-11.0-arm64-cpython-38/xgboost/src/tree/updater_prune.cc:98: tree pruning end, 46 extra nodes, 0 pruned nodes, max_depth=6\n",
      "[19:04:21] INFO: /Users/runner/work/xgboost/xgboost/python-package/build/temp.macosx-11.0-arm64-cpython-38/xgboost/src/tree/updater_prune.cc:98: tree pruning end, 70 extra nodes, 0 pruned nodes, max_depth=6\n",
      "[19:04:27] INFO: /Users/runner/work/xgboost/xgboost/python-package/build/temp.macosx-11.0-arm64-cpython-38/xgboost/src/tree/updater_prune.cc:98: tree pruning end, 66 extra nodes, 0 pruned nodes, max_depth=6\n",
      "[19:04:34] INFO: /Users/runner/work/xgboost/xgboost/python-package/build/temp.macosx-11.0-arm64-cpython-38/xgboost/src/tree/updater_prune.cc:98: tree pruning end, 84 extra nodes, 0 pruned nodes, max_depth=6\n",
      "[19:04:41] INFO: /Users/runner/work/xgboost/xgboost/python-package/build/temp.macosx-11.0-arm64-cpython-38/xgboost/src/tree/updater_prune.cc:98: tree pruning end, 64 extra nodes, 0 pruned nodes, max_depth=6\n",
      "[19:04:48] INFO: /Users/runner/work/xgboost/xgboost/python-package/build/temp.macosx-11.0-arm64-cpython-38/xgboost/src/tree/updater_prune.cc:98: tree pruning end, 40 extra nodes, 0 pruned nodes, max_depth=6\n",
      "[19:04:54] INFO: /Users/runner/work/xgboost/xgboost/python-package/build/temp.macosx-11.0-arm64-cpython-38/xgboost/src/tree/updater_prune.cc:98: tree pruning end, 54 extra nodes, 0 pruned nodes, max_depth=6\n",
      "[19:05:01] INFO: /Users/runner/work/xgboost/xgboost/python-package/build/temp.macosx-11.0-arm64-cpython-38/xgboost/src/tree/updater_prune.cc:98: tree pruning end, 64 extra nodes, 0 pruned nodes, max_depth=6\n",
      "[19:05:08] INFO: /Users/runner/work/xgboost/xgboost/python-package/build/temp.macosx-11.0-arm64-cpython-38/xgboost/src/tree/updater_prune.cc:98: tree pruning end, 58 extra nodes, 0 pruned nodes, max_depth=6\n",
      "[19:05:15] INFO: /Users/runner/work/xgboost/xgboost/python-package/build/temp.macosx-11.0-arm64-cpython-38/xgboost/src/tree/updater_prune.cc:98: tree pruning end, 54 extra nodes, 0 pruned nodes, max_depth=6\n",
      "[19:05:22] INFO: /Users/runner/work/xgboost/xgboost/python-package/build/temp.macosx-11.0-arm64-cpython-38/xgboost/src/tree/updater_prune.cc:98: tree pruning end, 76 extra nodes, 0 pruned nodes, max_depth=6\n",
      "[19:05:28] INFO: /Users/runner/work/xgboost/xgboost/python-package/build/temp.macosx-11.0-arm64-cpython-38/xgboost/src/tree/updater_prune.cc:98: tree pruning end, 54 extra nodes, 0 pruned nodes, max_depth=6\n",
      "[19:05:35] INFO: /Users/runner/work/xgboost/xgboost/python-package/build/temp.macosx-11.0-arm64-cpython-38/xgboost/src/tree/updater_prune.cc:98: tree pruning end, 56 extra nodes, 0 pruned nodes, max_depth=6\n",
      "[19:05:42] INFO: /Users/runner/work/xgboost/xgboost/python-package/build/temp.macosx-11.0-arm64-cpython-38/xgboost/src/tree/updater_prune.cc:98: tree pruning end, 58 extra nodes, 0 pruned nodes, max_depth=6\n",
      "[19:05:49] INFO: /Users/runner/work/xgboost/xgboost/python-package/build/temp.macosx-11.0-arm64-cpython-38/xgboost/src/tree/updater_prune.cc:98: tree pruning end, 78 extra nodes, 0 pruned nodes, max_depth=6\n",
      "[19:05:56] INFO: /Users/runner/work/xgboost/xgboost/python-package/build/temp.macosx-11.0-arm64-cpython-38/xgboost/src/tree/updater_prune.cc:98: tree pruning end, 64 extra nodes, 0 pruned nodes, max_depth=6\n",
      "[19:06:02] INFO: /Users/runner/work/xgboost/xgboost/python-package/build/temp.macosx-11.0-arm64-cpython-38/xgboost/src/tree/updater_prune.cc:98: tree pruning end, 64 extra nodes, 0 pruned nodes, max_depth=6\n",
      "[19:06:09] INFO: /Users/runner/work/xgboost/xgboost/python-package/build/temp.macosx-11.0-arm64-cpython-38/xgboost/src/tree/updater_prune.cc:98: tree pruning end, 52 extra nodes, 0 pruned nodes, max_depth=6\n",
      "[19:06:16] INFO: /Users/runner/work/xgboost/xgboost/python-package/build/temp.macosx-11.0-arm64-cpython-38/xgboost/src/tree/updater_prune.cc:98: tree pruning end, 46 extra nodes, 0 pruned nodes, max_depth=6\n",
      "[19:06:23] INFO: /Users/runner/work/xgboost/xgboost/python-package/build/temp.macosx-11.0-arm64-cpython-38/xgboost/src/tree/updater_prune.cc:98: tree pruning end, 64 extra nodes, 0 pruned nodes, max_depth=6\n",
      "[19:06:30] INFO: /Users/runner/work/xgboost/xgboost/python-package/build/temp.macosx-11.0-arm64-cpython-38/xgboost/src/tree/updater_prune.cc:98: tree pruning end, 56 extra nodes, 0 pruned nodes, max_depth=6\n",
      "[19:06:37] INFO: /Users/runner/work/xgboost/xgboost/python-package/build/temp.macosx-11.0-arm64-cpython-38/xgboost/src/tree/updater_prune.cc:98: tree pruning end, 66 extra nodes, 0 pruned nodes, max_depth=6\n",
      "[19:06:44] INFO: /Users/runner/work/xgboost/xgboost/python-package/build/temp.macosx-11.0-arm64-cpython-38/xgboost/src/tree/updater_prune.cc:98: tree pruning end, 66 extra nodes, 0 pruned nodes, max_depth=6\n",
      "[19:06:51] INFO: /Users/runner/work/xgboost/xgboost/python-package/build/temp.macosx-11.0-arm64-cpython-38/xgboost/src/tree/updater_prune.cc:98: tree pruning end, 60 extra nodes, 0 pruned nodes, max_depth=6\n",
      "[19:06:58] INFO: /Users/runner/work/xgboost/xgboost/python-package/build/temp.macosx-11.0-arm64-cpython-38/xgboost/src/tree/updater_prune.cc:98: tree pruning end, 52 extra nodes, 0 pruned nodes, max_depth=6\n",
      "[19:07:05] INFO: /Users/runner/work/xgboost/xgboost/python-package/build/temp.macosx-11.0-arm64-cpython-38/xgboost/src/tree/updater_prune.cc:98: tree pruning end, 86 extra nodes, 0 pruned nodes, max_depth=6\n",
      "[19:07:11] INFO: /Users/runner/work/xgboost/xgboost/python-package/build/temp.macosx-11.0-arm64-cpython-38/xgboost/src/tree/updater_prune.cc:98: tree pruning end, 46 extra nodes, 0 pruned nodes, max_depth=6\n",
      "[19:07:18] INFO: /Users/runner/work/xgboost/xgboost/python-package/build/temp.macosx-11.0-arm64-cpython-38/xgboost/src/tree/updater_prune.cc:98: tree pruning end, 66 extra nodes, 0 pruned nodes, max_depth=6\n",
      "[19:07:25] INFO: /Users/runner/work/xgboost/xgboost/python-package/build/temp.macosx-11.0-arm64-cpython-38/xgboost/src/tree/updater_prune.cc:98: tree pruning end, 50 extra nodes, 0 pruned nodes, max_depth=6\n",
      "[19:07:32] INFO: /Users/runner/work/xgboost/xgboost/python-package/build/temp.macosx-11.0-arm64-cpython-38/xgboost/src/tree/updater_prune.cc:98: tree pruning end, 66 extra nodes, 0 pruned nodes, max_depth=6\n",
      "[19:07:39] INFO: /Users/runner/work/xgboost/xgboost/python-package/build/temp.macosx-11.0-arm64-cpython-38/xgboost/src/tree/updater_prune.cc:98: tree pruning end, 54 extra nodes, 0 pruned nodes, max_depth=6\n",
      "[19:07:46] INFO: /Users/runner/work/xgboost/xgboost/python-package/build/temp.macosx-11.0-arm64-cpython-38/xgboost/src/tree/updater_prune.cc:98: tree pruning end, 64 extra nodes, 0 pruned nodes, max_depth=6\n",
      "[19:07:52] INFO: /Users/runner/work/xgboost/xgboost/python-package/build/temp.macosx-11.0-arm64-cpython-38/xgboost/src/tree/updater_prune.cc:98: tree pruning end, 40 extra nodes, 0 pruned nodes, max_depth=6\n",
      "[19:07:59] INFO: /Users/runner/work/xgboost/xgboost/python-package/build/temp.macosx-11.0-arm64-cpython-38/xgboost/src/tree/updater_prune.cc:98: tree pruning end, 82 extra nodes, 0 pruned nodes, max_depth=6\n",
      "[19:08:06] INFO: /Users/runner/work/xgboost/xgboost/python-package/build/temp.macosx-11.0-arm64-cpython-38/xgboost/src/tree/updater_prune.cc:98: tree pruning end, 60 extra nodes, 0 pruned nodes, max_depth=6\n",
      "[19:08:13] INFO: /Users/runner/work/xgboost/xgboost/python-package/build/temp.macosx-11.0-arm64-cpython-38/xgboost/src/tree/updater_prune.cc:98: tree pruning end, 66 extra nodes, 0 pruned nodes, max_depth=6\n",
      "[19:08:20] INFO: /Users/runner/work/xgboost/xgboost/python-package/build/temp.macosx-11.0-arm64-cpython-38/xgboost/src/tree/updater_prune.cc:98: tree pruning end, 70 extra nodes, 0 pruned nodes, max_depth=6\n",
      "[19:08:27] INFO: /Users/runner/work/xgboost/xgboost/python-package/build/temp.macosx-11.0-arm64-cpython-38/xgboost/src/tree/updater_prune.cc:98: tree pruning end, 42 extra nodes, 0 pruned nodes, max_depth=6\n"
     ]
    },
    {
     "name": "stdout",
     "output_type": "stream",
     "text": [
      "[19:08:34] INFO: /Users/runner/work/xgboost/xgboost/python-package/build/temp.macosx-11.0-arm64-cpython-38/xgboost/src/tree/updater_prune.cc:98: tree pruning end, 54 extra nodes, 0 pruned nodes, max_depth=6\n",
      "[19:08:41] INFO: /Users/runner/work/xgboost/xgboost/python-package/build/temp.macosx-11.0-arm64-cpython-38/xgboost/src/tree/updater_prune.cc:98: tree pruning end, 62 extra nodes, 0 pruned nodes, max_depth=6\n",
      "[19:08:48] INFO: /Users/runner/work/xgboost/xgboost/python-package/build/temp.macosx-11.0-arm64-cpython-38/xgboost/src/tree/updater_prune.cc:98: tree pruning end, 54 extra nodes, 0 pruned nodes, max_depth=6\n",
      "[19:08:55] INFO: /Users/runner/work/xgboost/xgboost/python-package/build/temp.macosx-11.0-arm64-cpython-38/xgboost/src/tree/updater_prune.cc:98: tree pruning end, 52 extra nodes, 0 pruned nodes, max_depth=6\n",
      "[19:09:02] INFO: /Users/runner/work/xgboost/xgboost/python-package/build/temp.macosx-11.0-arm64-cpython-38/xgboost/src/tree/updater_prune.cc:98: tree pruning end, 76 extra nodes, 0 pruned nodes, max_depth=6\n",
      "[19:09:08] INFO: /Users/runner/work/xgboost/xgboost/python-package/build/temp.macosx-11.0-arm64-cpython-38/xgboost/src/tree/updater_prune.cc:98: tree pruning end, 52 extra nodes, 0 pruned nodes, max_depth=6\n",
      "[19:09:15] INFO: /Users/runner/work/xgboost/xgboost/python-package/build/temp.macosx-11.0-arm64-cpython-38/xgboost/src/tree/updater_prune.cc:98: tree pruning end, 64 extra nodes, 0 pruned nodes, max_depth=6\n",
      "[19:09:22] INFO: /Users/runner/work/xgboost/xgboost/python-package/build/temp.macosx-11.0-arm64-cpython-38/xgboost/src/tree/updater_prune.cc:98: tree pruning end, 50 extra nodes, 0 pruned nodes, max_depth=6\n",
      "[19:09:29] INFO: /Users/runner/work/xgboost/xgboost/python-package/build/temp.macosx-11.0-arm64-cpython-38/xgboost/src/tree/updater_prune.cc:98: tree pruning end, 50 extra nodes, 0 pruned nodes, max_depth=6\n",
      "[19:09:36] INFO: /Users/runner/work/xgboost/xgboost/python-package/build/temp.macosx-11.0-arm64-cpython-38/xgboost/src/tree/updater_prune.cc:98: tree pruning end, 64 extra nodes, 0 pruned nodes, max_depth=6\n",
      "[19:09:43] INFO: /Users/runner/work/xgboost/xgboost/python-package/build/temp.macosx-11.0-arm64-cpython-38/xgboost/src/tree/updater_prune.cc:98: tree pruning end, 50 extra nodes, 0 pruned nodes, max_depth=6\n",
      "[19:09:50] INFO: /Users/runner/work/xgboost/xgboost/python-package/build/temp.macosx-11.0-arm64-cpython-38/xgboost/src/tree/updater_prune.cc:98: tree pruning end, 54 extra nodes, 0 pruned nodes, max_depth=6\n",
      "[19:09:56] INFO: /Users/runner/work/xgboost/xgboost/python-package/build/temp.macosx-11.0-arm64-cpython-38/xgboost/src/tree/updater_prune.cc:98: tree pruning end, 66 extra nodes, 0 pruned nodes, max_depth=6\n",
      "[19:10:03] INFO: /Users/runner/work/xgboost/xgboost/python-package/build/temp.macosx-11.0-arm64-cpython-38/xgboost/src/tree/updater_prune.cc:98: tree pruning end, 54 extra nodes, 0 pruned nodes, max_depth=6\n",
      "[19:10:10] INFO: /Users/runner/work/xgboost/xgboost/python-package/build/temp.macosx-11.0-arm64-cpython-38/xgboost/src/tree/updater_prune.cc:98: tree pruning end, 56 extra nodes, 0 pruned nodes, max_depth=6\n",
      "[19:10:17] INFO: /Users/runner/work/xgboost/xgboost/python-package/build/temp.macosx-11.0-arm64-cpython-38/xgboost/src/tree/updater_prune.cc:98: tree pruning end, 52 extra nodes, 0 pruned nodes, max_depth=6\n",
      "[19:10:24] INFO: /Users/runner/work/xgboost/xgboost/python-package/build/temp.macosx-11.0-arm64-cpython-38/xgboost/src/tree/updater_prune.cc:98: tree pruning end, 50 extra nodes, 0 pruned nodes, max_depth=6\n",
      "[19:10:31] INFO: /Users/runner/work/xgboost/xgboost/python-package/build/temp.macosx-11.0-arm64-cpython-38/xgboost/src/tree/updater_prune.cc:98: tree pruning end, 64 extra nodes, 0 pruned nodes, max_depth=6\n",
      "[19:10:38] INFO: /Users/runner/work/xgboost/xgboost/python-package/build/temp.macosx-11.0-arm64-cpython-38/xgboost/src/tree/updater_prune.cc:98: tree pruning end, 66 extra nodes, 0 pruned nodes, max_depth=6\n",
      "[19:10:45] INFO: /Users/runner/work/xgboost/xgboost/python-package/build/temp.macosx-11.0-arm64-cpython-38/xgboost/src/tree/updater_prune.cc:98: tree pruning end, 60 extra nodes, 0 pruned nodes, max_depth=6\n"
     ]
    },
    {
     "data": {
      "text/html": [
       "<style>#sk-container-id-1 {color: black;background-color: white;}#sk-container-id-1 pre{padding: 0;}#sk-container-id-1 div.sk-toggleable {background-color: white;}#sk-container-id-1 label.sk-toggleable__label {cursor: pointer;display: block;width: 100%;margin-bottom: 0;padding: 0.3em;box-sizing: border-box;text-align: center;}#sk-container-id-1 label.sk-toggleable__label-arrow:before {content: \"▸\";float: left;margin-right: 0.25em;color: #696969;}#sk-container-id-1 label.sk-toggleable__label-arrow:hover:before {color: black;}#sk-container-id-1 div.sk-estimator:hover label.sk-toggleable__label-arrow:before {color: black;}#sk-container-id-1 div.sk-toggleable__content {max-height: 0;max-width: 0;overflow: hidden;text-align: left;background-color: #f0f8ff;}#sk-container-id-1 div.sk-toggleable__content pre {margin: 0.2em;color: black;border-radius: 0.25em;background-color: #f0f8ff;}#sk-container-id-1 input.sk-toggleable__control:checked~div.sk-toggleable__content {max-height: 200px;max-width: 100%;overflow: auto;}#sk-container-id-1 input.sk-toggleable__control:checked~label.sk-toggleable__label-arrow:before {content: \"▾\";}#sk-container-id-1 div.sk-estimator input.sk-toggleable__control:checked~label.sk-toggleable__label {background-color: #d4ebff;}#sk-container-id-1 div.sk-label input.sk-toggleable__control:checked~label.sk-toggleable__label {background-color: #d4ebff;}#sk-container-id-1 input.sk-hidden--visually {border: 0;clip: rect(1px 1px 1px 1px);clip: rect(1px, 1px, 1px, 1px);height: 1px;margin: -1px;overflow: hidden;padding: 0;position: absolute;width: 1px;}#sk-container-id-1 div.sk-estimator {font-family: monospace;background-color: #f0f8ff;border: 1px dotted black;border-radius: 0.25em;box-sizing: border-box;margin-bottom: 0.5em;}#sk-container-id-1 div.sk-estimator:hover {background-color: #d4ebff;}#sk-container-id-1 div.sk-parallel-item::after {content: \"\";width: 100%;border-bottom: 1px solid gray;flex-grow: 1;}#sk-container-id-1 div.sk-label:hover label.sk-toggleable__label {background-color: #d4ebff;}#sk-container-id-1 div.sk-serial::before {content: \"\";position: absolute;border-left: 1px solid gray;box-sizing: border-box;top: 0;bottom: 0;left: 50%;z-index: 0;}#sk-container-id-1 div.sk-serial {display: flex;flex-direction: column;align-items: center;background-color: white;padding-right: 0.2em;padding-left: 0.2em;position: relative;}#sk-container-id-1 div.sk-item {position: relative;z-index: 1;}#sk-container-id-1 div.sk-parallel {display: flex;align-items: stretch;justify-content: center;background-color: white;position: relative;}#sk-container-id-1 div.sk-item::before, #sk-container-id-1 div.sk-parallel-item::before {content: \"\";position: absolute;border-left: 1px solid gray;box-sizing: border-box;top: 0;bottom: 0;left: 50%;z-index: -1;}#sk-container-id-1 div.sk-parallel-item {display: flex;flex-direction: column;z-index: 1;position: relative;background-color: white;}#sk-container-id-1 div.sk-parallel-item:first-child::after {align-self: flex-end;width: 50%;}#sk-container-id-1 div.sk-parallel-item:last-child::after {align-self: flex-start;width: 50%;}#sk-container-id-1 div.sk-parallel-item:only-child::after {width: 0;}#sk-container-id-1 div.sk-dashed-wrapped {border: 1px dashed gray;margin: 0 0.4em 0.5em 0.4em;box-sizing: border-box;padding-bottom: 0.4em;background-color: white;}#sk-container-id-1 div.sk-label label {font-family: monospace;font-weight: bold;display: inline-block;line-height: 1.2em;}#sk-container-id-1 div.sk-label-container {text-align: center;}#sk-container-id-1 div.sk-container {/* jupyter's `normalize.less` sets `[hidden] { display: none; }` but bootstrap.min.css set `[hidden] { display: none !important; }` so we also need the `!important` here to be able to override the default hidden behavior on the sphinx rendered scikit-learn.org. See: https://github.com/scikit-learn/scikit-learn/issues/21755 */display: inline-block !important;position: relative;}#sk-container-id-1 div.sk-text-repr-fallback {display: none;}</style><div id=\"sk-container-id-1\" class=\"sk-top-container\"><div class=\"sk-text-repr-fallback\"><pre>XGBClassifier(base_score=0.5, booster=&#x27;gbtree&#x27;, callbacks=None,\n",
       "              colsample_bylevel=1, colsample_bynode=1, colsample_bytree=1,\n",
       "              early_stopping_rounds=None, enable_categorical=False,\n",
       "              eval_metric=None, feature_types=None, gamma=0, gpu_id=-1,\n",
       "              grow_policy=&#x27;depthwise&#x27;, importance_type=None,\n",
       "              interaction_constraints=&#x27;&#x27;, learning_rate=0.300000012,\n",
       "              max_bin=256, max_cat_threshold=64, max_cat_to_onehot=4,\n",
       "              max_delta_step=0, max_depth=6, max_leaves=0, min_child_weight=1,\n",
       "              missing=nan, monotone_constraints=&#x27;()&#x27;, n_estimators=100,\n",
       "              n_jobs=0, num_parallel_tree=1, predictor=&#x27;auto&#x27;, random_state=0, ...)</pre><b>In a Jupyter environment, please rerun this cell to show the HTML representation or trust the notebook. <br />On GitHub, the HTML representation is unable to render, please try loading this page with nbviewer.org.</b></div><div class=\"sk-container\" hidden><div class=\"sk-item\"><div class=\"sk-estimator sk-toggleable\"><input class=\"sk-toggleable__control sk-hidden--visually\" id=\"sk-estimator-id-1\" type=\"checkbox\" checked><label for=\"sk-estimator-id-1\" class=\"sk-toggleable__label sk-toggleable__label-arrow\">XGBClassifier</label><div class=\"sk-toggleable__content\"><pre>XGBClassifier(base_score=0.5, booster=&#x27;gbtree&#x27;, callbacks=None,\n",
       "              colsample_bylevel=1, colsample_bynode=1, colsample_bytree=1,\n",
       "              early_stopping_rounds=None, enable_categorical=False,\n",
       "              eval_metric=None, feature_types=None, gamma=0, gpu_id=-1,\n",
       "              grow_policy=&#x27;depthwise&#x27;, importance_type=None,\n",
       "              interaction_constraints=&#x27;&#x27;, learning_rate=0.300000012,\n",
       "              max_bin=256, max_cat_threshold=64, max_cat_to_onehot=4,\n",
       "              max_delta_step=0, max_depth=6, max_leaves=0, min_child_weight=1,\n",
       "              missing=nan, monotone_constraints=&#x27;()&#x27;, n_estimators=100,\n",
       "              n_jobs=0, num_parallel_tree=1, predictor=&#x27;auto&#x27;, random_state=0, ...)</pre></div></div></div></div></div>"
      ],
      "text/plain": [
       "XGBClassifier(base_score=0.5, booster='gbtree', callbacks=None,\n",
       "              colsample_bylevel=1, colsample_bynode=1, colsample_bytree=1,\n",
       "              early_stopping_rounds=None, enable_categorical=False,\n",
       "              eval_metric=None, feature_types=None, gamma=0, gpu_id=-1,\n",
       "              grow_policy='depthwise', importance_type=None,\n",
       "              interaction_constraints='', learning_rate=0.300000012,\n",
       "              max_bin=256, max_cat_threshold=64, max_cat_to_onehot=4,\n",
       "              max_delta_step=0, max_depth=6, max_leaves=0, min_child_weight=1,\n",
       "              missing=nan, monotone_constraints='()', n_estimators=100,\n",
       "              n_jobs=0, num_parallel_tree=1, predictor='auto', random_state=0, ...)"
      ]
     },
     "execution_count": 13,
     "metadata": {},
     "output_type": "execute_result"
    }
   ],
   "source": [
    "model_xgb.fit(X_train_tfidf_ft, y_train_tfidf_ft)"
   ]
  },
  {
   "cell_type": "code",
   "execution_count": 14,
   "id": "90606d6f",
   "metadata": {
    "ExecuteTime": {
     "end_time": "2022-11-15T00:11:07.184805Z",
     "start_time": "2022-11-15T00:11:07.010591Z"
    }
   },
   "outputs": [],
   "source": [
    "y_pred_xgb = model_xgb.predict(X_test_tfidf_ft)"
   ]
  },
  {
   "cell_type": "code",
   "execution_count": 15,
   "id": "77886eab",
   "metadata": {
    "ExecuteTime": {
     "end_time": "2022-11-15T00:11:09.989093Z",
     "start_time": "2022-11-15T00:11:09.926330Z"
    }
   },
   "outputs": [
    {
     "name": "stdout",
     "output_type": "stream",
     "text": [
      "              precision    recall  f1-score   support\n",
      "\n",
      "           0       0.79      0.72      0.75     14978\n",
      "           1       0.78      0.84      0.81     17467\n",
      "\n",
      "    accuracy                           0.78     32445\n",
      "   macro avg       0.78      0.78      0.78     32445\n",
      "weighted avg       0.78      0.78      0.78     32445\n",
      "\n"
     ]
    }
   ],
   "source": [
    "print(classification_report(y_test_tfidf_ft, y_pred_xgb))"
   ]
  },
  {
   "cell_type": "code",
   "execution_count": 16,
   "id": "61122747",
   "metadata": {
    "ExecuteTime": {
     "end_time": "2022-11-15T00:11:13.913048Z",
     "start_time": "2022-11-15T00:11:13.679343Z"
    }
   },
   "outputs": [
    {
     "data": {
      "image/png": "[encoded data removed]",
      "text/plain": [
       "<Figure size 640x480 with 2 Axes>"
      ]
     },
     "metadata": {},
     "output_type": "display_data"
    }
   ],
   "source": [
    "plot_confusion_matrix(model_xgb, X_test_tfidf_ft, y_test_tfidf_ft)  \n",
    "plt.show()"
   ]
  },
  {
   "cell_type": "code",
   "execution_count": 17,
   "id": "1ac919b3",
   "metadata": {
    "ExecuteTime": {
     "end_time": "2022-11-15T00:11:19.050323Z",
     "start_time": "2022-11-15T00:11:18.956910Z"
    }
   },
   "outputs": [
    {
     "data": {
      "image/png": "[encoded data removed]",
      "text/plain": [
       "<Figure size 640x480 with 1 Axes>"
      ]
     },
     "metadata": {},
     "output_type": "display_data"
    }
   ],
   "source": [
    "fpr, tpr, _ = metrics.roc_curve(y_test_tfidf_ft,  y_pred_xgb)\n",
    "auc = metrics.roc_auc_score(y_test_tfidf_ft, y_pred_xgb)\n",
    "\n",
    "plt.plot(fpr,tpr,label=\"AUC=\"+str(auc))\n",
    "plt.ylabel('True Positive Rate')\n",
    "plt.xlabel('False Positive Rate')\n",
    "plt.legend()\n",
    "plt.show()"
   ]
  },
  {
   "cell_type": "markdown",
   "id": "d8488d15",
   "metadata": {},
   "source": [
    "## GridSearchCV with XGBoost"
   ]
  },
  {
   "cell_type": "markdown",
   "id": "39634ea1",
   "metadata": {},
   "source": [
    "(1) how many sub-trees to train; (2) the maximum tree depth (a regularization hyperparameter); (3) the learning rate; (4) the L1 (reg_alpha) and L2 (reg_ lambda) regularization rates that determine the extremity of weights on the leaves; (5) the complexity control (gamma=γ), a pseudo- regularization hyperparameter; and, (6) minimum child weight"
   ]
  },
  {
   "cell_type": "code",
   "execution_count": 101,
   "id": "bfc48d50",
   "metadata": {
    "ExecuteTime": {
     "end_time": "2022-11-15T11:11:27.623209Z",
     "start_time": "2022-11-15T11:11:27.619043Z"
    }
   },
   "outputs": [],
   "source": [
    "xgb_grid = { 'model_xgb__n_estimators' : [300, 400, 500], 'model_xgb__eta' : [0.2], 'model_xgb__max_depth' : [5],\n",
    " 'model_xgb__min_child_weight' : [1], 'model_xgb__gamma' : [1.5]}"
   ]
  },
  {
   "cell_type": "code",
   "execution_count": 102,
   "id": "c585794a",
   "metadata": {
    "ExecuteTime": {
     "end_time": "2022-11-15T11:11:28.008894Z",
     "start_time": "2022-11-15T11:11:28.003738Z"
    }
   },
   "outputs": [],
   "source": [
    "xgb_pipe = Pipeline([('model_xgb', XGBClassifier())])"
   ]
  },
  {
   "cell_type": "code",
   "execution_count": 103,
   "id": "2d0d0c12",
   "metadata": {
    "ExecuteTime": {
     "end_time": "2022-11-15T11:11:28.447715Z",
     "start_time": "2022-11-15T11:11:28.442875Z"
    }
   },
   "outputs": [],
   "source": [
    "halving_cv_xgb = HalvingRandomSearchCV(estimator = xgb_pipe, param_distributions = xgb_grid, scoring=\"f1\", n_jobs=-1, min_resources=2222, max_resources=60000, cv=5, factor=3, verbose=2, random_state=95)"
   ]
  },
  {
   "cell_type": "code",
   "execution_count": 104,
   "id": "d07ab854",
   "metadata": {
    "ExecuteTime": {
     "end_time": "2022-11-15T11:54:12.145092Z",
     "start_time": "2022-11-15T11:11:29.477077Z"
    }
   },
   "outputs": [
    {
     "name": "stdout",
     "output_type": "stream",
     "text": [
      "n_iterations: 2\n",
      "n_required_iterations: 2\n",
      "n_possible_iterations: 4\n",
      "min_resources_: 2222\n",
      "max_resources_: 60000\n",
      "aggressive_elimination: False\n",
      "factor: 3\n",
      "----------\n",
      "iter: 0\n",
      "n_candidates: 3\n",
      "n_resources: 2222\n",
      "Fitting 5 folds for each of 3 candidates, totalling 15 fits\n",
      "----------\n",
      "iter: 1\n",
      "n_candidates: 1\n",
      "n_resources: 6666\n",
      "Fitting 5 folds for each of 1 candidates, totalling 5 fits\n",
      "[CV] END model_xgb__eta=0.2, model_xgb__gamma=1.5, model_xgb__max_depth=5, model_xgb__min_child_weight=1, model_xgb__n_estimators=300; total time=  49.4s\n",
      "[CV] END model_xgb__eta=0.2, model_xgb__gamma=1.5, model_xgb__max_depth=5, model_xgb__min_child_weight=1, model_xgb__n_estimators=400; total time= 1.2min\n",
      "[CV] END model_xgb__eta=0.2, model_xgb__gamma=1.5, model_xgb__max_depth=5, model_xgb__min_child_weight=1, model_xgb__n_estimators=500; total time= 3.7min\n",
      "[CV] END model_xgb__eta=0.2, model_xgb__gamma=1.5, model_xgb__max_depth=5, model_xgb__min_child_weight=1, model_xgb__n_estimators=400; total time= 1.1min\n",
      "[CV] END model_xgb__eta=0.2, model_xgb__gamma=1.5, model_xgb__max_depth=5, model_xgb__min_child_weight=1, model_xgb__n_estimators=500; total time= 1.3min\n",
      "[CV] END model_xgb__eta=0.2, model_xgb__gamma=1.5, model_xgb__max_depth=5, model_xgb__min_child_weight=1, model_xgb__n_estimators=500; total time= 3.7min\n",
      "[CV] END model_xgb__eta=0.2, model_xgb__gamma=1.5, model_xgb__max_depth=5, model_xgb__min_child_weight=1, model_xgb__n_estimators=300; total time=  49.6s\n",
      "[CV] END model_xgb__eta=0.2, model_xgb__gamma=1.5, model_xgb__max_depth=5, model_xgb__min_child_weight=1, model_xgb__n_estimators=500; total time= 1.4min\n",
      "[CV] END model_xgb__eta=0.2, model_xgb__gamma=1.5, model_xgb__max_depth=5, model_xgb__min_child_weight=1, model_xgb__n_estimators=500; total time= 3.7min\n",
      "[CV] END model_xgb__eta=0.2, model_xgb__gamma=1.5, model_xgb__max_depth=5, model_xgb__min_child_weight=1, model_xgb__n_estimators=400; total time= 1.1min\n",
      "[CV] END model_xgb__eta=0.2, model_xgb__gamma=1.5, model_xgb__max_depth=5, model_xgb__min_child_weight=1, model_xgb__n_estimators=500; total time= 1.3min\n",
      "[CV] END model_xgb__eta=0.2, model_xgb__gamma=1.5, model_xgb__max_depth=5, model_xgb__min_child_weight=1, model_xgb__n_estimators=500; total time= 3.7min\n",
      "[CV] END model_xgb__eta=0.2, model_xgb__gamma=1.5, model_xgb__max_depth=5, model_xgb__min_child_weight=1, model_xgb__n_estimators=400; total time= 1.1min\n",
      "[CV] END model_xgb__eta=0.2, model_xgb__gamma=1.5, model_xgb__max_depth=5, model_xgb__min_child_weight=1, model_xgb__n_estimators=500; total time= 3.7min\n",
      "[CV] END model_xgb__eta=0.2, model_xgb__gamma=1.5, model_xgb__max_depth=5, model_xgb__min_child_weight=1, model_xgb__n_estimators=300; total time=  49.5s\n",
      "[CV] END model_xgb__eta=0.2, model_xgb__gamma=1.5, model_xgb__max_depth=5, model_xgb__min_child_weight=1, model_xgb__n_estimators=400; total time= 1.2min\n",
      "[CV] END model_xgb__eta=0.2, model_xgb__gamma=1.5, model_xgb__max_depth=5, model_xgb__min_child_weight=1, model_xgb__n_estimators=300; total time=  49.5s\n",
      "[CV] END model_xgb__eta=0.2, model_xgb__gamma=1.5, model_xgb__max_depth=5, model_xgb__min_child_weight=1, model_xgb__n_estimators=500; total time= 1.4min\n",
      "[CV] END model_xgb__eta=0.2, model_xgb__gamma=1.5, model_xgb__max_depth=5, model_xgb__min_child_weight=1, model_xgb__n_estimators=300; total time=  49.8s\n",
      "[CV] END model_xgb__eta=0.2, model_xgb__gamma=1.5, model_xgb__max_depth=5, model_xgb__min_child_weight=1, model_xgb__n_estimators=500; total time= 1.4min\n"
     ]
    },
    {
     "data": {
      "text/html": [
       "<style>#sk-container-id-8 {color: black;background-color: white;}#sk-container-id-8 pre{padding: 0;}#sk-container-id-8 div.sk-toggleable {background-color: white;}#sk-container-id-8 label.sk-toggleable__label {cursor: pointer;display: block;width: 100%;margin-bottom: 0;padding: 0.3em;box-sizing: border-box;text-align: center;}#sk-container-id-8 label.sk-toggleable__label-arrow:before {content: \"▸\";float: left;margin-right: 0.25em;color: #696969;}#sk-container-id-8 label.sk-toggleable__label-arrow:hover:before {color: black;}#sk-container-id-8 div.sk-estimator:hover label.sk-toggleable__label-arrow:before {color: black;}#sk-container-id-8 div.sk-toggleable__content {max-height: 0;max-width: 0;overflow: hidden;text-align: left;background-color: #f0f8ff;}#sk-container-id-8 div.sk-toggleable__content pre {margin: 0.2em;color: black;border-radius: 0.25em;background-color: #f0f8ff;}#sk-container-id-8 input.sk-toggleable__control:checked~div.sk-toggleable__content {max-height: 200px;max-width: 100%;overflow: auto;}#sk-container-id-8 input.sk-toggleable__control:checked~label.sk-toggleable__label-arrow:before {content: \"▾\";}#sk-container-id-8 div.sk-estimator input.sk-toggleable__control:checked~label.sk-toggleable__label {background-color: #d4ebff;}#sk-container-id-8 div.sk-label input.sk-toggleable__control:checked~label.sk-toggleable__label {background-color: #d4ebff;}#sk-container-id-8 input.sk-hidden--visually {border: 0;clip: rect(1px 1px 1px 1px);clip: rect(1px, 1px, 1px, 1px);height: 1px;margin: -1px;overflow: hidden;padding: 0;position: absolute;width: 1px;}#sk-container-id-8 div.sk-estimator {font-family: monospace;background-color: #f0f8ff;border: 1px dotted black;border-radius: 0.25em;box-sizing: border-box;margin-bottom: 0.5em;}#sk-container-id-8 div.sk-estimator:hover {background-color: #d4ebff;}#sk-container-id-8 div.sk-parallel-item::after {content: \"\";width: 100%;border-bottom: 1px solid gray;flex-grow: 1;}#sk-container-id-8 div.sk-label:hover label.sk-toggleable__label {background-color: #d4ebff;}#sk-container-id-8 div.sk-serial::before {content: \"\";position: absolute;border-left: 1px solid gray;box-sizing: border-box;top: 0;bottom: 0;left: 50%;z-index: 0;}#sk-container-id-8 div.sk-serial {display: flex;flex-direction: column;align-items: center;background-color: white;padding-right: 0.2em;padding-left: 0.2em;position: relative;}#sk-container-id-8 div.sk-item {position: relative;z-index: 1;}#sk-container-id-8 div.sk-parallel {display: flex;align-items: stretch;justify-content: center;background-color: white;position: relative;}#sk-container-id-8 div.sk-item::before, #sk-container-id-8 div.sk-parallel-item::before {content: \"\";position: absolute;border-left: 1px solid gray;box-sizing: border-box;top: 0;bottom: 0;left: 50%;z-index: -1;}#sk-container-id-8 div.sk-parallel-item {display: flex;flex-direction: column;z-index: 1;position: relative;background-color: white;}#sk-container-id-8 div.sk-parallel-item:first-child::after {align-self: flex-end;width: 50%;}#sk-container-id-8 div.sk-parallel-item:last-child::after {align-self: flex-start;width: 50%;}#sk-container-id-8 div.sk-parallel-item:only-child::after {width: 0;}#sk-container-id-8 div.sk-dashed-wrapped {border: 1px dashed gray;margin: 0 0.4em 0.5em 0.4em;box-sizing: border-box;padding-bottom: 0.4em;background-color: white;}#sk-container-id-8 div.sk-label label {font-family: monospace;font-weight: bold;display: inline-block;line-height: 1.2em;}#sk-container-id-8 div.sk-label-container {text-align: center;}#sk-container-id-8 div.sk-container {/* jupyter's `normalize.less` sets `[hidden] { display: none; }` but bootstrap.min.css set `[hidden] { display: none !important; }` so we also need the `!important` here to be able to override the default hidden behavior on the sphinx rendered scikit-learn.org. See: https://github.com/scikit-learn/scikit-learn/issues/21755 */display: inline-block !important;position: relative;}#sk-container-id-8 div.sk-text-repr-fallback {display: none;}</style><div id=\"sk-container-id-8\" class=\"sk-top-container\"><div class=\"sk-text-repr-fallback\"><pre>HalvingRandomSearchCV(estimator=Pipeline(steps=[(&#x27;model_xgb&#x27;,\n",
       "                                                 XGBClassifier(base_score=None,\n",
       "                                                               booster=None,\n",
       "                                                               callbacks=None,\n",
       "                                                               colsample_bylevel=None,\n",
       "                                                               colsample_bynode=None,\n",
       "                                                               colsample_bytree=None,\n",
       "                                                               early_stopping_rounds=None,\n",
       "                                                               enable_categorical=False,\n",
       "                                                               eval_metric=None,\n",
       "                                                               feature_types=None,\n",
       "                                                               gamma=None,\n",
       "                                                               gpu_id=None,\n",
       "                                                               grow_policy=None,\n",
       "                                                               importance_type=None,\n",
       "                                                               interaction_con...\n",
       "                                                               n_estimators=100,\n",
       "                                                               n_jobs=None,\n",
       "                                                               num_parallel_tree=None,\n",
       "                                                               predictor=None,\n",
       "                                                               random_state=None, ...))]),\n",
       "                      max_resources=60000, min_resources=2222, n_jobs=-1,\n",
       "                      param_distributions={&#x27;model_xgb__eta&#x27;: [0.2],\n",
       "                                           &#x27;model_xgb__gamma&#x27;: [1.5],\n",
       "                                           &#x27;model_xgb__max_depth&#x27;: [5],\n",
       "                                           &#x27;model_xgb__min_child_weight&#x27;: [1],\n",
       "                                           &#x27;model_xgb__n_estimators&#x27;: [300, 400,\n",
       "                                                                       500]},\n",
       "                      random_state=95, scoring=&#x27;f1&#x27;, verbose=2)</pre><b>In a Jupyter environment, please rerun this cell to show the HTML representation or trust the notebook. <br />On GitHub, the HTML representation is unable to render, please try loading this page with nbviewer.org.</b></div><div class=\"sk-container\" hidden><div class=\"sk-item sk-dashed-wrapped\"><div class=\"sk-label-container\"><div class=\"sk-label sk-toggleable\"><input class=\"sk-toggleable__control sk-hidden--visually\" id=\"sk-estimator-id-17\" type=\"checkbox\" ><label for=\"sk-estimator-id-17\" class=\"sk-toggleable__label sk-toggleable__label-arrow\">HalvingRandomSearchCV</label><div class=\"sk-toggleable__content\"><pre>HalvingRandomSearchCV(estimator=Pipeline(steps=[(&#x27;model_xgb&#x27;,\n",
       "                                                 XGBClassifier(base_score=None,\n",
       "                                                               booster=None,\n",
       "                                                               callbacks=None,\n",
       "                                                               colsample_bylevel=None,\n",
       "                                                               colsample_bynode=None,\n",
       "                                                               colsample_bytree=None,\n",
       "                                                               early_stopping_rounds=None,\n",
       "                                                               enable_categorical=False,\n",
       "                                                               eval_metric=None,\n",
       "                                                               feature_types=None,\n",
       "                                                               gamma=None,\n",
       "                                                               gpu_id=None,\n",
       "                                                               grow_policy=None,\n",
       "                                                               importance_type=None,\n",
       "                                                               interaction_con...\n",
       "                                                               n_estimators=100,\n",
       "                                                               n_jobs=None,\n",
       "                                                               num_parallel_tree=None,\n",
       "                                                               predictor=None,\n",
       "                                                               random_state=None, ...))]),\n",
       "                      max_resources=60000, min_resources=2222, n_jobs=-1,\n",
       "                      param_distributions={&#x27;model_xgb__eta&#x27;: [0.2],\n",
       "                                           &#x27;model_xgb__gamma&#x27;: [1.5],\n",
       "                                           &#x27;model_xgb__max_depth&#x27;: [5],\n",
       "                                           &#x27;model_xgb__min_child_weight&#x27;: [1],\n",
       "                                           &#x27;model_xgb__n_estimators&#x27;: [300, 400,\n",
       "                                                                       500]},\n",
       "                      random_state=95, scoring=&#x27;f1&#x27;, verbose=2)</pre></div></div></div><div class=\"sk-parallel\"><div class=\"sk-parallel-item\"><div class=\"sk-item\"><div class=\"sk-label-container\"><div class=\"sk-label sk-toggleable\"><input class=\"sk-toggleable__control sk-hidden--visually\" id=\"sk-estimator-id-18\" type=\"checkbox\" ><label for=\"sk-estimator-id-18\" class=\"sk-toggleable__label sk-toggleable__label-arrow\">estimator: Pipeline</label><div class=\"sk-toggleable__content\"><pre>Pipeline(steps=[(&#x27;model_xgb&#x27;,\n",
       "                 XGBClassifier(base_score=None, booster=None, callbacks=None,\n",
       "                               colsample_bylevel=None, colsample_bynode=None,\n",
       "                               colsample_bytree=None,\n",
       "                               early_stopping_rounds=None,\n",
       "                               enable_categorical=False, eval_metric=None,\n",
       "                               feature_types=None, gamma=None, gpu_id=None,\n",
       "                               grow_policy=None, importance_type=None,\n",
       "                               interaction_constraints=None, learning_rate=None,\n",
       "                               max_bin=None, max_cat_threshold=None,\n",
       "                               max_cat_to_onehot=None, max_delta_step=None,\n",
       "                               max_depth=None, max_leaves=None,\n",
       "                               min_child_weight=None, missing=nan,\n",
       "                               monotone_constraints=None, n_estimators=100,\n",
       "                               n_jobs=None, num_parallel_tree=None,\n",
       "                               predictor=None, random_state=None, ...))])</pre></div></div></div><div class=\"sk-serial\"><div class=\"sk-item\"><div class=\"sk-serial\"><div class=\"sk-item\"><div class=\"sk-estimator sk-toggleable\"><input class=\"sk-toggleable__control sk-hidden--visually\" id=\"sk-estimator-id-19\" type=\"checkbox\" ><label for=\"sk-estimator-id-19\" class=\"sk-toggleable__label sk-toggleable__label-arrow\">XGBClassifier</label><div class=\"sk-toggleable__content\"><pre>XGBClassifier(base_score=None, booster=None, callbacks=None,\n",
       "              colsample_bylevel=None, colsample_bynode=None,\n",
       "              colsample_bytree=None, early_stopping_rounds=None,\n",
       "              enable_categorical=False, eval_metric=None, feature_types=None,\n",
       "              gamma=None, gpu_id=None, grow_policy=None, importance_type=None,\n",
       "              interaction_constraints=None, learning_rate=None, max_bin=None,\n",
       "              max_cat_threshold=None, max_cat_to_onehot=None,\n",
       "              max_delta_step=None, max_depth=None, max_leaves=None,\n",
       "              min_child_weight=None, missing=nan, monotone_constraints=None,\n",
       "              n_estimators=100, n_jobs=None, num_parallel_tree=None,\n",
       "              predictor=None, random_state=None, ...)</pre></div></div></div></div></div></div></div></div></div></div></div></div>"
      ],
      "text/plain": [
       "HalvingRandomSearchCV(estimator=Pipeline(steps=[('model_xgb',\n",
       "                                                 XGBClassifier(base_score=None,\n",
       "                                                               booster=None,\n",
       "                                                               callbacks=None,\n",
       "                                                               colsample_bylevel=None,\n",
       "                                                               colsample_bynode=None,\n",
       "                                                               colsample_bytree=None,\n",
       "                                                               early_stopping_rounds=None,\n",
       "                                                               enable_categorical=False,\n",
       "                                                               eval_metric=None,\n",
       "                                                               feature_types=None,\n",
       "                                                               gamma=None,\n",
       "                                                               gpu_id=None,\n",
       "                                                               grow_policy=None,\n",
       "                                                               importance_type=None,\n",
       "                                                               interaction_con...\n",
       "                                                               n_estimators=100,\n",
       "                                                               n_jobs=None,\n",
       "                                                               num_parallel_tree=None,\n",
       "                                                               predictor=None,\n",
       "                                                               random_state=None, ...))]),\n",
       "                      max_resources=60000, min_resources=2222, n_jobs=-1,\n",
       "                      param_distributions={'model_xgb__eta': [0.2],\n",
       "                                           'model_xgb__gamma': [1.5],\n",
       "                                           'model_xgb__max_depth': [5],\n",
       "                                           'model_xgb__min_child_weight': [1],\n",
       "                                           'model_xgb__n_estimators': [300, 400,\n",
       "                                                                       500]},\n",
       "                      random_state=95, scoring='f1', verbose=2)"
      ]
     },
     "execution_count": 104,
     "metadata": {},
     "output_type": "execute_result"
    }
   ],
   "source": [
    "halving_cv_xgb.fit(X_train_tfidf_ft, y_train_tfidf_ft)"
   ]
  },
  {
   "cell_type": "code",
   "execution_count": 105,
   "id": "7e15d4ab",
   "metadata": {
    "ExecuteTime": {
     "end_time": "2022-11-15T11:54:12.150600Z",
     "start_time": "2022-11-15T11:54:12.147634Z"
    }
   },
   "outputs": [
    {
     "data": {
      "text/plain": [
       "0.7603135852806456"
      ]
     },
     "execution_count": 105,
     "metadata": {},
     "output_type": "execute_result"
    }
   ],
   "source": [
    "halving_cv_xgb.best_score_"
   ]
  },
  {
   "cell_type": "code",
   "execution_count": 106,
   "id": "7a537a90",
   "metadata": {
    "ExecuteTime": {
     "end_time": "2022-11-15T11:54:12.155207Z",
     "start_time": "2022-11-15T11:54:12.151647Z"
    }
   },
   "outputs": [
    {
     "data": {
      "text/plain": [
       "{'model_xgb__n_estimators': 500,\n",
       " 'model_xgb__min_child_weight': 1,\n",
       " 'model_xgb__max_depth': 5,\n",
       " 'model_xgb__gamma': 1.5,\n",
       " 'model_xgb__eta': 0.2}"
      ]
     },
     "execution_count": 106,
     "metadata": {},
     "output_type": "execute_result"
    }
   ],
   "source": [
    "halving_cv_xgb.best_params_"
   ]
  },
  {
   "cell_type": "code",
   "execution_count": 107,
   "id": "99e360d5",
   "metadata": {
    "ExecuteTime": {
     "end_time": "2022-11-15T11:54:12.170136Z",
     "start_time": "2022-11-15T11:54:12.157002Z"
    }
   },
   "outputs": [
    {
     "data": {
      "text/html": [
       "<style>#sk-container-id-9 {color: black;background-color: white;}#sk-container-id-9 pre{padding: 0;}#sk-container-id-9 div.sk-toggleable {background-color: white;}#sk-container-id-9 label.sk-toggleable__label {cursor: pointer;display: block;width: 100%;margin-bottom: 0;padding: 0.3em;box-sizing: border-box;text-align: center;}#sk-container-id-9 label.sk-toggleable__label-arrow:before {content: \"▸\";float: left;margin-right: 0.25em;color: #696969;}#sk-container-id-9 label.sk-toggleable__label-arrow:hover:before {color: black;}#sk-container-id-9 div.sk-estimator:hover label.sk-toggleable__label-arrow:before {color: black;}#sk-container-id-9 div.sk-toggleable__content {max-height: 0;max-width: 0;overflow: hidden;text-align: left;background-color: #f0f8ff;}#sk-container-id-9 div.sk-toggleable__content pre {margin: 0.2em;color: black;border-radius: 0.25em;background-color: #f0f8ff;}#sk-container-id-9 input.sk-toggleable__control:checked~div.sk-toggleable__content {max-height: 200px;max-width: 100%;overflow: auto;}#sk-container-id-9 input.sk-toggleable__control:checked~label.sk-toggleable__label-arrow:before {content: \"▾\";}#sk-container-id-9 div.sk-estimator input.sk-toggleable__control:checked~label.sk-toggleable__label {background-color: #d4ebff;}#sk-container-id-9 div.sk-label input.sk-toggleable__control:checked~label.sk-toggleable__label {background-color: #d4ebff;}#sk-container-id-9 input.sk-hidden--visually {border: 0;clip: rect(1px 1px 1px 1px);clip: rect(1px, 1px, 1px, 1px);height: 1px;margin: -1px;overflow: hidden;padding: 0;position: absolute;width: 1px;}#sk-container-id-9 div.sk-estimator {font-family: monospace;background-color: #f0f8ff;border: 1px dotted black;border-radius: 0.25em;box-sizing: border-box;margin-bottom: 0.5em;}#sk-container-id-9 div.sk-estimator:hover {background-color: #d4ebff;}#sk-container-id-9 div.sk-parallel-item::after {content: \"\";width: 100%;border-bottom: 1px solid gray;flex-grow: 1;}#sk-container-id-9 div.sk-label:hover label.sk-toggleable__label {background-color: #d4ebff;}#sk-container-id-9 div.sk-serial::before {content: \"\";position: absolute;border-left: 1px solid gray;box-sizing: border-box;top: 0;bottom: 0;left: 50%;z-index: 0;}#sk-container-id-9 div.sk-serial {display: flex;flex-direction: column;align-items: center;background-color: white;padding-right: 0.2em;padding-left: 0.2em;position: relative;}#sk-container-id-9 div.sk-item {position: relative;z-index: 1;}#sk-container-id-9 div.sk-parallel {display: flex;align-items: stretch;justify-content: center;background-color: white;position: relative;}#sk-container-id-9 div.sk-item::before, #sk-container-id-9 div.sk-parallel-item::before {content: \"\";position: absolute;border-left: 1px solid gray;box-sizing: border-box;top: 0;bottom: 0;left: 50%;z-index: -1;}#sk-container-id-9 div.sk-parallel-item {display: flex;flex-direction: column;z-index: 1;position: relative;background-color: white;}#sk-container-id-9 div.sk-parallel-item:first-child::after {align-self: flex-end;width: 50%;}#sk-container-id-9 div.sk-parallel-item:last-child::after {align-self: flex-start;width: 50%;}#sk-container-id-9 div.sk-parallel-item:only-child::after {width: 0;}#sk-container-id-9 div.sk-dashed-wrapped {border: 1px dashed gray;margin: 0 0.4em 0.5em 0.4em;box-sizing: border-box;padding-bottom: 0.4em;background-color: white;}#sk-container-id-9 div.sk-label label {font-family: monospace;font-weight: bold;display: inline-block;line-height: 1.2em;}#sk-container-id-9 div.sk-label-container {text-align: center;}#sk-container-id-9 div.sk-container {/* jupyter's `normalize.less` sets `[hidden] { display: none; }` but bootstrap.min.css set `[hidden] { display: none !important; }` so we also need the `!important` here to be able to override the default hidden behavior on the sphinx rendered scikit-learn.org. See: https://github.com/scikit-learn/scikit-learn/issues/21755 */display: inline-block !important;position: relative;}#sk-container-id-9 div.sk-text-repr-fallback {display: none;}</style><div id=\"sk-container-id-9\" class=\"sk-top-container\"><div class=\"sk-text-repr-fallback\"><pre>Pipeline(steps=[(&#x27;model_xgb&#x27;,\n",
       "                 XGBClassifier(base_score=0.5, booster=&#x27;gbtree&#x27;, callbacks=None,\n",
       "                               colsample_bylevel=1, colsample_bynode=1,\n",
       "                               colsample_bytree=1, early_stopping_rounds=None,\n",
       "                               enable_categorical=False, eta=0.2,\n",
       "                               eval_metric=None, feature_types=None, gamma=1.5,\n",
       "                               gpu_id=-1, grow_policy=&#x27;depthwise&#x27;,\n",
       "                               importance_type=None, interaction_constraints=&#x27;&#x27;,\n",
       "                               learning_rate=0.200000003, max_bin=256,\n",
       "                               max_cat_threshold=64, max_cat_to_onehot=4,\n",
       "                               max_delta_step=0, max_depth=5, max_leaves=0,\n",
       "                               min_child_weight=1, missing=nan,\n",
       "                               monotone_constraints=&#x27;()&#x27;, n_estimators=500,\n",
       "                               n_jobs=0, num_parallel_tree=1, predictor=&#x27;auto&#x27;, ...))])</pre><b>In a Jupyter environment, please rerun this cell to show the HTML representation or trust the notebook. <br />On GitHub, the HTML representation is unable to render, please try loading this page with nbviewer.org.</b></div><div class=\"sk-container\" hidden><div class=\"sk-item sk-dashed-wrapped\"><div class=\"sk-label-container\"><div class=\"sk-label sk-toggleable\"><input class=\"sk-toggleable__control sk-hidden--visually\" id=\"sk-estimator-id-20\" type=\"checkbox\" ><label for=\"sk-estimator-id-20\" class=\"sk-toggleable__label sk-toggleable__label-arrow\">Pipeline</label><div class=\"sk-toggleable__content\"><pre>Pipeline(steps=[(&#x27;model_xgb&#x27;,\n",
       "                 XGBClassifier(base_score=0.5, booster=&#x27;gbtree&#x27;, callbacks=None,\n",
       "                               colsample_bylevel=1, colsample_bynode=1,\n",
       "                               colsample_bytree=1, early_stopping_rounds=None,\n",
       "                               enable_categorical=False, eta=0.2,\n",
       "                               eval_metric=None, feature_types=None, gamma=1.5,\n",
       "                               gpu_id=-1, grow_policy=&#x27;depthwise&#x27;,\n",
       "                               importance_type=None, interaction_constraints=&#x27;&#x27;,\n",
       "                               learning_rate=0.200000003, max_bin=256,\n",
       "                               max_cat_threshold=64, max_cat_to_onehot=4,\n",
       "                               max_delta_step=0, max_depth=5, max_leaves=0,\n",
       "                               min_child_weight=1, missing=nan,\n",
       "                               monotone_constraints=&#x27;()&#x27;, n_estimators=500,\n",
       "                               n_jobs=0, num_parallel_tree=1, predictor=&#x27;auto&#x27;, ...))])</pre></div></div></div><div class=\"sk-serial\"><div class=\"sk-item\"><div class=\"sk-estimator sk-toggleable\"><input class=\"sk-toggleable__control sk-hidden--visually\" id=\"sk-estimator-id-21\" type=\"checkbox\" ><label for=\"sk-estimator-id-21\" class=\"sk-toggleable__label sk-toggleable__label-arrow\">XGBClassifier</label><div class=\"sk-toggleable__content\"><pre>XGBClassifier(base_score=0.5, booster=&#x27;gbtree&#x27;, callbacks=None,\n",
       "              colsample_bylevel=1, colsample_bynode=1, colsample_bytree=1,\n",
       "              early_stopping_rounds=None, enable_categorical=False, eta=0.2,\n",
       "              eval_metric=None, feature_types=None, gamma=1.5, gpu_id=-1,\n",
       "              grow_policy=&#x27;depthwise&#x27;, importance_type=None,\n",
       "              interaction_constraints=&#x27;&#x27;, learning_rate=0.200000003,\n",
       "              max_bin=256, max_cat_threshold=64, max_cat_to_onehot=4,\n",
       "              max_delta_step=0, max_depth=5, max_leaves=0, min_child_weight=1,\n",
       "              missing=nan, monotone_constraints=&#x27;()&#x27;, n_estimators=500,\n",
       "              n_jobs=0, num_parallel_tree=1, predictor=&#x27;auto&#x27;, ...)</pre></div></div></div></div></div></div></div>"
      ],
      "text/plain": [
       "Pipeline(steps=[('model_xgb',\n",
       "                 XGBClassifier(base_score=0.5, booster='gbtree', callbacks=None,\n",
       "                               colsample_bylevel=1, colsample_bynode=1,\n",
       "                               colsample_bytree=1, early_stopping_rounds=None,\n",
       "                               enable_categorical=False, eta=0.2,\n",
       "                               eval_metric=None, feature_types=None, gamma=1.5,\n",
       "                               gpu_id=-1, grow_policy='depthwise',\n",
       "                               importance_type=None, interaction_constraints='',\n",
       "                               learning_rate=0.200000003, max_bin=256,\n",
       "                               max_cat_threshold=64, max_cat_to_onehot=4,\n",
       "                               max_delta_step=0, max_depth=5, max_leaves=0,\n",
       "                               min_child_weight=1, missing=nan,\n",
       "                               monotone_constraints='()', n_estimators=500,\n",
       "                               n_jobs=0, num_parallel_tree=1, predictor='auto', ...))])"
      ]
     },
     "execution_count": 107,
     "metadata": {},
     "output_type": "execute_result"
    }
   ],
   "source": [
    "optimal_model_xgb = halving_cv_xgb.best_estimator_\n",
    "optimal_model_xgb"
   ]
  },
  {
   "cell_type": "code",
   "execution_count": 108,
   "id": "c6e3c9d2",
   "metadata": {
    "ExecuteTime": {
     "end_time": "2022-11-15T11:54:12.408796Z",
     "start_time": "2022-11-15T11:54:12.171100Z"
    }
   },
   "outputs": [],
   "source": [
    "y_xbc_ft = optimal_model_xgb.predict(X_test_tfidf_ft)"
   ]
  },
  {
   "cell_type": "code",
   "execution_count": 109,
   "id": "4260ead2",
   "metadata": {
    "ExecuteTime": {
     "end_time": "2022-11-15T11:54:12.748776Z",
     "start_time": "2022-11-15T11:54:12.410055Z"
    }
   },
   "outputs": [
    {
     "data": {
      "image/png": "[encoded data removed]",
      "text/plain": [
       "<Figure size 640x480 with 2 Axes>"
      ]
     },
     "metadata": {},
     "output_type": "display_data"
    }
   ],
   "source": [
    "plot_confusion_matrix(halving_cv_xgb, X_test_tfidf_ft, y_test_tfidf_ft)  \n",
    "plt.show()"
   ]
  },
  {
   "cell_type": "code",
   "execution_count": 110,
   "id": "aae3764d",
   "metadata": {
    "ExecuteTime": {
     "end_time": "2022-11-15T11:54:12.827211Z",
     "start_time": "2022-11-15T11:54:12.751215Z"
    }
   },
   "outputs": [
    {
     "name": "stdout",
     "output_type": "stream",
     "text": [
      "              precision    recall  f1-score   support\n",
      "\n",
      "           0       0.81      0.77      0.79     14978\n",
      "           1       0.81      0.85      0.83     17467\n",
      "\n",
      "    accuracy                           0.81     32445\n",
      "   macro avg       0.81      0.81      0.81     32445\n",
      "weighted avg       0.81      0.81      0.81     32445\n",
      "\n"
     ]
    }
   ],
   "source": [
    "print(classification_report(y_test_tfidf_ft, y_xbc_ft))"
   ]
  },
  {
   "cell_type": "code",
   "execution_count": 111,
   "id": "03997bc2",
   "metadata": {
    "ExecuteTime": {
     "end_time": "2022-11-15T11:54:12.947677Z",
     "start_time": "2022-11-15T11:54:12.839830Z"
    }
   },
   "outputs": [
    {
     "data": {
      "image/png": "[encoded data removed]",
      "text/plain": [
       "<Figure size 640x480 with 1 Axes>"
      ]
     },
     "metadata": {},
     "output_type": "display_data"
    }
   ],
   "source": [
    "fpr, tpr, _ = metrics.roc_curve(y_test_tfidf_ft,  y_xbc_ft)\n",
    "auc = metrics.roc_auc_score(y_test_tfidf_ft, y_xbc_ft)\n",
    "\n",
    "plt.plot(fpr,tpr,label=\"AUC=\"+str(auc))\n",
    "plt.ylabel('True Positive Rate')\n",
    "plt.xlabel('False Positive Rate')\n",
    "plt.legend()\n",
    "plt.show()"
   ]
  },
  {
   "cell_type": "code",
   "execution_count": null,
   "id": "b20e5bee",
   "metadata": {},
   "outputs": [],
   "source": []
  }
 ],
 "metadata": {
  "kernelspec": {
   "display_name": "Python 3 (ipykernel)",
   "language": "python",
   "name": "python3"
  },
  "language_info": {
   "codemirror_mode": {
    "name": "ipython",
    "version": 3
   },
   "file_extension": ".py",
   "mimetype": "text/x-python",
   "name": "python",
   "nbconvert_exporter": "python",
   "pygments_lexer": "ipython3",
   "version": "3.10.6"
  },
  "toc": {
   "base_numbering": 1,
   "nav_menu": {},
   "number_sections": true,
   "sideBar": true,
   "skip_h1_title": false,
   "title_cell": "Table of Contents",
   "title_sidebar": "Contents",
   "toc_cell": false,
   "toc_position": {
    "height": "calc(100% - 180px)",
    "left": "10px",
    "top": "150px",
    "width": "165px"
   },
   "toc_section_display": true,
   "toc_window_display": true
  }
 },
 "nbformat": 4,
 "nbformat_minor": 5
}
